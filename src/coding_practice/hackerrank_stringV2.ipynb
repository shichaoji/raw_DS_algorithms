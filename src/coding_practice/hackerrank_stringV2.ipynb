{
 "cells": [
  {
   "cell_type": "markdown",
   "metadata": {},
   "source": [
    "### Funny String   \n",
    "https://www.hackerrank.com/challenges/funny-string/problem"
   ]
  },
  {
   "cell_type": "code",
   "execution_count": 3,
   "metadata": {
    "collapsed": true
   },
   "outputs": [],
   "source": [
    "def funnyString(s):\n",
    "    r=s[::-1]\n",
    "    for i in range(len(s)-1):\n",
    "        if abs(ord(s[i+1])-ord(s[i]))!=abs(ord(r[i+1])-ord(r[i])):\n",
    "            return 'Not Funny'\n",
    "    return 'Funny'"
   ]
  },
  {
   "cell_type": "code",
   "execution_count": 10,
   "metadata": {
    "collapsed": true
   },
   "outputs": [],
   "source": [
    "def funnyString(s):\n",
    "\n",
    "    diff = lambda x:[abs(ord(a)-ord(b)) for a,b in zip(x, x[1:])]\n",
    "    return 'Funny' if diff(s)==diff(s[::-1]) else 'Not Funny'\n"
   ]
  },
  {
   "cell_type": "code",
   "execution_count": 11,
   "metadata": {},
   "outputs": [
    {
     "data": {
      "text/plain": [
       "('Funny', 'Not Funny')"
      ]
     },
     "execution_count": 11,
     "metadata": {},
     "output_type": "execute_result"
    }
   ],
   "source": [
    "funnyString('acxz'), funnyString('bcxz')"
   ]
  },
  {
   "cell_type": "code",
   "execution_count": 12,
   "metadata": {},
   "outputs": [
    {
     "data": {
      "text/plain": [
       "[97, 99, 120, 122]"
      ]
     },
     "execution_count": 12,
     "metadata": {},
     "output_type": "execute_result"
    }
   ],
   "source": [
    "map(ord, 'acxz')"
   ]
  },
  {
   "cell_type": "code",
   "execution_count": 13,
   "metadata": {},
   "outputs": [
    {
     "data": {
      "text/plain": [
       "[(1, 2), (2, 3)]"
      ]
     },
     "execution_count": 13,
     "metadata": {},
     "output_type": "execute_result"
    }
   ],
   "source": [
    "zip([1,2,3],[2,3])"
   ]
  },
  {
   "cell_type": "markdown",
   "metadata": {},
   "source": [
    "___"
   ]
  },
  {
   "cell_type": "markdown",
   "metadata": {},
   "source": [
    "https://www.hackerrank.com/challenges/gem-stones/problem\n",
    "\n",
    "### Gemstones"
   ]
  },
  {
   "cell_type": "code",
   "execution_count": 20,
   "metadata": {
    "collapsed": true
   },
   "outputs": [],
   "source": [
    "arr=['abcdde', 'baccd', 'eeabg']"
   ]
  },
  {
   "cell_type": "code",
   "execution_count": 21,
   "metadata": {
    "scrolled": true
   },
   "outputs": [
    {
     "data": {
      "text/plain": [
       "[{'a', 'b', 'c', 'd', 'e'}, {'a', 'b', 'c', 'd'}, {'a', 'b', 'e', 'g'}]"
      ]
     },
     "execution_count": 21,
     "metadata": {},
     "output_type": "execute_result"
    }
   ],
   "source": [
    "map(lambda x: set(list(x)), arr)"
   ]
  },
  {
   "cell_type": "code",
   "execution_count": 26,
   "metadata": {},
   "outputs": [
    {
     "data": {
      "text/plain": [
       "{'a', 'b'}"
      ]
     },
     "execution_count": 26,
     "metadata": {},
     "output_type": "execute_result"
    }
   ],
   "source": [
    "reduce(lambda x,y: x&y, map(lambda x: set(list(x)), arr))"
   ]
  },
  {
   "cell_type": "code",
   "execution_count": 27,
   "metadata": {
    "collapsed": true
   },
   "outputs": [],
   "source": [
    "def gemstones(arr):\n",
    "    return len(reduce(lambda x,y: x&y, map(lambda x: set(list(x)), arr)))"
   ]
  },
  {
   "cell_type": "code",
   "execution_count": 29,
   "metadata": {},
   "outputs": [
    {
     "name": "stdout",
     "output_type": "stream",
     "text": [
      "The slowest run took 4.06 times longer than the fastest. This could mean that an intermediate result is being cached.\n",
      "100000 loops, best of 3: 3.7 µs per loop\n"
     ]
    }
   ],
   "source": [
    "%%timeit\n",
    "gemstones(arr)"
   ]
  },
  {
   "cell_type": "code",
   "execution_count": 40,
   "metadata": {
    "collapsed": true
   },
   "outputs": [],
   "source": [
    "def gemstones2(arr):\n",
    "    count=0\n",
    "    for i in set(arr[0]):\n",
    "        flag=1\n",
    "        for rem in arr[1:]:\n",
    "            if i not in rem:\n",
    "                flag=0\n",
    "                continue\n",
    "        if flag: count+=1\n",
    "    return count"
   ]
  },
  {
   "cell_type": "code",
   "execution_count": 41,
   "metadata": {},
   "outputs": [
    {
     "name": "stdout",
     "output_type": "stream",
     "text": [
      "The slowest run took 4.17 times longer than the fastest. This could mean that an intermediate result is being cached.\n",
      "100000 loops, best of 3: 2.17 µs per loop\n"
     ]
    }
   ],
   "source": [
    "%%timeit\n",
    "gemstones2(arr)"
   ]
  },
  {
   "cell_type": "markdown",
   "metadata": {},
   "source": [
    "https://www.hackerrank.com/challenges/alternating-characters/problem\n",
    "### Alternating Characters \n"
   ]
  },
  {
   "cell_type": "code",
   "execution_count": 42,
   "metadata": {
    "collapsed": true
   },
   "outputs": [],
   "source": [
    "def alternatingCharacters(s):\n",
    "    pointer=s[0]\n",
    "    count=0\n",
    "    for i in s[1:]:\n",
    "        if i==pointer:\n",
    "            count+=1\n",
    "        else:\n",
    "            pointer=i\n",
    "    return count"
   ]
  },
  {
   "cell_type": "code",
   "execution_count": 43,
   "metadata": {
    "collapsed": true
   },
   "outputs": [],
   "source": [
    "def alternatingCharacters(s):\n",
    "    return sum(1 for c1, c2 in zip(s, s[1:]) if c1 == c2)"
   ]
  },
  {
   "cell_type": "markdown",
   "metadata": {},
   "source": [
    "https://www.hackerrank.com/challenges/beautiful-binary-string/problem\n",
    "### Beautiful Binary String\n"
   ]
  },
  {
   "cell_type": "code",
   "execution_count": 61,
   "metadata": {
    "collapsed": true
   },
   "outputs": [],
   "source": [
    "s='0101010101010'"
   ]
  },
  {
   "cell_type": "code",
   "execution_count": 59,
   "metadata": {},
   "outputs": [
    {
     "data": {
      "text/plain": [
       "[0, 2, 4, 6, 8, 10]"
      ]
     },
     "execution_count": 59,
     "metadata": {},
     "output_type": "execute_result"
    }
   ],
   "source": [
    "c=[]\n",
    "for i in range(len(s)-2):\n",
    "    if s[i:i+3]=='010':\n",
    "        c.append(i)\n",
    "c"
   ]
  },
  {
   "cell_type": "code",
   "execution_count": 60,
   "metadata": {},
   "outputs": [
    {
     "data": {
      "text/plain": [
       "[2, 2, 2, 2, 2]"
      ]
     },
     "execution_count": 60,
     "metadata": {},
     "output_type": "execute_result"
    }
   ],
   "source": [
    "[j-i for i, j in zip(c,c[1:])]"
   ]
  },
  {
   "cell_type": "code",
   "execution_count": 62,
   "metadata": {
    "collapsed": true
   },
   "outputs": [],
   "source": [
    "def beautifulBinaryString(b):\n",
    "\n",
    "    return b.count('010')"
   ]
  },
  {
   "cell_type": "code",
   "execution_count": 73,
   "metadata": {
    "collapsed": true
   },
   "outputs": [],
   "source": [
    "def beautifulBinaryString(s):\n",
    "    count=0\n",
    "    i=3\n",
    "    while i<=len(s):\n",
    "        if s[i-3:i]=='010':\n",
    "            count+=1\n",
    "            i+=3\n",
    "        else:\n",
    "            i+=1\n",
    "    return count"
   ]
  },
  {
   "cell_type": "code",
   "execution_count": 74,
   "metadata": {},
   "outputs": [
    {
     "data": {
      "text/plain": [
       "3"
      ]
     },
     "execution_count": 74,
     "metadata": {},
     "output_type": "execute_result"
    }
   ],
   "source": [
    "beautifulBinaryString(s)"
   ]
  },
  {
   "cell_type": "markdown",
   "metadata": {},
   "source": [
    "https://www.hackerrank.com/challenges/the-love-letter-mystery/problem\n",
    "### The Love-Letter Mystery\n"
   ]
  },
  {
   "cell_type": "code",
   "execution_count": 75,
   "metadata": {
    "collapsed": true
   },
   "outputs": [],
   "source": [
    "s='abcd'"
   ]
  },
  {
   "cell_type": "code",
   "execution_count": 113,
   "metadata": {
    "collapsed": true
   },
   "outputs": [],
   "source": [
    "def theLoveLetterMystery(s):\n",
    "    n=len(s)\n",
    "    m=int(round(n/2.0))\n",
    "    count=0\n",
    "    for i in range(m):\n",
    "        count+= abs(ord(s[i]) - ord(s[n-i-1]))\n",
    "\n",
    "    return count"
   ]
  },
  {
   "cell_type": "code",
   "execution_count": 117,
   "metadata": {
    "collapsed": true
   },
   "outputs": [],
   "source": [
    "def theLoveLetterMystery(s):\n",
    "    count=0\n",
    "    for i in range(len(s)/2):\n",
    "        count+= abs(ord(s[i]) - ord(s[-i-1]))\n",
    "\n",
    "    return count"
   ]
  },
  {
   "cell_type": "code",
   "execution_count": 118,
   "metadata": {},
   "outputs": [
    {
     "data": {
      "text/plain": [
       "4"
      ]
     },
     "execution_count": 118,
     "metadata": {},
     "output_type": "execute_result"
    }
   ],
   "source": [
    "theLoveLetterMystery(s)"
   ]
  },
  {
   "cell_type": "code",
   "execution_count": 86,
   "metadata": {},
   "outputs": [
    {
     "data": {
      "text/plain": [
       "2.0"
      ]
     },
     "execution_count": 86,
     "metadata": {},
     "output_type": "execute_result"
    }
   ],
   "source": [
    "round(1.6,0)"
   ]
  },
  {
   "cell_type": "markdown",
   "metadata": {},
   "source": [
    "https://www.hackerrank.com/challenges/palindrome-index/problem\n",
    "### Palindrome Index"
   ]
  },
  {
   "cell_type": "code",
   "execution_count": 214,
   "metadata": {
    "collapsed": true
   },
   "outputs": [],
   "source": [
    "s='aaab'"
   ]
  },
  {
   "cell_type": "code",
   "execution_count": 269,
   "metadata": {
    "collapsed": true
   },
   "outputs": [],
   "source": [
    "# def palindromeIndex(s):\n",
    "    \n",
    "#     c=1\n",
    "#     for i in range(len(s)/2):\n",
    "#         if s[i] != s[-i-1]:\n",
    "#             c=0\n",
    "#             break\n",
    "#     if c:\n",
    "#         return -1\n",
    "    \n",
    "#     for i in range(len(s)):\n",
    "#         tmp=s[:i]+s[i+1:]\n",
    "        \n",
    "#         f=1\n",
    "#         for j in range(len(tmp)/2):\n",
    "#             if tmp[j]!=tmp[-j-1]:\n",
    "#                 f=0\n",
    "#                 break\n",
    "#         if f:\n",
    "#             return i"
   ]
  },
  {
   "cell_type": "code",
   "execution_count": 216,
   "metadata": {},
   "outputs": [
    {
     "data": {
      "text/plain": [
       "3"
      ]
     },
     "execution_count": 216,
     "metadata": {},
     "output_type": "execute_result"
    }
   ],
   "source": [
    "palindromeIndex(s)"
   ]
  },
  {
   "cell_type": "code",
   "execution_count": 257,
   "metadata": {
    "collapsed": true
   },
   "outputs": [],
   "source": [
    "def palindromeIndex(s):\n",
    "    \n",
    "    judge=lambda x: x[:len(x)/2]==x[len(x)/2+len(x)%2:][::-1]\n",
    "    \n",
    "    if judge(s): return -1\n",
    "    \n",
    "    for i in range(len(s)):\n",
    "        tmp=s[:i]+s[i+1:]\n",
    "        \n",
    "#         print tmp\n",
    "#         print judge(tmp)\n",
    "        if judge(tmp): return i\n",
    "    \n",
    "    return -1\n"
   ]
  },
  {
   "cell_type": "code",
   "execution_count": 267,
   "metadata": {
    "collapsed": true
   },
   "outputs": [],
   "source": [
    "s='abcba'"
   ]
  },
  {
   "cell_type": "code",
   "execution_count": 268,
   "metadata": {},
   "outputs": [
    {
     "data": {
      "text/plain": [
       "-1"
      ]
     },
     "execution_count": 268,
     "metadata": {},
     "output_type": "execute_result"
    }
   ],
   "source": [
    "palindromeIndex(s)"
   ]
  },
  {
   "cell_type": "code",
   "execution_count": 260,
   "metadata": {
    "collapsed": true
   },
   "outputs": [],
   "source": [
    "judge=lambda x: x[:len(x)/2]==x[len(x)/2:-1]"
   ]
  },
  {
   "cell_type": "code",
   "execution_count": 261,
   "metadata": {},
   "outputs": [
    {
     "data": {
      "text/plain": [
       "False"
      ]
     },
     "execution_count": 261,
     "metadata": {},
     "output_type": "execute_result"
    }
   ],
   "source": [
    "judge('aba')"
   ]
  },
  {
   "cell_type": "code",
   "execution_count": 262,
   "metadata": {
    "collapsed": true
   },
   "outputs": [],
   "source": [
    "s='aaab'"
   ]
  },
  {
   "cell_type": "code",
   "execution_count": 263,
   "metadata": {},
   "outputs": [
    {
     "data": {
      "text/plain": [
       "'aa'"
      ]
     },
     "execution_count": 263,
     "metadata": {},
     "output_type": "execute_result"
    }
   ],
   "source": [
    "s[:len(s)/2]"
   ]
  },
  {
   "cell_type": "code",
   "execution_count": 264,
   "metadata": {},
   "outputs": [
    {
     "data": {
      "text/plain": [
       "'ba'"
      ]
     },
     "execution_count": 264,
     "metadata": {},
     "output_type": "execute_result"
    }
   ],
   "source": [
    "s[len(s)/2+len(s)%2:][::-1]"
   ]
  },
  {
   "cell_type": "code",
   "execution_count": 265,
   "metadata": {
    "collapsed": true
   },
   "outputs": [],
   "source": [
    "s='abc'"
   ]
  },
  {
   "cell_type": "code",
   "execution_count": 266,
   "metadata": {},
   "outputs": [
    {
     "data": {
      "text/plain": [
       "('a', 'c')"
      ]
     },
     "execution_count": 266,
     "metadata": {},
     "output_type": "execute_result"
    }
   ],
   "source": [
    "s[:len(s)/2], s[len(s)/2+len(s)%2:]"
   ]
  },
  {
   "cell_type": "markdown",
   "metadata": {},
   "source": [
    "___\n",
    "https://www.hackerrank.com/challenges/anagram/problem\n",
    "\n",
    "### Anagram"
   ]
  },
  {
   "cell_type": "code",
   "execution_count": 284,
   "metadata": {
    "collapsed": true
   },
   "outputs": [],
   "source": [
    "def anagram(s):\n",
    "    n=len(s)\n",
    "    if n%2==1:\n",
    "        return -1\n",
    "    a,b=s[:n/2], s[n/2:]\n",
    "    b=list(b)\n",
    "    c=0\n",
    "    for i in a:\n",
    "        try:\n",
    "            b.remove(i)\n",
    "        except:\n",
    "            c+=1\n",
    "    return c"
   ]
  },
  {
   "cell_type": "code",
   "execution_count": 285,
   "metadata": {
    "collapsed": true
   },
   "outputs": [],
   "source": [
    "s='xaxbbbxx'"
   ]
  },
  {
   "cell_type": "code",
   "execution_count": 286,
   "metadata": {},
   "outputs": [
    {
     "data": {
      "text/plain": [
       "1"
      ]
     },
     "execution_count": 286,
     "metadata": {},
     "output_type": "execute_result"
    }
   ],
   "source": [
    "anagram(s)"
   ]
  },
  {
   "cell_type": "markdown",
   "metadata": {},
   "source": [
    "___\n",
    "https://www.hackerrank.com/challenges/game-of-thrones/problem\n",
    "### Game of Thrones - I\n"
   ]
  },
  {
   "cell_type": "code",
   "execution_count": 287,
   "metadata": {
    "collapsed": true
   },
   "outputs": [],
   "source": [
    "def gameOfThrones(s):\n",
    "    n=len(s)\n",
    "    m=set(s)\n",
    "    flag = sum([s.count(i)%2==1 for i in m])\n",
    "    if n%2==1:\n",
    "        flag-=1\n",
    "    return \"NO\" if flag>0 else \"YES\""
   ]
  },
  {
   "cell_type": "code",
   "execution_count": 295,
   "metadata": {
    "collapsed": true
   },
   "outputs": [],
   "source": [
    "s='cdcdcdcdeeeef'"
   ]
  },
  {
   "cell_type": "code",
   "execution_count": 298,
   "metadata": {
    "collapsed": true
   },
   "outputs": [],
   "source": [
    "def count(s):\n",
    "    ct={}\n",
    "    for i in s:\n",
    "        try:\n",
    "            ct[i]+=1\n",
    "        except:\n",
    "            ct[i]=0\n",
    "    return ct"
   ]
  },
  {
   "cell_type": "code",
   "execution_count": 299,
   "metadata": {},
   "outputs": [
    {
     "data": {
      "text/plain": [
       "{'c': 3, 'd': 3, 'e': 3, 'f': 0}"
      ]
     },
     "execution_count": 299,
     "metadata": {},
     "output_type": "execute_result"
    }
   ],
   "source": [
    "count(s)"
   ]
  },
  {
   "cell_type": "markdown",
   "metadata": {},
   "source": [
    "https://www.hackerrank.com/challenges/two-strings/problem\n",
    "### Two Strings\n"
   ]
  },
  {
   "cell_type": "code",
   "execution_count": 301,
   "metadata": {
    "collapsed": true
   },
   "outputs": [],
   "source": [
    "def twoStrings(s1, s2):\n",
    "    s1 = set(s1)\n",
    "    for i in s1:\n",
    "        if i in s2:\n",
    "            return 'YES'\n",
    "    return 'NO'"
   ]
  },
  {
   "cell_type": "markdown",
   "metadata": {},
   "source": [
    "https://www.hackerrank.com/challenges/string-construction/problem\n",
    "\n",
    "### String Construction "
   ]
  },
  {
   "cell_type": "code",
   "execution_count": 307,
   "metadata": {},
   "outputs": [
    {
     "data": {
      "text/plain": [
       "float"
      ]
     },
     "execution_count": 307,
     "metadata": {},
     "output_type": "execute_result"
    }
   ],
   "source": [
    "type(6/3.0)"
   ]
  },
  {
   "cell_type": "code",
   "execution_count": 313,
   "metadata": {},
   "outputs": [
    {
     "data": {
      "text/plain": [
       "True"
      ]
     },
     "execution_count": 313,
     "metadata": {},
     "output_type": "execute_result"
    }
   ],
   "source": [
    "1.0.is_integer()"
   ]
  },
  {
   "cell_type": "markdown",
   "metadata": {},
   "source": [
    "https://www.hackerrank.com/challenges/sherlock-and-valid-string/problem\n",
    "### Sherlock and the Valid String"
   ]
  },
  {
   "cell_type": "code",
   "execution_count": 363,
   "metadata": {
    "collapsed": true
   },
   "outputs": [],
   "source": [
    "def isValid(s):\n",
    "    t=set(s)\n",
    "    j=[s.count(i) for i in t]\n",
    "    m=max(set(j), key=j.count)\n",
    "    print j, m\n",
    "    if float(sum(j))/len(j)==m or (float(sum(j)-1)/len(j)==m or float(sum(j)-1)/(len(j)-1))==m:\n",
    "        return \"YES\"\n",
    "    return 'NO'\n",
    "    "
   ]
  },
  {
   "cell_type": "code",
   "execution_count": 364,
   "metadata": {
    "collapsed": true
   },
   "outputs": [],
   "source": [
    "s='xxxaabbccrry'"
   ]
  },
  {
   "cell_type": "code",
   "execution_count": 365,
   "metadata": {},
   "outputs": [
    {
     "name": "stdout",
     "output_type": "stream",
     "text": [
      "[2, 2, 2, 2, 1, 3] 2\n"
     ]
    },
    {
     "data": {
      "text/plain": [
       "'YES'"
      ]
     },
     "execution_count": 365,
     "metadata": {},
     "output_type": "execute_result"
    }
   ],
   "source": [
    "isValid(s)"
   ]
  },
  {
   "cell_type": "code",
   "execution_count": 366,
   "metadata": {
    "collapsed": true
   },
   "outputs": [],
   "source": [
    "l=[5,1,1]"
   ]
  },
  {
   "cell_type": "code",
   "execution_count": 367,
   "metadata": {},
   "outputs": [
    {
     "data": {
      "text/plain": [
       "1"
      ]
     },
     "execution_count": 367,
     "metadata": {},
     "output_type": "execute_result"
    }
   ],
   "source": [
    "max(set(l), key=l.count)"
   ]
  },
  {
   "cell_type": "code",
   "execution_count": 393,
   "metadata": {
    "collapsed": true
   },
   "outputs": [],
   "source": [
    "s='ibfdgaeadiaefgbhbdghhhbgdfgeiccbiehhfcggchgghadhdhagfbahhddgghbdehidbibaeaagaeeigffcebfbaieggabcfbiiedcabfihchdfabifahcbhagccbdfifhghcadfiadeeaheeddddiecaicbgigccageicehfdhdgafaddhffadigfhhcaedcedecafeacbdacgfgfeeibgaiffdehigebhhehiaahfidibccdcdagifgaihacihadecgifihbebffebdfbchbgigeccahgihbcbcaggebaaafgfedbfgagfediddghdgbgehhhifhgcedechahidcbchebheihaadbbbiaiccededchdagfhccfdefigfibifabeiaccghcegfbcghaefifbachebaacbhbfgfddeceababbacgffbagidebeadfihaefefegbghgddbbgddeehgfbhafbccidebgehifafgbghafacgfdccgifdcbbbidfifhdaibgigebigaedeaaiadegfefbhacgddhchgcbgcaeaieiegiffchbgbebgbehbbfcebciiagacaiechdigbgbghefcahgbhfibhedaeeiffebdiabcifgccdefabccdghehfibfiifdaicfedagahhdcbhbicdgibgcedieihcichadgchgbdcdagaihebbabhibcihicadgadfcihdheefbhffiageddhgahaidfdhhdbgciiaciegchiiebfbcbhaeagccfhbfhaddagnfieihghfbaggiffbbfbecgaiiidccdceadbbdfgigibgcgchafccdchgifdeieicbaididhfcfdedbhaadedfageigfdehgcdaecaebebebfcieaecfagfdieaefdiedbcadchabhebgehiidfcgahcdhcdhgchhiiheffiifeegcfdgbdeffhgeghdfhbfbifgidcafbfcd'"
   ]
  },
  {
   "cell_type": "code",
   "execution_count": 413,
   "metadata": {
    "collapsed": true
   },
   "outputs": [],
   "source": [
    "s='aabbcd'"
   ]
  },
  {
   "cell_type": "code",
   "execution_count": 416,
   "metadata": {
    "collapsed": true
   },
   "outputs": [],
   "source": [
    "def isValid(s):\n",
    "    t=set(s)\n",
    "    j=[s.count(i) for i in t]\n",
    "    \n",
    "    flag=0\n",
    "    try:\n",
    "        j.remove(1)\n",
    "        flag=1\n",
    "    except:\n",
    "        pass\n",
    "    \n",
    "    m=[abs(j[0]-i) for i in j[1:]]\n",
    "    print j\n",
    "    print m\n",
    "    if flag and sum(m)==0:\n",
    "        return 'YES'\n",
    "    elif not flag and sum(m)<2:\n",
    "        return 'YES'\n",
    "    return 'NO'"
   ]
  },
  {
   "cell_type": "code",
   "execution_count": 417,
   "metadata": {},
   "outputs": [
    {
     "name": "stdout",
     "output_type": "stream",
     "text": [
      "[2, 2, 1]\n",
      "[0, 1]\n"
     ]
    },
    {
     "data": {
      "text/plain": [
       "'NO'"
      ]
     },
     "execution_count": 417,
     "metadata": {},
     "output_type": "execute_result"
    }
   ],
   "source": [
    "isValid(s)"
   ]
  },
  {
   "cell_type": "code",
   "execution_count": 418,
   "metadata": {},
   "outputs": [
    {
     "name": "stdout",
     "output_type": "stream",
     "text": [
      "asdsa\n",
      "YES\n"
     ]
    }
   ],
   "source": [
    "def check(A):\n",
    "    s = set(A)\n",
    "    if 0 in s:\n",
    "        s.remove(0)\n",
    "    return len(s) == 1\n",
    "def solve(s):\n",
    "    A = [0]*26\n",
    "    for x in s:\n",
    "        A[ord(x)-97] += 1\n",
    "    if check(A):\n",
    "        return \"YES\"\n",
    "    for i in xrange(26):\n",
    "        t = chr(i+97)\n",
    "        A[i] -= 1\n",
    "        if check(A):\n",
    "            return \"YES\"\n",
    "        A[i] += 1\n",
    "    return \"NO\"\n",
    "    \n",
    "s =  raw_input()\n",
    "\n",
    "print solve(s)"
   ]
  },
  {
   "cell_type": "markdown",
   "metadata": {
    "collapsed": true
   },
   "source": [
    "___\n",
    "https://www.hackerrank.com/challenges/richie-rich/problem\n",
    "\n",
    "### Highest Value Palindrome"
   ]
  },
  {
   "cell_type": "code",
   "execution_count": 419,
   "metadata": {
    "collapsed": true
   },
   "outputs": [],
   "source": [
    "def highestValuePalindrome(s, n, k):\n",
    "    n=len(s)\n",
    "    a,b=list(s[:n/2]), list(s[n/2+n%2:][::-1])\n",
    "    print a,b\n",
    "    \n",
    "    change=0\n",
    "    for i in range(len(a)):\n",
    "        if a[i]!=b[i]:\n",
    "            change+=1\n",
    "            a[i]=str(max([int(a[i]), int(b[i])]))\n",
    "            \n",
    "    print k,change        \n",
    "    print k-change\n",
    "    \n",
    "    if change<=k:\n",
    "        pass\n",
    "    else:\n",
    "        return str(-1)\n",
    "        \n",
    "    return ''.join(a+a[::-1])"
   ]
  },
  {
   "cell_type": "code",
   "execution_count": 421,
   "metadata": {},
   "outputs": [],
   "source": [
    "s='092282';k=3"
   ]
  },
  {
   "cell_type": "code",
   "execution_count": 488,
   "metadata": {
    "collapsed": true
   },
   "outputs": [],
   "source": [
    "s='0011';k=1"
   ]
  },
  {
   "cell_type": "code",
   "execution_count": 493,
   "metadata": {
    "collapsed": true
   },
   "outputs": [],
   "source": [
    "s='777';k=0"
   ]
  },
  {
   "cell_type": "code",
   "execution_count": 505,
   "metadata": {
    "collapsed": true
   },
   "outputs": [],
   "source": [
    "s='3943';k=1"
   ]
  },
  {
   "cell_type": "code",
   "execution_count": 512,
   "metadata": {
    "collapsed": true
   },
   "outputs": [],
   "source": [
    "s='5';k=1"
   ]
  },
  {
   "cell_type": "code",
   "execution_count": 521,
   "metadata": {
    "collapsed": true
   },
   "outputs": [],
   "source": [
    "s='932239';k=2"
   ]
  },
  {
   "cell_type": "code",
   "execution_count": 546,
   "metadata": {},
   "outputs": [],
   "source": [
    "def highestValuePalindrome(s, n, k):\n",
    "    n=len(s)\n",
    "    a,b=list(s[:n/2]), list(s[n/2+n%2:][::-1])\n",
    "    if n%2==1:\n",
    "        middle=int(s[n/2])\n",
    "    else:\n",
    "        middle=None\n",
    "    \n",
    "    a,b=map(int,a), map(int,b)\n",
    "    pair = zip(a,b)\n",
    "    flag =  [(i==j)*(-2)+1 for i,j in pair]\n",
    "    cont =  [max([i,j]) for i,j in pair]\n",
    "    \n",
    "    table = [i*j for i,j in zip(flag,cont)]\n",
    "    \n",
    "    need = sum([i>=0 for i in table])\n",
    "    diff=k-need\n",
    "    \n",
    "    \n",
    "    if diff<0:\n",
    "        return str(-1)\n",
    "    \n",
    "    print diff\n",
    "    while diff>0:\n",
    "        sm=0\n",
    "        for ind in range(len(table)):\n",
    "            if table[sm] > table[ind] and table[ind]>0:\n",
    "                sm=ind\n",
    "    \n",
    "        table[sm]=9\n",
    "        diff-=1     \n",
    "        print table\n",
    "        print diff\n",
    "    \n",
    "    \n",
    "    table = map(abs,table)     \n",
    "    if middle:\n",
    "        final=table+[middle]+table[::-1]\n",
    "    else:\n",
    "        final=table+table[::-1]\n",
    "        \n",
    "    final=map(str,final)\n",
    "    return ''.join(final)"
   ]
  },
  {
   "cell_type": "code",
   "execution_count": 547,
   "metadata": {},
   "outputs": [
    {
     "name": "stdout",
     "output_type": "stream",
     "text": [
      "2\n",
      "[9, -3, -2]\n",
      "1\n",
      "[9, -3, -2]\n",
      "0\n"
     ]
    },
    {
     "data": {
      "text/plain": [
       "'932239'"
      ]
     },
     "execution_count": 547,
     "metadata": {},
     "output_type": "execute_result"
    }
   ],
   "source": [
    "highestValuePalindrome(s,None,k)"
   ]
  },
  {
   "cell_type": "code",
   "execution_count": 504,
   "metadata": {},
   "outputs": [
    {
     "data": {
      "text/plain": [
       "['1', '2', '']"
      ]
     },
     "execution_count": 504,
     "metadata": {},
     "output_type": "execute_result"
    }
   ],
   "source": [
    "['1','2']+['']"
   ]
  },
  {
   "cell_type": "code",
   "execution_count": 508,
   "metadata": {
    "collapsed": true
   },
   "outputs": [],
   "source": [
    "if None:print 3"
   ]
  },
  {
   "cell_type": "code",
   "execution_count": 557,
   "metadata": {
    "collapsed": true
   },
   "outputs": [],
   "source": [
    "def highestValuePalindrome(pl, n, k):\n",
    "    n=len(pl)\n",
    "    pl=list(pl)\n",
    "\n",
    "    l,r = 0,n-1\n",
    "    taken = set()\n",
    "    while l < r:\n",
    "        if pl[l] != pl[r]:\n",
    "            nw = max(pl[l],pl[r])\n",
    "            taken.add(l)\n",
    "            pl[l] = nw\n",
    "            pl[r] = nw\n",
    "            k -= 1\n",
    "        l +=1\n",
    "        r -=1\n",
    "\n",
    "\n",
    "    if k < 0:\n",
    "        print -1\n",
    "\n",
    "    else:\n",
    "        l,r = 0,n-1\n",
    "        while l <= r:\n",
    "            cst = 2\n",
    "            if l in taken or l==r: cst = 1\n",
    "            if cst <= k and pl[l] != \"9\":\n",
    "                pl[l] = \"9\"\n",
    "                pl[r] = \"9\"\n",
    "                k -= cst\n",
    "            l += 1\n",
    "            r -= 1\n",
    "\n",
    "        print \"\".join(pl)"
   ]
  },
  {
   "cell_type": "code",
   "execution_count": 558,
   "metadata": {
    "collapsed": true
   },
   "outputs": [],
   "source": [
    "s='932239';k=2"
   ]
  },
  {
   "cell_type": "code",
   "execution_count": 559,
   "metadata": {},
   "outputs": [
    {
     "name": "stdout",
     "output_type": "stream",
     "text": [
      "992299\n"
     ]
    }
   ],
   "source": [
    "highestValuePalindrome(s,None,k)"
   ]
  },
  {
   "cell_type": "code",
   "execution_count": null,
   "metadata": {
    "collapsed": true
   },
   "outputs": [],
   "source": []
  }
 ],
 "metadata": {
  "kernelspec": {
   "display_name": "Python 2",
   "language": "python",
   "name": "python2"
  },
  "language_info": {
   "codemirror_mode": {
    "name": "ipython",
    "version": 2
   },
   "file_extension": ".py",
   "mimetype": "text/x-python",
   "name": "python",
   "nbconvert_exporter": "python",
   "pygments_lexer": "ipython2",
   "version": "2.7.13"
  }
 },
 "nbformat": 4,
 "nbformat_minor": 2
}
