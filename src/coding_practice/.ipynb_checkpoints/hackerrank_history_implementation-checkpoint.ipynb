{
 "cells": [
  {
   "cell_type": "markdown",
   "metadata": {},
   "source": [
    "### Grading Students\n",
    "https://www.hackerrank.com/challenges/grading/problem"
   ]
  },
  {
   "cell_type": "code",
   "execution_count": 1,
   "metadata": {
    "collapsed": true
   },
   "outputs": [],
   "source": [
    "def solve(grades):\n",
    "    # Complete this function\n",
    "    for i in range(len(grades)):\n",
    "        c=grades[i]\n",
    "        if c>=38:\n",
    "            if c%5>=3:\n",
    "                grades[i]+= 5-c%5\n",
    "                \n",
    "    return grades"
   ]
  },
  {
   "cell_type": "markdown",
   "metadata": {},
   "source": [
    "### Apple and Orange\n"
   ]
  },
  {
   "cell_type": "code",
   "execution_count": 2,
   "metadata": {
    "collapsed": true
   },
   "outputs": [],
   "source": [
    "def countApplesAndOranges(s, t, a, b, apples, oranges):\n",
    "    # Complete this function\n",
    "    print len([i for i in map(lambda x: x+a, apples) if i>=s and i<=t])\n",
    "    print len([i for i in map(lambda x: x+b, oranges) if i>=s and i<=t])"
   ]
  },
  {
   "cell_type": "markdown",
   "metadata": {},
   "source": [
    "### Kangaroo"
   ]
  },
  {
   "cell_type": "code",
   "execution_count": 3,
   "metadata": {
    "collapsed": true
   },
   "outputs": [],
   "source": [
    "def kangaroo(x1, v1, x2, v2):\n",
    "    flag=True\n",
    "    while flag:\n",
    "        x1+=v1\n",
    "        x2+=v2\n",
    "        if x1==x2:\n",
    "            return 'YES'\n",
    "        if x1>x2 or v2>=v1:\n",
    "            return 'NO'\n",
    "    # Complete this function"
   ]
  },
  {
   "cell_type": "markdown",
   "metadata": {},
   "source": [
    "### Between Two Sets\n"
   ]
  },
  {
   "cell_type": "code",
   "execution_count": 4,
   "metadata": {
    "collapsed": true
   },
   "outputs": [],
   "source": [
    "def getTotalX(a, b):\n",
    "    # Complete this function\n",
    "    a.sort()\n",
    "    b.sort()\n",
    "    n=0\n",
    "    for i in range(a[-1],b[0]+1):\n",
    "        if all([i%x==0 for x in a]) and all([x%i==0 for x in b]):\n",
    "            n+=1\n",
    "\n",
    "    return n"
   ]
  },
  {
   "cell_type": "markdown",
   "metadata": {},
   "source": [
    "### Breaking the Records\n"
   ]
  },
  {
   "cell_type": "code",
   "execution_count": 5,
   "metadata": {
    "collapsed": true
   },
   "outputs": [],
   "source": [
    "def breakingRecords(score):\n",
    "    # Complete this function\n",
    "    b=-1\n",
    "    w=float('inf')\n",
    "    m,n=-1,-1\n",
    "    for i in score:\n",
    "        if i>b:\n",
    "            b=i\n",
    "            m+=1\n",
    "        if i<w:\n",
    "            w=i\n",
    "            n+=1\n",
    "    return m,n"
   ]
  },
  {
   "cell_type": "code",
   "execution_count": 6,
   "metadata": {
    "collapsed": true
   },
   "outputs": [],
   "source": [
    "def breakingRecords(score):\n",
    "    b=w=score[0]\n",
    "    m=n=0\n",
    "    for i in score[1:]:\n",
    "        if i>b:\n",
    "            b=i\n",
    "            m+=1\n",
    "        if i<w:\n",
    "            w=i\n",
    "            n+=1\n",
    "    return m,n"
   ]
  },
  {
   "cell_type": "markdown",
   "metadata": {},
   "source": [
    "### Birthday Chocolate\n"
   ]
  },
  {
   "cell_type": "code",
   "execution_count": 7,
   "metadata": {
    "collapsed": true
   },
   "outputs": [],
   "source": [
    "def solve(n, s, d, m):\n",
    "    ans = 0\n",
    "    for i in range(n-m+1):\n",
    "        if (sum(s[i:i+m]) == d):\n",
    "            ans += 1\n",
    "\n",
    "    return ans"
   ]
  },
  {
   "cell_type": "markdown",
   "metadata": {},
   "source": [
    "### Divisible Sum Pairs\n"
   ]
  },
  {
   "cell_type": "code",
   "execution_count": 9,
   "metadata": {
    "collapsed": true
   },
   "outputs": [],
   "source": [
    "def divisibleSumPairs(n, k, ar):\n",
    "    c=0\n",
    "    for ind1, i in enumerate(ar):\n",
    "        for ind2, j in enumerate(ar[ind1+1:]):\n",
    "            if (i+j)%k==0:\n",
    "                c+=1\n",
    "    return c"
   ]
  },
  {
   "cell_type": "markdown",
   "metadata": {},
   "source": [
    "### Migratory Birds\n",
    "https://www.hackerrank.com/challenges/migratory-birds/problem"
   ]
  },
  {
   "cell_type": "code",
   "execution_count": 10,
   "metadata": {
    "collapsed": true
   },
   "outputs": [],
   "source": [
    "def migratoryBirds(n, ar):\n",
    "    ar.sort()\n",
    "    m=0\n",
    "    c=0\n",
    "    v=0\n",
    "    for i in range(1,len(ar)):\n",
    "        if ar[i-1]==ar[i]:\n",
    "            c+=1\n",
    "            if c>m:\n",
    "                m=c\n",
    "                v=ar[i]\n",
    "        else:\n",
    "            c=0\n",
    "    return v"
   ]
  },
  {
   "cell_type": "code",
   "execution_count": null,
   "metadata": {
    "collapsed": true
   },
   "outputs": [],
   "source": []
  }
 ],
 "metadata": {
  "kernelspec": {
   "display_name": "Python 2",
   "language": "python",
   "name": "python2"
  },
  "language_info": {
   "codemirror_mode": {
    "name": "ipython",
    "version": 2
   },
   "file_extension": ".py",
   "mimetype": "text/x-python",
   "name": "python",
   "nbconvert_exporter": "python",
   "pygments_lexer": "ipython2",
   "version": "2.7.13"
  }
 },
 "nbformat": 4,
 "nbformat_minor": 2
}
