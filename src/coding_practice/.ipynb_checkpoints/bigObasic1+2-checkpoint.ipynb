{
 "cells": [
  {
   "cell_type": "markdown",
   "metadata": {},
   "source": [
    "### Time complexity"
   ]
  },
  {
   "cell_type": "code",
   "execution_count": 14,
   "metadata": {
    "collapsed": true
   },
   "outputs": [],
   "source": [
    "#  a+b+c=1000\n",
    "#  a^2+b^2=c^"
   ]
  },
  {
   "cell_type": "code",
   "execution_count": 16,
   "metadata": {},
   "outputs": [
    {
     "name": "stdout",
     "output_type": "stream",
     "text": [
      "a=0, b=500, c=500\n",
      "a=200, b=375, c=425\n",
      "a=375, b=200, c=425\n",
      "a=500, b=0, c=500\n",
      "CPU times: user 1min 47s, sys: 0 ns, total: 1min 47s\n",
      "Wall time: 1min 47s\n"
     ]
    }
   ],
   "source": [
    "%%time\n",
    "for a in range(1001):\n",
    "    for b in range(1001):\n",
    "        for c in range(1001):\n",
    "            if a+b+c==1000 and a**2+b**2==c**2:\n",
    "                print 'a={}, b={}, c={}'.format(a,b,c)"
   ]
  },
  {
   "cell_type": "markdown",
   "metadata": {},
   "source": [
    "* Time complexity \n",
    "    * N=1000\n",
    "      * N^N^N*C = O(N^3)"
   ]
  },
  {
   "cell_type": "code",
   "execution_count": 12,
   "metadata": {},
   "outputs": [
    {
     "name": "stdout",
     "output_type": "stream",
     "text": [
      "a=0, b=500, c=500\n",
      "a=200, b=375, c=425\n",
      "a=375, b=200, c=425\n",
      "a=500, b=0, c=500\n",
      "CPU times: user 252 ms, sys: 4 ms, total: 256 ms\n",
      "Wall time: 249 ms\n"
     ]
    }
   ],
   "source": [
    "%%time\n",
    "for a in range(1001):\n",
    "    for b in range(1001):\n",
    "        if a+b>1000:\n",
    "            continue\n",
    "        else:\n",
    "            c=1000-a-b\n",
    "            if a**2+b**2==c**2:\n",
    "                print 'a={}, b={}, c={}'.format(a,b,c)"
   ]
  },
  {
   "cell_type": "markdown",
   "metadata": {},
   "source": [
    "* O(N^2)"
   ]
  },
  {
   "cell_type": "code",
   "execution_count": 13,
   "metadata": {},
   "outputs": [
    {
     "name": "stdout",
     "output_type": "stream",
     "text": [
      "a=0, b=500, c=500\n",
      "a=200, b=375, c=425\n",
      "a=375, b=200, c=425\n",
      "a=500, b=0, c=500\n",
      "CPU times: user 332 ms, sys: 8 ms, total: 340 ms\n",
      "Wall time: 336 ms\n"
     ]
    }
   ],
   "source": [
    "%%time\n",
    "for a in range(1001):\n",
    "    for b in range(1001):\n",
    "#         if a+b>1000:\n",
    "#             continue\n",
    "#         else:\n",
    "            c=1000-a-b\n",
    "            if a**2+b**2==c**2:\n",
    "                print 'a={}, b={}, c={}'.format(a,b,c)"
   ]
  },
  {
   "cell_type": "markdown",
   "metadata": {
    "collapsed": true
   },
   "source": [
    "___\n",
    "### timeit"
   ]
  },
  {
   "cell_type": "code",
   "execution_count": 23,
   "metadata": {
    "collapsed": true
   },
   "outputs": [],
   "source": [
    "from timeit import Timer"
   ]
  },
  {
   "cell_type": "code",
   "execution_count": 51,
   "metadata": {
    "collapsed": true
   },
   "outputs": [],
   "source": [
    "def test1():\n",
    "    li=[]\n",
    "    for i in range(10000):\n",
    "        li.append(i)\n",
    "        \n",
    "def test2():\n",
    "    li=[]\n",
    "    for i in range(10000):\n",
    "        li=li+[i]\n",
    "#         li+=[i]  \n",
    "\n",
    "def test22():\n",
    "    li=[]\n",
    "    for i in range(10000):\n",
    "#         li=li+[i]\n",
    "        li+=[i]  \n",
    "\n",
    "def test3():\n",
    "    li=[i for i in range(10000)]\n",
    "    \n",
    "def test4():\n",
    "    li=list(range(10000))\n",
    "    \n",
    "def test5():\n",
    "    li=[]\n",
    "    for i in range(10000):\n",
    "        li.extend([i])\n",
    "        \n",
    "def test6():\n",
    "    li=[]\n",
    "    for i in range(10000):\n",
    "        li.insert(0,i)  \n",
    "        \n",
    "def test7():\n",
    "    li=[]\n",
    "    for i in range(10000):\n",
    "        li.insert(-1,i)           "
   ]
  },
  {
   "cell_type": "code",
   "execution_count": 52,
   "metadata": {},
   "outputs": [
    {
     "data": {
      "text/plain": [
       "0.7777280807495117"
      ]
     },
     "execution_count": 52,
     "metadata": {},
     "output_type": "execute_result"
    }
   ],
   "source": [
    "Timer('test1()', 'from __main__ import test1').timeit(1000)"
   ]
  },
  {
   "cell_type": "code",
   "execution_count": 54,
   "metadata": {},
   "outputs": [
    {
     "data": {
      "text/plain": [
       "1.2792160511016846"
      ]
     },
     "execution_count": 54,
     "metadata": {},
     "output_type": "execute_result"
    }
   ],
   "source": [
    "Timer('test22()', 'from __main__ import test22').timeit(1000)"
   ]
  },
  {
   "cell_type": "code",
   "execution_count": 48,
   "metadata": {},
   "outputs": [
    {
     "data": {
      "text/plain": [
       "188.7426528930664"
      ]
     },
     "execution_count": 48,
     "metadata": {},
     "output_type": "execute_result"
    }
   ],
   "source": [
    "Timer('test2()', 'from __main__ import test2').timeit(1000)"
   ]
  },
  {
   "cell_type": "code",
   "execution_count": 35,
   "metadata": {},
   "outputs": [
    {
     "data": {
      "text/plain": [
       "0.3640618324279785"
      ]
     },
     "execution_count": 35,
     "metadata": {},
     "output_type": "execute_result"
    }
   ],
   "source": [
    "Timer('test3()', 'from __main__ import test3').timeit(1000)"
   ]
  },
  {
   "cell_type": "code",
   "execution_count": 36,
   "metadata": {},
   "outputs": [
    {
     "data": {
      "text/plain": [
       "0.12501192092895508"
      ]
     },
     "execution_count": 36,
     "metadata": {},
     "output_type": "execute_result"
    }
   ],
   "source": [
    "Timer('test4()', 'from __main__ import test4').timeit(1000)"
   ]
  },
  {
   "cell_type": "code",
   "execution_count": 41,
   "metadata": {},
   "outputs": [
    {
     "data": {
      "text/plain": [
       "1.4615070819854736"
      ]
     },
     "execution_count": 41,
     "metadata": {},
     "output_type": "execute_result"
    }
   ],
   "source": [
    "Timer('test5()', 'from __main__ import test5').timeit(1000)"
   ]
  },
  {
   "cell_type": "code",
   "execution_count": 43,
   "metadata": {},
   "outputs": [
    {
     "data": {
      "text/plain": [
       "26.170098066329956"
      ]
     },
     "execution_count": 43,
     "metadata": {},
     "output_type": "execute_result"
    }
   ],
   "source": [
    "Timer('test6()', 'from __main__ import test6').timeit(1000)"
   ]
  },
  {
   "cell_type": "code",
   "execution_count": 45,
   "metadata": {},
   "outputs": [
    {
     "data": {
      "text/plain": [
       "2.1245410442352295"
      ]
     },
     "execution_count": 45,
     "metadata": {},
     "output_type": "execute_result"
    }
   ],
   "source": [
    "Timer('test7()', 'from __main__ import test7').timeit(1000)"
   ]
  },
  {
   "cell_type": "code",
   "execution_count": 46,
   "metadata": {},
   "outputs": [
    {
     "data": {
      "text/plain": [
       "[1, 5, 3, 'x', 9, 1, 5, 3, 'x', 9, 1, 5, 3, 'x', 9, 1, 5, 3, 'x', 9]"
      ]
     },
     "execution_count": 46,
     "metadata": {},
     "output_type": "execute_result"
    }
   ],
   "source": [
    "[1,5,3,'x',9]*4"
   ]
  },
  {
   "cell_type": "code",
   "execution_count": null,
   "metadata": {
    "collapsed": true
   },
   "outputs": [],
   "source": []
  }
 ],
 "metadata": {
  "kernelspec": {
   "display_name": "Python 2",
   "language": "python",
   "name": "python2"
  },
  "language_info": {
   "codemirror_mode": {
    "name": "ipython",
    "version": 2
   },
   "file_extension": ".py",
   "mimetype": "text/x-python",
   "name": "python",
   "nbconvert_exporter": "python",
   "pygments_lexer": "ipython2",
   "version": "2.7.13"
  }
 },
 "nbformat": 4,
 "nbformat_minor": 2
}
