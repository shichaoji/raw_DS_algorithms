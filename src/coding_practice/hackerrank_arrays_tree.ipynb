{
 "cells": [
  {
   "cell_type": "markdown",
   "metadata": {},
   "source": [
    "### Arrays - DS\n",
    "\n",
    "https://www.hackerrank.com/challenges/arrays-ds/problem"
   ]
  },
  {
   "cell_type": "code",
   "execution_count": 1,
   "metadata": {
    "collapsed": true
   },
   "outputs": [],
   "source": [
    "def reverseArray(a):\n",
    "    #\n",
    "    # Write your code here.\n",
    "    #\n",
    "    return a[::-1]"
   ]
  },
  {
   "cell_type": "markdown",
   "metadata": {},
   "source": [
    "### 2D Array - DS\n"
   ]
  },
  {
   "cell_type": "code",
   "execution_count": 2,
   "metadata": {
    "collapsed": true
   },
   "outputs": [],
   "source": [
    "def array2D(arr):\n",
    "    h=len(arr)\n",
    "    w=len(arr[0])\n",
    "    coll=[]\n",
    "    for i in range(h-2):\n",
    "        for j in range(w-2):\n",
    "            coll.append(sum(arr[i][j:j+3])+arr[i+1][j+1]+sum(arr[i+2][j:j+3]))\n",
    "    print (coll)\n",
    "    return max(coll)"
   ]
  },
  {
   "cell_type": "markdown",
   "metadata": {},
   "source": [
    "### Left Rotation\n"
   ]
  },
  {
   "cell_type": "code",
   "execution_count": 4,
   "metadata": {},
   "outputs": [],
   "source": [
    "if __name__ == '__main__':\n",
    "    nd = raw_input().split()\n",
    "\n",
    "    n = int(nd[0])\n",
    "\n",
    "    d = int(nd[1])\n",
    "\n",
    "    a = map(int, raw_input().rstrip().split())\n",
    "    \n",
    "    #for _ in range(d):\n",
    "    #    a=a[1:]+[a[0]]\n",
    "        \n",
    "    a=a[d:]+a[:d]    \n",
    "    print ' '.join(map(str,a))"
   ]
  },
  {
   "cell_type": "markdown",
   "metadata": {},
   "source": [
    "### Sparse Arrays\n"
   ]
  },
  {
   "cell_type": "markdown",
   "metadata": {},
   "source": [
    "### Array Manipulation\n"
   ]
  },
  {
   "cell_type": "code",
   "execution_count": 5,
   "metadata": {
    "collapsed": true
   },
   "outputs": [],
   "source": [
    "def arrayManipulation(n, queries):\n",
    "    \n",
    "    arr=[0]*(n+1)\n",
    "    \n",
    "    for i in queries:\n",
    "        a,b,v=i\n",
    "        \n",
    "        arr[a-1]+=v\n",
    "        arr[b]-=v\n",
    "    \n",
    "    print arr\n",
    "    mv=0\n",
    "    cv=0\n",
    "    for j in arr[:-1]:\n",
    "        cv+=j\n",
    "        mv=max(mv,cv)\n",
    "\n",
    "    return mv"
   ]
  },
  {
   "cell_type": "markdown",
   "metadata": {},
   "source": [
    "### Tree: Preorder Traversal\n",
    "\n",
    "https://www.hackerrank.com/challenges/tree-preorder-traversal/problem"
   ]
  },
  {
   "cell_type": "code",
   "execution_count": 6,
   "metadata": {
    "collapsed": true
   },
   "outputs": [],
   "source": [
    "\n",
    "def preOrder(root):\n",
    "    #Write your code here\n",
    "    if root:\n",
    "        print root.data,\n",
    "        preOrder(root.left)\n",
    "        preOrder(root.right)"
   ]
  },
  {
   "cell_type": "code",
   "execution_count": 7,
   "metadata": {
    "collapsed": true
   },
   "outputs": [],
   "source": [
    "def postOrder(root):\n",
    "    if root:\n",
    "        postOrder(root.left)\n",
    "        postOrder(root.right)\n",
    "        print root.data,"
   ]
  },
  {
   "cell_type": "code",
   "execution_count": 8,
   "metadata": {
    "collapsed": true
   },
   "outputs": [],
   "source": [
    "def inOrder(root):\n",
    "    #Write your code here\n",
    "    if root:\n",
    "        inOrder(root.left)\n",
    "        print root.data,\n",
    "        inOrder(root.right)"
   ]
  },
  {
   "cell_type": "code",
   "execution_count": 9,
   "metadata": {
    "collapsed": true
   },
   "outputs": [],
   "source": [
    "def height(root):\n",
    "    if not root:\n",
    "        return -1\n",
    "    return max(height(root.left)+1, height(root.right)+1)"
   ]
  },
  {
   "cell_type": "code",
   "execution_count": null,
   "metadata": {
    "collapsed": true
   },
   "outputs": [],
   "source": []
  }
 ],
 "metadata": {
  "kernelspec": {
   "display_name": "Python 2",
   "language": "python",
   "name": "python2"
  },
  "language_info": {
   "codemirror_mode": {
    "name": "ipython",
    "version": 2
   },
   "file_extension": ".py",
   "mimetype": "text/x-python",
   "name": "python",
   "nbconvert_exporter": "python",
   "pygments_lexer": "ipython2",
   "version": "2.7.13"
  }
 },
 "nbformat": 4,
 "nbformat_minor": 2
}
