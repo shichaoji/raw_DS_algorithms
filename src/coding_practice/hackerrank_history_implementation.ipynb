{
 "cells": [
  {
   "cell_type": "markdown",
   "metadata": {},
   "source": [
    "### Grading Students\n",
    "https://www.hackerrank.com/challenges/grading/problem"
   ]
  },
  {
   "cell_type": "code",
   "execution_count": 1,
   "metadata": {
    "collapsed": true
   },
   "outputs": [],
   "source": [
    "def solve(grades):\n",
    "    # Complete this function\n",
    "    for i in range(len(grades)):\n",
    "        c=grades[i]\n",
    "        if c>=38:\n",
    "            if c%5>=3:\n",
    "                grades[i]+= 5-c%5\n",
    "                \n",
    "    return grades"
   ]
  },
  {
   "cell_type": "markdown",
   "metadata": {},
   "source": [
    "### Apple and Orange\n"
   ]
  },
  {
   "cell_type": "code",
   "execution_count": 2,
   "metadata": {
    "collapsed": true
   },
   "outputs": [],
   "source": [
    "def countApplesAndOranges(s, t, a, b, apples, oranges):\n",
    "    # Complete this function\n",
    "    print len([i for i in map(lambda x: x+a, apples) if i>=s and i<=t])\n",
    "    print len([i for i in map(lambda x: x+b, oranges) if i>=s and i<=t])"
   ]
  },
  {
   "cell_type": "markdown",
   "metadata": {},
   "source": [
    "### Kangaroo"
   ]
  },
  {
   "cell_type": "code",
   "execution_count": 3,
   "metadata": {
    "collapsed": true
   },
   "outputs": [],
   "source": [
    "def kangaroo(x1, v1, x2, v2):\n",
    "    flag=True\n",
    "    while flag:\n",
    "        x1+=v1\n",
    "        x2+=v2\n",
    "        if x1==x2:\n",
    "            return 'YES'\n",
    "        if x1>x2 or v2>=v1:\n",
    "            return 'NO'\n",
    "    # Complete this function"
   ]
  },
  {
   "cell_type": "markdown",
   "metadata": {},
   "source": [
    "### Between Two Sets\n"
   ]
  },
  {
   "cell_type": "code",
   "execution_count": 4,
   "metadata": {
    "collapsed": true
   },
   "outputs": [],
   "source": [
    "def getTotalX(a, b):\n",
    "    # Complete this function\n",
    "    a.sort()\n",
    "    b.sort()\n",
    "    n=0\n",
    "    for i in range(a[-1],b[0]+1):\n",
    "        if all([i%x==0 for x in a]) and all([x%i==0 for x in b]):\n",
    "            n+=1\n",
    "\n",
    "    return n"
   ]
  },
  {
   "cell_type": "markdown",
   "metadata": {},
   "source": [
    "### Breaking the Records\n"
   ]
  },
  {
   "cell_type": "code",
   "execution_count": 5,
   "metadata": {
    "collapsed": true
   },
   "outputs": [],
   "source": [
    "def breakingRecords(score):\n",
    "    # Complete this function\n",
    "    b=-1\n",
    "    w=float('inf')\n",
    "    m,n=-1,-1\n",
    "    for i in score:\n",
    "        if i>b:\n",
    "            b=i\n",
    "            m+=1\n",
    "        if i<w:\n",
    "            w=i\n",
    "            n+=1\n",
    "    return m,n"
   ]
  },
  {
   "cell_type": "code",
   "execution_count": 6,
   "metadata": {
    "collapsed": true
   },
   "outputs": [],
   "source": [
    "def breakingRecords(score):\n",
    "    b=w=score[0]\n",
    "    m=n=0\n",
    "    for i in score[1:]:\n",
    "        if i>b:\n",
    "            b=i\n",
    "            m+=1\n",
    "        if i<w:\n",
    "            w=i\n",
    "            n+=1\n",
    "    return m,n"
   ]
  },
  {
   "cell_type": "markdown",
   "metadata": {},
   "source": [
    "### Birthday Chocolate\n"
   ]
  },
  {
   "cell_type": "code",
   "execution_count": 7,
   "metadata": {
    "collapsed": true
   },
   "outputs": [],
   "source": [
    "def solve(n, s, d, m):\n",
    "    ans = 0\n",
    "    for i in range(n-m+1):\n",
    "        if (sum(s[i:i+m]) == d):\n",
    "            ans += 1\n",
    "\n",
    "    return ans"
   ]
  },
  {
   "cell_type": "markdown",
   "metadata": {},
   "source": [
    "### Divisible Sum Pairs\n"
   ]
  },
  {
   "cell_type": "code",
   "execution_count": 9,
   "metadata": {
    "collapsed": true
   },
   "outputs": [],
   "source": [
    "def divisibleSumPairs(n, k, ar):\n",
    "    c=0\n",
    "    for ind1, i in enumerate(ar):\n",
    "        for ind2, j in enumerate(ar[ind1+1:]):\n",
    "            if (i+j)%k==0:\n",
    "                c+=1\n",
    "    return c"
   ]
  },
  {
   "cell_type": "markdown",
   "metadata": {},
   "source": [
    "### Migratory Birds\n",
    "https://www.hackerrank.com/challenges/migratory-birds/problem"
   ]
  },
  {
   "cell_type": "code",
   "execution_count": 10,
   "metadata": {
    "collapsed": true
   },
   "outputs": [],
   "source": [
    "def migratoryBirds(n, ar):\n",
    "    ar.sort()\n",
    "    m=0\n",
    "    c=0\n",
    "    v=0\n",
    "    for i in range(1,len(ar)):\n",
    "        if ar[i-1]==ar[i]:\n",
    "            c+=1\n",
    "            if c>m:\n",
    "                m=c\n",
    "                v=ar[i]\n",
    "        else:\n",
    "            c=0\n",
    "    return v"
   ]
  },
  {
   "cell_type": "markdown",
   "metadata": {},
   "source": [
    "### Day of the Programmer\n"
   ]
  },
  {
   "cell_type": "code",
   "execution_count": 11,
   "metadata": {
    "collapsed": true
   },
   "outputs": [],
   "source": [
    "def solve(year):\n",
    "    # Complete this function\n",
    "    if 1700<=year and year<=1917:\n",
    "        flag=year%4==0\n",
    "    elif year==1918:\n",
    "        return '26.09.1918'\n",
    "    else:\n",
    "        flag= (year%400==0 or (year%4==0 and year%100!=0))\n",
    "    \n",
    "    if flag:\n",
    "        return '12.09.'+str(year)\n",
    "    else:\n",
    "        return '13.09.'+str(year)\n"
   ]
  },
  {
   "cell_type": "markdown",
   "metadata": {},
   "source": [
    "### Bon Appétit\n"
   ]
  },
  {
   "cell_type": "code",
   "execution_count": 14,
   "metadata": {},
   "outputs": [],
   "source": [
    "ind= int(raw_input().strip().split()[-1])\n",
    "items = map(int, raw_input().strip().split())\n",
    "p=int(raw_input().strip())\n",
    "\n",
    "items.pop(ind)\n",
    "\n",
    "diff = p-sum(items)/2\n",
    "print 'Bon Appetit' if not diff else diff"
   ]
  },
  {
   "cell_type": "markdown",
   "metadata": {},
   "source": [
    "### Sock Merchant\n"
   ]
  },
  {
   "cell_type": "code",
   "execution_count": 15,
   "metadata": {
    "collapsed": true
   },
   "outputs": [],
   "source": [
    "def sockMerchant(n, ar):\n",
    "    # Complete this function\n",
    "    c=0\n",
    "    for i in set(ar):\n",
    "        c+=ar.count(i)/2\n",
    "    return c"
   ]
  },
  {
   "cell_type": "markdown",
   "metadata": {},
   "source": [
    "### Drawing Book \n"
   ]
  },
  {
   "cell_type": "code",
   "execution_count": 16,
   "metadata": {
    "collapsed": true
   },
   "outputs": [],
   "source": [
    "def solve(n, p):\n",
    "    # Complete this function\n",
    "    if p==1: return 0\n",
    "    if n%2==0 and p==n-1: return 1\n",
    "    return min([(n-p)/2, p/2])"
   ]
  },
  {
   "cell_type": "markdown",
   "metadata": {},
   "source": [
    "### Counting Valleys\n"
   ]
  },
  {
   "cell_type": "code",
   "execution_count": 17,
   "metadata": {
    "collapsed": true
   },
   "outputs": [],
   "source": [
    "def countingValleys(n, steps):\n",
    "    # Complete this function\n",
    "    num_valleys, curr_level = 0, 0\n",
    "    for step in steps:\n",
    "        if curr_level == 0 and step == 'D':\n",
    "            num_valleys += 1\n",
    "        if step == 'U':\n",
    "            curr_level += 1\n",
    "        else:\n",
    "            curr_level -= 1\n",
    "    return num_valleys"
   ]
  },
  {
   "cell_type": "markdown",
   "metadata": {},
   "source": [
    "### Electronics Shop\n"
   ]
  },
  {
   "cell_type": "code",
   "execution_count": 18,
   "metadata": {
    "collapsed": true
   },
   "outputs": [],
   "source": [
    "def getMoneySpent(keyboards, drives, s):\n",
    "    # Complete this function\n",
    "    c=[]\n",
    "    for i in keyboards:\n",
    "        for j in drives:\n",
    "            if i+j<=s:\n",
    "                c.append(i+j)\n",
    "    return max(c) if c else -1\n"
   ]
  },
  {
   "cell_type": "markdown",
   "metadata": {},
   "source": [
    "### Cats and a Mouse\n"
   ]
  },
  {
   "cell_type": "code",
   "execution_count": 19,
   "metadata": {
    "collapsed": true
   },
   "outputs": [],
   "source": [
    "def catAndMouse(x, y, z):\n",
    "    #\n",
    "    # Write your code here.\n",
    "    #\n",
    "    d1=abs(x-z)\n",
    "    d2=abs(y-z)    \n",
    "    if d1==d2:\n",
    "        return 'Mouse C'\n",
    "    else:\n",
    "        return 'Cat A' if d1<d2 else 'Cat B'"
   ]
  },
  {
   "cell_type": "markdown",
   "metadata": {},
   "source": [
    "### Picking Numbers\n",
    "https://www.hackerrank.com/challenges/picking-numbers/submissions/code/68618285"
   ]
  },
  {
   "cell_type": "code",
   "execution_count": 20,
   "metadata": {
    "collapsed": true
   },
   "outputs": [],
   "source": [
    "def pickingNumbers(a):\n",
    "    # Complete this function\n",
    "    a.sort()\n",
    "    m=1\n",
    "    flag=0\n",
    "    c=[]\n",
    "    for i in range(1,len(a)):\n",
    "        d=abs(a[flag]-a[i])\n",
    "        if d<=1:\n",
    "            m+=1\n",
    "        else:\n",
    "            flag=i\n",
    "            c.append(m)\n",
    "            m=1\n",
    "    c.append(m)\n",
    "    return max(c)"
   ]
  },
  {
   "cell_type": "code",
   "execution_count": 22,
   "metadata": {},
   "outputs": [],
   "source": [
    "def pickingNumbers(a):\n",
    "\n",
    "    a.sort()\n",
    "    ans = 0\n",
    "    for i in xrange(n):\n",
    "        for j in xrange(n):\n",
    "            if abs(a[j] - a[i]) <= 1:\n",
    "                ans = max(ans, j - i + 1)\n",
    "    print ans"
   ]
  },
  {
   "cell_type": "markdown",
   "metadata": {},
   "source": [
    "### Circular Array Rotation\n"
   ]
  },
  {
   "cell_type": "code",
   "execution_count": 24,
   "metadata": {},
   "outputs": [],
   "source": [
    "\n",
    "n,k,m = raw_input().strip().split(' ')\n",
    "n,k,m = [int(n),int(k),int(m)]\n",
    "arr = map(int,raw_input().strip().split(' '))\n",
    "\n",
    "\n",
    "\n",
    "k %= n\n",
    "arr = arr[-k:] + arr[:-k]\n",
    "for i in range(m):\n",
    "    print(arr[int(input())])"
   ]
  },
  {
   "cell_type": "code",
   "execution_count": null,
   "metadata": {
    "collapsed": true
   },
   "outputs": [],
   "source": []
  }
 ],
 "metadata": {
  "kernelspec": {
   "display_name": "Python 2",
   "language": "python",
   "name": "python2"
  },
  "language_info": {
   "codemirror_mode": {
    "name": "ipython",
    "version": 2
   },
   "file_extension": ".py",
   "mimetype": "text/x-python",
   "name": "python",
   "nbconvert_exporter": "python",
   "pygments_lexer": "ipython2",
   "version": "2.7.13"
  }
 },
 "nbformat": 4,
 "nbformat_minor": 2
}
