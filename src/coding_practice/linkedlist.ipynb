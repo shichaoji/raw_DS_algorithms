{
 "cells": [
  {
   "cell_type": "code",
   "execution_count": 26,
   "metadata": {
    "collapsed": true
   },
   "outputs": [],
   "source": [
    "class Node(object):\n",
    "    def __init__(self, ele):\n",
    "        self.ele=ele\n",
    "        self.next=None"
   ]
  },
  {
   "cell_type": "code",
   "execution_count": 54,
   "metadata": {},
   "outputs": [],
   "source": [
    "class LinkedList(object):\n",
    "    def __init__(self, node=None):\n",
    "        self.__head=node\n",
    "        \n",
    "    def isEmpty(self):\n",
    "        return self.__head==None\n",
    "\n",
    "    def length(self):\n",
    "        c=0\n",
    "        current=self.__head\n",
    "        while current!=None:\n",
    "            c+=1\n",
    "            current=current.next\n",
    "        return c\n",
    "    \n",
    "    def travel(self):\n",
    "        current=self.__head\n",
    "        while current!=None:\n",
    "            print current.ele,\n",
    "            current=current.next\n",
    "        return ''\n",
    "    \n",
    "    def append(self, item):\n",
    "        node=Node(item)\n",
    "        \n",
    "        if self.isEmpty():\n",
    "            self.__head=node\n",
    "        else:\n",
    "            current=self.__head\n",
    "            while current.next!=None:\n",
    "                current=current.next\n",
    "            current.next=node"
   ]
  },
  {
   "cell_type": "code",
   "execution_count": 55,
   "metadata": {},
   "outputs": [
    {
     "name": "stdout",
     "output_type": "stream",
     "text": [
      "True\n",
      "0\n",
      "\n",
      "False\n",
      "1\n",
      "1 \n",
      "------\n",
      "------\n",
      "7\n",
      "1 12 31 14 51 16 71 \n"
     ]
    }
   ],
   "source": [
    "ll=LinkedList()\n",
    "print ll.isEmpty()\n",
    "print ll.length()\n",
    "print ll.travel()\n",
    "\n",
    "ll.append(1)\n",
    "print ll.isEmpty()\n",
    "print ll.length()\n",
    "print ll.travel()\n",
    "print '------'\n",
    "\n",
    "ll.append(12)\n",
    "ll.append(31)\n",
    "ll.append(14)\n",
    "ll.append(51)\n",
    "ll.append(16)\n",
    "ll.append(71)\n",
    "print '------'\n",
    "print ll.length()\n",
    "print ll.travel()"
   ]
  },
  {
   "cell_type": "code",
   "execution_count": null,
   "metadata": {},
   "outputs": [],
   "source": []
  },
  {
   "cell_type": "code",
   "execution_count": null,
   "metadata": {
    "collapsed": true
   },
   "outputs": [],
   "source": []
  }
 ],
 "metadata": {
  "kernelspec": {
   "display_name": "Python 2",
   "language": "python",
   "name": "python2"
  },
  "language_info": {
   "codemirror_mode": {
    "name": "ipython",
    "version": 2
   },
   "file_extension": ".py",
   "mimetype": "text/x-python",
   "name": "python",
   "nbconvert_exporter": "python",
   "pygments_lexer": "ipython2",
   "version": "2.7.13"
  }
 },
 "nbformat": 4,
 "nbformat_minor": 2
}
