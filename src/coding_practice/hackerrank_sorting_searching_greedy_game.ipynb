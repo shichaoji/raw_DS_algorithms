{
 "cells": [
  {
   "cell_type": "markdown",
   "metadata": {},
   "source": [
    "### Big Sorting\n",
    "\n",
    "https://www.hackerrank.com/challenges/big-sorting/problem"
   ]
  },
  {
   "cell_type": "code",
   "execution_count": 2,
   "metadata": {
    "collapsed": true
   },
   "outputs": [],
   "source": [
    "def bigSorting(arr):\n",
    "    return sorted(arr,key=int)\n",
    "\n",
    "def bigSorting(arr):\n",
    "    r=[]\n",
    "    for i in sorted(set(map(len,arr))):\n",
    "        r+=sorted(filter(lambda x:len(x)==i,arr))\n",
    "    return r"
   ]
  },
  {
   "cell_type": "markdown",
   "metadata": {},
   "source": [
    "### Intro to Tutorial Challenges\n"
   ]
  },
  {
   "cell_type": "code",
   "execution_count": 3,
   "metadata": {
    "collapsed": true
   },
   "outputs": [],
   "source": [
    "def introTutorial(V, arr):\n",
    "    # Complete this function\n",
    "    return [i for i,j in enumerate(arr) if j==V][0]"
   ]
  },
  {
   "cell_type": "markdown",
   "metadata": {},
   "source": [
    "### Insertion Sort - Part 1\n"
   ]
  },
  {
   "cell_type": "code",
   "execution_count": 4,
   "metadata": {
    "collapsed": true
   },
   "outputs": [],
   "source": [
    "def insertionSort1(n, arr):\n",
    "    # Complete this function\n",
    "    e=arr[-1]\n",
    "    arr=arr[:-1][::-1]\n",
    "    for i,j in enumerate(arr+[0]):\n",
    "        if j>e:\n",
    "            r = arr[:i]+[j]+arr[i:]\n",
    "            for l in r[::-1]: print l,\n",
    "            print\n",
    "        else:\n",
    "            r = arr[:i]+[e]+arr[i:]\n",
    "            for l in r[::-1]: print l,\n",
    "            break"
   ]
  },
  {
   "cell_type": "markdown",
   "metadata": {},
   "source": [
    "### Ice Cream Parlor\n",
    "https://www.hackerrank.com/challenges/icecream-parlor/problem"
   ]
  },
  {
   "cell_type": "code",
   "execution_count": 5,
   "metadata": {
    "collapsed": true
   },
   "outputs": [],
   "source": [
    "def icecreamParlor(m, arr):\n",
    "    # Complete this function\n",
    "        for a,b in enumerate(arr):\n",
    "            for x,y in enumerate(arr):\n",
    "                if y==m-b:\n",
    "                    if a!=x:\n",
    "                        return [a+1,x+1]"
   ]
  },
  {
   "cell_type": "markdown",
   "metadata": {},
   "source": [
    "### Missing Numbers\n"
   ]
  },
  {
   "cell_type": "code",
   "execution_count": 6,
   "metadata": {
    "collapsed": true
   },
   "outputs": [],
   "source": [
    "def missingNumbers(arr, brr):\n",
    "    # Complete this function\n",
    "    for i in arr:\n",
    "        brr.remove(i)\n",
    "    return sorted(set(brr))"
   ]
  },
  {
   "cell_type": "markdown",
   "metadata": {},
   "source": [
    "### Sherlock and Array\n"
   ]
  },
  {
   "cell_type": "code",
   "execution_count": 7,
   "metadata": {
    "collapsed": true
   },
   "outputs": [],
   "source": [
    "def solve(a):\n",
    "    # Complete this function\n",
    "    if len(a)==1:\n",
    "        return 'YES'\n",
    "    \n",
    "    s=sum(a)\n",
    "    n=0\n",
    "    for i in range(len(a)):\n",
    "        s-=a[i]\n",
    "        if s==n:\n",
    "            return \"YES\"\n",
    "        n+=a[i]\n",
    "    return 'NO'"
   ]
  },
  {
   "cell_type": "markdown",
   "metadata": {},
   "source": [
    "### Minimum Absolute Difference in an Array\n",
    "https://www.hackerrank.com/challenges/minimum-absolute-difference-in-an-array/problem"
   ]
  },
  {
   "cell_type": "code",
   "execution_count": 8,
   "metadata": {
    "collapsed": true
   },
   "outputs": [],
   "source": [
    "def minimumAbsoluteDifference(n, arr):\n",
    "    # Complete this function\n",
    "    arr.sort()\n",
    "    m=arr[-1]\n",
    "    for i,j in enumerate(arr[1:]):\n",
    "        c=j-arr[i]\n",
    "        if m>c:\n",
    "            m=c\n",
    "\n",
    "    return m"
   ]
  },
  {
   "cell_type": "markdown",
   "metadata": {},
   "source": [
    "### Marc's Cakewalk\n"
   ]
  },
  {
   "cell_type": "code",
   "execution_count": 9,
   "metadata": {
    "collapsed": true
   },
   "outputs": [],
   "source": [
    "def marcsCakewalk(calorie):\n",
    "    # Complete this function\n",
    "    n=0\n",
    "    calorie.sort()\n",
    "    \n",
    "    for i,j in enumerate(calorie[::-1]):\n",
    "        n+=j*2**i\n",
    "    return n"
   ]
  },
  {
   "cell_type": "markdown",
   "metadata": {},
   "source": [
    "### Grid Challenge\n"
   ]
  },
  {
   "cell_type": "code",
   "execution_count": 10,
   "metadata": {
    "collapsed": true
   },
   "outputs": [],
   "source": [
    "for _ in range(int(input())):\n",
    "    d = []\n",
    "    for __ in range(int(input())):\n",
    "        d.append(sorted(raw_input().strip()))    \n",
    "    d = list(zip(*d))\n",
    "    d1 = list(map(lambda x: tuple(sorted(x)), d))\n",
    "    print ('YES' if d1==d else 'NO')"
   ]
  },
  {
   "cell_type": "markdown",
   "metadata": {},
   "source": [
    "### Game of Stones\n",
    "https://www.hackerrank.com/challenges/game-of-stones-1/problem\n"
   ]
  },
  {
   "cell_type": "code",
   "execution_count": 11,
   "metadata": {
    "collapsed": true
   },
   "outputs": [],
   "source": [
    "def gameOfStones(n):\n",
    "    # Complete this function\n",
    "    return [\"First\",\"Second\"][n%7 in [0,1]]"
   ]
  },
  {
   "cell_type": "markdown",
   "metadata": {},
   "source": [
    "### Tower Breakers \n"
   ]
  },
  {
   "cell_type": "code",
   "execution_count": 12,
   "metadata": {
    "collapsed": true
   },
   "outputs": [],
   "source": [
    "def towerBreakers(n, m):\n",
    "    # Complete this function\n",
    "    m=1 if m>1 else 0\n",
    "    s=n*m\n",
    "    return [2,1][s%2] "
   ]
  },
  {
   "cell_type": "markdown",
   "metadata": {},
   "source": [
    "### A Chessboard Game\n"
   ]
  },
  {
   "cell_type": "code",
   "execution_count": 15,
   "metadata": {
    "collapsed": true
   },
   "outputs": [],
   "source": [
    "def chessboardGame(x, y):\n",
    "    # Complete this function\n",
    "    \n",
    "    if 0 < x%4 <= 2 and 0 < y%4 <= 2:\n",
    "        return 'Second'\n",
    "    else:\n",
    "        return 'First'\n"
   ]
  },
  {
   "cell_type": "code",
   "execution_count": null,
   "metadata": {
    "collapsed": true
   },
   "outputs": [],
   "source": []
  }
 ],
 "metadata": {
  "kernelspec": {
   "display_name": "Python 2",
   "language": "python",
   "name": "python2"
  },
  "language_info": {
   "codemirror_mode": {
    "name": "ipython",
    "version": 2
   },
   "file_extension": ".py",
   "mimetype": "text/x-python",
   "name": "python",
   "nbconvert_exporter": "python",
   "pygments_lexer": "ipython2",
   "version": "2.7.13"
  }
 },
 "nbformat": 4,
 "nbformat_minor": 2
}
