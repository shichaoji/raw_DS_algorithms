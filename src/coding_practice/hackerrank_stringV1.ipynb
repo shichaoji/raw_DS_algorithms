{
 "cells": [
  {
   "cell_type": "markdown",
   "metadata": {},
   "source": [
    "### Super Reduced String\n",
    "https://www.hackerrank.com/challenges/reduced-string/problem\n"
   ]
  },
  {
   "cell_type": "code",
   "execution_count": 17,
   "metadata": {
    "collapsed": true
   },
   "outputs": [],
   "source": [
    "def super_reduced_string(s):\n",
    "    # Complete this function\n",
    "    r=''\n",
    "    for i in range(len(s)):\n",
    "        \n",
    "        if len(r)>0 and r[-1]==s[i]:\n",
    "            r=r[:-1]\n",
    "        else:\n",
    "            r+=s[i]\n",
    "            \n",
    "    return r if len(r)>0 else 'Empty String'"
   ]
  },
  {
   "cell_type": "code",
   "execution_count": 18,
   "metadata": {
    "collapsed": true
   },
   "outputs": [],
   "source": [
    "s='aaabccddd'"
   ]
  },
  {
   "cell_type": "code",
   "execution_count": 19,
   "metadata": {},
   "outputs": [
    {
     "data": {
      "text/plain": [
       "'abd'"
      ]
     },
     "execution_count": 19,
     "metadata": {},
     "output_type": "execute_result"
    }
   ],
   "source": [
    "super_reduced_string(s)"
   ]
  },
  {
   "cell_type": "markdown",
   "metadata": {},
   "source": [
    "### CamelCase\n",
    "https://www.hackerrank.com/challenges/camelcase/problem"
   ]
  },
  {
   "cell_type": "code",
   "execution_count": 20,
   "metadata": {
    "collapsed": true
   },
   "outputs": [],
   "source": [
    "def camelcase(s):\n",
    "    # Complete this function\n",
    "    n=1\n",
    "    for i in s:\n",
    "        if i.lower()!=i:\n",
    "            n+=1\n",
    "    return n"
   ]
  },
  {
   "cell_type": "code",
   "execution_count": 21,
   "metadata": {
    "collapsed": true
   },
   "outputs": [],
   "source": [
    "def camelcase(s):\n",
    "    n=1\n",
    "    for i in s[1:]:\n",
    "        if i.isupper():\n",
    "            n+=1\n",
    "    return n"
   ]
  },
  {
   "cell_type": "markdown",
   "metadata": {},
   "source": [
    "### Strong Password\n",
    "\n",
    "https://www.hackerrank.com/challenges/strong-password/problem"
   ]
  },
  {
   "cell_type": "code",
   "execution_count": 22,
   "metadata": {
    "collapsed": true
   },
   "outputs": [],
   "source": [
    "def minimumNumber(n, password):\n",
    "    # Return the minimum number of characters to make the password strong\n",
    "    n=4\n",
    "    f1,f2,f3,f4=1,1,1,1\n",
    "    sp='!@#$%^&*()-+'\n",
    "    for i in password:\n",
    "        if i.isdigit() and f1:\n",
    "            n-=1\n",
    "            f1=0\n",
    "        if i.isupper() and f2:\n",
    "            f2=0\n",
    "            n-=1\n",
    "        if i.islower() and f3:\n",
    "            f3=0\n",
    "            n-=1\n",
    "        if i in sp and f4:\n",
    "            f4=0\n",
    "            n-=1\n",
    "            \n",
    "    if len(password)+n<6:\n",
    "        n=6-len(password)\n",
    "\n",
    "    return n"
   ]
  },
  {
   "cell_type": "markdown",
   "metadata": {
    "collapsed": true
   },
   "source": [
    "### Two Characters\n",
    "\n",
    "https://www.hackerrank.com/challenges/two-characters/problem"
   ]
  },
  {
   "cell_type": "code",
   "execution_count": 33,
   "metadata": {
    "collapsed": true
   },
   "outputs": [],
   "source": [
    "def twoCharaters(s):\n",
    "    # Complete this function\n",
    "    u=list(set(s))\n",
    "    m=0\n",
    "    \n",
    "    for i in range(len(u)):\n",
    "        for j in range(i+1,len(u)):\n",
    "            t=[x for x in s if x in [u[i],u[j]]]\n",
    "            if all(t[i-1]!=t[i] for i in range(1,len(t))):\n",
    "                c=len(t)\n",
    "                if m<c:\n",
    "                    m=c\n",
    "    return m"
   ]
  },
  {
   "cell_type": "code",
   "execution_count": 34,
   "metadata": {
    "collapsed": true
   },
   "outputs": [],
   "source": [
    "s='beabeefeab'"
   ]
  },
  {
   "cell_type": "code",
   "execution_count": 35,
   "metadata": {},
   "outputs": [
    {
     "name": "stdout",
     "output_type": "stream",
     "text": [
      "10000 loops, best of 3: 22.1 µs per loop\n"
     ]
    }
   ],
   "source": [
    "%%timeit\n",
    "twoCharaters(s)"
   ]
  },
  {
   "cell_type": "code",
   "execution_count": 36,
   "metadata": {
    "collapsed": true
   },
   "outputs": [],
   "source": [
    "def twoCharaters(s):\n",
    "\n",
    "    def make(a,b):\n",
    "        p = []\n",
    "        for x in s :\n",
    "            if x == a or x == b:\n",
    "                p.append(x)\n",
    "        return \"\".join(p)\n",
    "\n",
    "    def check(t):\n",
    "        for i in xrange(len(t)-1):\n",
    "            if t[i] == t[i+1]: return False\n",
    "        return True\n",
    "\n",
    "    ans = 0\n",
    "    for x in s:\n",
    "        for y in s:\n",
    "            if x==y: continue\n",
    "            t = make(x,y)\n",
    "            if check(t):\n",
    "                ans = max(ans,len(t))\n",
    "\n",
    "    return ans"
   ]
  },
  {
   "cell_type": "code",
   "execution_count": 37,
   "metadata": {},
   "outputs": [
    {
     "name": "stdout",
     "output_type": "stream",
     "text": [
      "10000 loops, best of 3: 179 µs per loop\n"
     ]
    }
   ],
   "source": [
    "%%timeit\n",
    "twoCharaters(s)"
   ]
  },
  {
   "cell_type": "markdown",
   "metadata": {},
   "source": [
    "### Caesar Cipher\n",
    "https://www.hackerrank.com/challenges/caesar-cipher-1/problem"
   ]
  },
  {
   "cell_type": "code",
   "execution_count": 39,
   "metadata": {
    "collapsed": true
   },
   "outputs": [],
   "source": [
    "def caesarCipher(s, k):\n",
    "    # Complete this function\n",
    "    #up=[i.isupper() for i in s]\n",
    "    #s=s.lower()\n",
    "    r=''\n",
    "    for i in s:\n",
    "        flag= i.isupper()\n",
    "        if flag:i=i.lower()\n",
    "        p=ord(i)-ord('a')\n",
    "        if p<=25 and p>=0:\n",
    "            c=chr((p+k)%26+ord('a'))\n",
    "            r+=c.upper() if flag else c\n",
    "        else:\n",
    "            r+=i\n",
    "    return ''.join(r)"
   ]
  },
  {
   "cell_type": "markdown",
   "metadata": {},
   "source": [
    "### Mars Exploration\n",
    "https://www.hackerrank.com/challenges/mars-exploration/problem"
   ]
  },
  {
   "cell_type": "code",
   "execution_count": 40,
   "metadata": {
    "collapsed": true
   },
   "outputs": [],
   "source": [
    "def marsExploration(s):\n",
    "    # Complete this function\n",
    "    r=0\n",
    "    n=len(s)/3\n",
    "    for i,j in enumerate('SOS'*n):\n",
    "        if s[i]!=j:\n",
    "            r+=1\n",
    "    return r"
   ]
  },
  {
   "cell_type": "markdown",
   "metadata": {},
   "source": [
    "### HackerRank in a String!\n",
    "\n",
    "https://www.hackerrank.com/challenges/hackerrank-in-a-string/problem"
   ]
  },
  {
   "cell_type": "code",
   "execution_count": 41,
   "metadata": {
    "collapsed": true
   },
   "outputs": [],
   "source": [
    "def hackerrankInString(s):\n",
    "    # Complete this function\n",
    "    for i in 'hackerrank':\n",
    "        n=s.find(i)\n",
    "        if n>=0:\n",
    "            s=s[n+1:]\n",
    "        else:\n",
    "            return 'NO'\n",
    "    return 'YES'"
   ]
  },
  {
   "cell_type": "markdown",
   "metadata": {},
   "source": [
    "### Pangrams\n",
    "https://www.hackerrank.com/challenges/pangrams/problem"
   ]
  },
  {
   "cell_type": "code",
   "execution_count": 42,
   "metadata": {
    "collapsed": true
   },
   "outputs": [],
   "source": [
    "def pangrams(s):\n",
    "    \n",
    "    p = \"The quick brown fox jumps over the lazy dog\".lower().replace(' ','')\n",
    "    s = s.lower().replace(' ','')\n",
    "    \n",
    "    for i in p:\n",
    "        if i not in s:\n",
    "            return \"not pangram\"\n",
    "    return \"pangram\""
   ]
  },
  {
   "cell_type": "markdown",
   "metadata": {},
   "source": [
    "### Weighted Uniform Strings\n",
    "\n",
    "https://www.hackerrank.com/challenges/weighted-uniform-string/problem"
   ]
  },
  {
   "cell_type": "code",
   "execution_count": 43,
   "metadata": {
    "collapsed": true
   },
   "outputs": [],
   "source": [
    "def weightedUniformStrings(s, queries):\n",
    "\n",
    "    coll=[]\n",
    "    base=ord('a')-1\n",
    "    tmp=None\n",
    "    \n",
    "    for i in s:\n",
    "        if i==tmp:\n",
    "            coll.append(coll[-1]+ord(i)-base)\n",
    "        else:\n",
    "            coll.append(ord(i)-base)\n",
    "            \n",
    "        tmp=i\n",
    "    coll=set(coll)\n",
    "    \n",
    "    \n",
    "    return [\"Yes\" if i in coll else \"No\" for i in queries]"
   ]
  },
  {
   "cell_type": "code",
   "execution_count": null,
   "metadata": {
    "collapsed": true
   },
   "outputs": [],
   "source": []
  }
 ],
 "metadata": {
  "kernelspec": {
   "display_name": "Python 2",
   "language": "python",
   "name": "python2"
  },
  "language_info": {
   "codemirror_mode": {
    "name": "ipython",
    "version": 2
   },
   "file_extension": ".py",
   "mimetype": "text/x-python",
   "name": "python",
   "nbconvert_exporter": "python",
   "pygments_lexer": "ipython2",
   "version": "2.7.13"
  }
 },
 "nbformat": 4,
 "nbformat_minor": 2
}
