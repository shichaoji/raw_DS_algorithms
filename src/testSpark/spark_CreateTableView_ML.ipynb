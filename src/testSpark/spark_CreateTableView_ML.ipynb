{
 "cells": [
  {
   "cell_type": "code",
   "execution_count": 3,
   "metadata": {
    "collapsed": true
   },
   "outputs": [],
   "source": [
    "import findspark\n",
    "parkpath=\"/home/soyoung/newSparkJune2018/spark-2.3.0-bin-hadoop2.7/\"\n",
    "findspark.init(parkpath)\n",
    "\n",
    "import pyspark\n",
    "import os"
   ]
  },
  {
   "cell_type": "code",
   "execution_count": 4,
   "metadata": {
    "collapsed": true
   },
   "outputs": [],
   "source": [
    "os.chdir('/home/soyoung/newSparkJune2018/exerciseData/')"
   ]
  },
  {
   "cell_type": "code",
   "execution_count": 5,
   "metadata": {},
   "outputs": [
    {
     "name": "stdout",
     "output_type": "stream",
     "text": [
      "CPU times: user 4 ms, sys: 16 ms, total: 20 ms\n",
      "Wall time: 2.75 s\n"
     ]
    }
   ],
   "source": [
    "%%time\n",
    "sc=pyspark.SparkContext()"
   ]
  },
  {
   "cell_type": "code",
   "execution_count": 6,
   "metadata": {
    "collapsed": true
   },
   "outputs": [],
   "source": [
    "data=sc.textFile('./06_02 commands.txt')"
   ]
  },
  {
   "cell_type": "code",
   "execution_count": 7,
   "metadata": {},
   "outputs": [
    {
     "data": {
      "text/plain": [
       "26"
      ]
     },
     "execution_count": 7,
     "metadata": {},
     "output_type": "execute_result"
    }
   ],
   "source": [
    "data.count()"
   ]
  },
  {
   "cell_type": "code",
   "execution_count": 8,
   "metadata": {},
   "outputs": [
    {
     "data": {
      "text/plain": [
       "[u'For Mac:', u'']"
      ]
     },
     "execution_count": 8,
     "metadata": {},
     "output_type": "execute_result"
    }
   ],
   "source": [
    "data.collect()[:2]"
   ]
  },
  {
   "cell_type": "code",
   "execution_count": 9,
   "metadata": {},
   "outputs": [
    {
     "data": {
      "text/plain": [
       "u'For Mac:'"
      ]
     },
     "execution_count": 9,
     "metadata": {},
     "output_type": "execute_result"
    }
   ],
   "source": [
    "data.first()"
   ]
  },
  {
   "cell_type": "code",
   "execution_count": 10,
   "metadata": {},
   "outputs": [
    {
     "data": {
      "text/plain": [
       "[u'For Mac:',\n",
       " u'',\n",
       " u'1) Set path for Spark and adjust to the correct path to Spark']"
      ]
     },
     "execution_count": 10,
     "metadata": {},
     "output_type": "execute_result"
    }
   ],
   "source": [
    "data.take(3)"
   ]
  },
  {
   "cell_type": "markdown",
   "metadata": {},
   "source": [
    "___"
   ]
  },
  {
   "cell_type": "code",
   "execution_count": 11,
   "metadata": {},
   "outputs": [
    {
     "name": "stdout",
     "output_type": "stream",
     "text": [
      "/home/soyoung/newSparkJune2018/exerciseData\r\n"
     ]
    }
   ],
   "source": [
    "!pwd"
   ]
  },
  {
   "cell_type": "code",
   "execution_count": 12,
   "metadata": {},
   "outputs": [
    {
     "name": "stdout",
     "output_type": "stream",
     "text": [
      "06_02 commands.txt    __MACOSX\t\t   cogsley_sales.csv  sales_log.zip\r\n",
      "Spark Essentials.dbc  cogsley_clients.csv  sales_log\t      state_info.csv\r\n"
     ]
    }
   ],
   "source": [
    "!ls"
   ]
  },
  {
   "cell_type": "code",
   "execution_count": 14,
   "metadata": {
    "collapsed": true
   },
   "outputs": [],
   "source": [
    "logpath=\"./sales_log/\""
   ]
  },
  {
   "cell_type": "code",
   "execution_count": 18,
   "metadata": {},
   "outputs": [
    {
     "data": {
      "text/plain": [
       "11"
      ]
     },
     "execution_count": 18,
     "metadata": {},
     "output_type": "execute_result"
    }
   ],
   "source": [
    "log7=sc.wholeTextFiles(logpath+'sales-7*.csv')\n",
    "log7.count()"
   ]
  },
  {
   "cell_type": "code",
   "execution_count": 62,
   "metadata": {},
   "outputs": [
    {
     "data": {
      "text/plain": [
       "2"
      ]
     },
     "execution_count": 62,
     "metadata": {},
     "output_type": "execute_result"
    }
   ],
   "source": [
    "len(log7.first())"
   ]
  },
  {
   "cell_type": "code",
   "execution_count": 22,
   "metadata": {},
   "outputs": [
    {
     "data": {
      "text/plain": [
       "u'2.3.0'"
      ]
     },
     "execution_count": 22,
     "metadata": {},
     "output_type": "execute_result"
    }
   ],
   "source": [
    "sc.version"
   ]
  },
  {
   "cell_type": "code",
   "execution_count": 27,
   "metadata": {},
   "outputs": [
    {
     "ename": "AttributeError",
     "evalue": "'RDD' object has no attribute 'toDF'",
     "output_type": "error",
     "traceback": [
      "\u001b[0;31m---------------------------------------------------------------------------\u001b[0m",
      "\u001b[0;31mAttributeError\u001b[0m                            Traceback (most recent call last)",
      "\u001b[0;32m<ipython-input-27-ee876a863480>\u001b[0m in \u001b[0;36m<module>\u001b[0;34m()\u001b[0m\n\u001b[0;32m----> 1\u001b[0;31m \u001b[0mlog7\u001b[0m\u001b[0;34m.\u001b[0m\u001b[0mtoDF\u001b[0m\u001b[0;34m(\u001b[0m\u001b[0;34m)\u001b[0m\u001b[0;34m\u001b[0m\u001b[0m\n\u001b[0m",
      "\u001b[0;31mAttributeError\u001b[0m: 'RDD' object has no attribute 'toDF'"
     ]
    }
   ],
   "source": [
    "log7.toDF()"
   ]
  },
  {
   "cell_type": "code",
   "execution_count": 29,
   "metadata": {
    "collapsed": true
   },
   "outputs": [],
   "source": [
    "from pyspark.sql import SparkSession\n",
    "spark = SparkSession(sc)"
   ]
  },
  {
   "cell_type": "code",
   "execution_count": 31,
   "metadata": {},
   "outputs": [
    {
     "data": {
      "text/plain": [
       "DataFrame[path: string, data: string]"
      ]
     },
     "execution_count": 31,
     "metadata": {},
     "output_type": "execute_result"
    }
   ],
   "source": [
    "log7df = log7.toDF(['path','data'])\n",
    "log7df"
   ]
  },
  {
   "cell_type": "code",
   "execution_count": 32,
   "metadata": {},
   "outputs": [
    {
     "name": "stdout",
     "output_type": "stream",
     "text": [
      "+--------------------+--------------------+\n",
      "|                path|                data|\n",
      "+--------------------+--------------------+\n",
      "|file:/home/soyoun...|52007,4/14/12,25,...|\n",
      "|file:/home/soyoun...|47846,8/11/12,5,0...|\n",
      "|file:/home/soyoun...|134,4/30/12,11,0....|\n",
      "|file:/home/soyoun...|29221,5/29/12,41,...|\n",
      "|file:/home/soyoun...|15399,5/13/12,7,0...|\n",
      "|file:/home/soyoun...|5509,4/7/09,21,0....|\n",
      "|file:/home/soyoun...|29893,6/16/12,24,...|\n",
      "|file:/home/soyoun...|23174,7/26/12,8,0...|\n",
      "|file:/home/soyoun...|52676,8/28/12,46,...|\n",
      "|file:/home/soyoun...|4996,9/13/12,30,0...|\n",
      "|file:/home/soyoun...|24450,7/9/12,37,0...|\n",
      "+--------------------+--------------------+\n",
      "\n"
     ]
    }
   ],
   "source": [
    "log7df.show()"
   ]
  },
  {
   "cell_type": "code",
   "execution_count": 33,
   "metadata": {},
   "outputs": [
    {
     "data": {
      "text/html": [
       "<div>\n",
       "<style scoped>\n",
       "    .dataframe tbody tr th:only-of-type {\n",
       "        vertical-align: middle;\n",
       "    }\n",
       "\n",
       "    .dataframe tbody tr th {\n",
       "        vertical-align: top;\n",
       "    }\n",
       "\n",
       "    .dataframe thead th {\n",
       "        text-align: right;\n",
       "    }\n",
       "</style>\n",
       "<table border=\"1\" class=\"dataframe\">\n",
       "  <thead>\n",
       "    <tr style=\"text-align: right;\">\n",
       "      <th></th>\n",
       "      <th>path</th>\n",
       "      <th>data</th>\n",
       "    </tr>\n",
       "  </thead>\n",
       "  <tbody>\n",
       "    <tr>\n",
       "      <th>0</th>\n",
       "      <td>file:/home/soyoung/newSparkJune2018/exerciseDa...</td>\n",
       "      <td>52007,4/14/12,25,0.1,200,4593.41,Alejandro Ols...</td>\n",
       "    </tr>\n",
       "    <tr>\n",
       "      <th>1</th>\n",
       "      <td>file:/home/soyoung/newSparkJune2018/exerciseDa...</td>\n",
       "      <td>47846,8/11/12,5,0.01,125,633.43,Hilary Vittori...</td>\n",
       "    </tr>\n",
       "    <tr>\n",
       "      <th>2</th>\n",
       "      <td>file:/home/soyoung/newSparkJune2018/exerciseDa...</td>\n",
       "      <td>134,4/30/12,11,0.01,200,2224.08,Michael Olson,...</td>\n",
       "    </tr>\n",
       "    <tr>\n",
       "      <th>3</th>\n",
       "      <td>file:/home/soyoung/newSparkJune2018/exerciseDa...</td>\n",
       "      <td>29221,5/29/12,41,0,110,4608.67,Jay O'Donnell,C...</td>\n",
       "    </tr>\n",
       "    <tr>\n",
       "      <th>4</th>\n",
       "      <td>file:/home/soyoung/newSparkJune2018/exerciseDa...</td>\n",
       "      <td>15399,5/13/12,7,0.01,125,884.86,Benjamin Schmi...</td>\n",
       "    </tr>\n",
       "    <tr>\n",
       "      <th>5</th>\n",
       "      <td>file:/home/soyoung/newSparkJune2018/exerciseDa...</td>\n",
       "      <td>5509,4/7/09,21,0.03,125,2529.2,Ashley Wiener,A...</td>\n",
       "    </tr>\n",
       "    <tr>\n",
       "      <th>6</th>\n",
       "      <td>file:/home/soyoung/newSparkJune2018/exerciseDa...</td>\n",
       "      <td>29893,6/16/12,24,0.07,200,4563.66,Michael Darl...</td>\n",
       "    </tr>\n",
       "    <tr>\n",
       "      <th>7</th>\n",
       "      <td>file:/home/soyoung/newSparkJune2018/exerciseDa...</td>\n",
       "      <td>23174,7/26/12,8,0.03,200,1588.19,Harry Kotsoni...</td>\n",
       "    </tr>\n",
       "    <tr>\n",
       "      <th>8</th>\n",
       "      <td>file:/home/soyoung/newSparkJune2018/exerciseDa...</td>\n",
       "      <td>52676,8/28/12,46,0.01,110,5130.34,Amy Murray,T...</td>\n",
       "    </tr>\n",
       "    <tr>\n",
       "      <th>9</th>\n",
       "      <td>file:/home/soyoung/newSparkJune2018/exerciseDa...</td>\n",
       "      <td>4996,9/13/12,30,0,200,6147.24,Rob Sissman,Mich...</td>\n",
       "    </tr>\n",
       "    <tr>\n",
       "      <th>10</th>\n",
       "      <td>file:/home/soyoung/newSparkJune2018/exerciseDa...</td>\n",
       "      <td>24450,7/9/12,37,0.02,170,6305.34,Kristina Will...</td>\n",
       "    </tr>\n",
       "  </tbody>\n",
       "</table>\n",
       "</div>"
      ],
      "text/plain": [
       "                                                 path  \\\n",
       "0   file:/home/soyoung/newSparkJune2018/exerciseDa...   \n",
       "1   file:/home/soyoung/newSparkJune2018/exerciseDa...   \n",
       "2   file:/home/soyoung/newSparkJune2018/exerciseDa...   \n",
       "3   file:/home/soyoung/newSparkJune2018/exerciseDa...   \n",
       "4   file:/home/soyoung/newSparkJune2018/exerciseDa...   \n",
       "5   file:/home/soyoung/newSparkJune2018/exerciseDa...   \n",
       "6   file:/home/soyoung/newSparkJune2018/exerciseDa...   \n",
       "7   file:/home/soyoung/newSparkJune2018/exerciseDa...   \n",
       "8   file:/home/soyoung/newSparkJune2018/exerciseDa...   \n",
       "9   file:/home/soyoung/newSparkJune2018/exerciseDa...   \n",
       "10  file:/home/soyoung/newSparkJune2018/exerciseDa...   \n",
       "\n",
       "                                                 data  \n",
       "0   52007,4/14/12,25,0.1,200,4593.41,Alejandro Ols...  \n",
       "1   47846,8/11/12,5,0.01,125,633.43,Hilary Vittori...  \n",
       "2   134,4/30/12,11,0.01,200,2224.08,Michael Olson,...  \n",
       "3   29221,5/29/12,41,0,110,4608.67,Jay O'Donnell,C...  \n",
       "4   15399,5/13/12,7,0.01,125,884.86,Benjamin Schmi...  \n",
       "5   5509,4/7/09,21,0.03,125,2529.2,Ashley Wiener,A...  \n",
       "6   29893,6/16/12,24,0.07,200,4563.66,Michael Darl...  \n",
       "7   23174,7/26/12,8,0.03,200,1588.19,Harry Kotsoni...  \n",
       "8   52676,8/28/12,46,0.01,110,5130.34,Amy Murray,T...  \n",
       "9   4996,9/13/12,30,0,200,6147.24,Rob Sissman,Mich...  \n",
       "10  24450,7/9/12,37,0.02,170,6305.34,Kristina Will...  "
      ]
     },
     "execution_count": 33,
     "metadata": {},
     "output_type": "execute_result"
    }
   ],
   "source": [
    "log7df.toPandas()"
   ]
  },
  {
   "cell_type": "markdown",
   "metadata": {},
   "source": [
    "___"
   ]
  },
  {
   "cell_type": "code",
   "execution_count": 34,
   "metadata": {},
   "outputs": [
    {
     "data": {
      "text/plain": [
       "1100"
      ]
     },
     "execution_count": 34,
     "metadata": {},
     "output_type": "execute_result"
    }
   ],
   "source": [
    "logs2=sc.textFile(logpath+'sales-2*.csv')\n",
    "logs2.count()"
   ]
  },
  {
   "cell_type": "code",
   "execution_count": 36,
   "metadata": {},
   "outputs": [
    {
     "data": {
      "text/plain": [
       "u'25541,1/13/09,50,0.07,110,5070.06,Mike Daniels,Florida,South,Development - Python,1,0.54'"
      ]
     },
     "execution_count": 36,
     "metadata": {},
     "output_type": "execute_result"
    }
   ],
   "source": [
    "logs2.first()"
   ]
  },
  {
   "cell_type": "markdown",
   "metadata": {},
   "source": [
    "___\n",
    "* sql\n",
    "* csv"
   ]
  },
  {
   "cell_type": "code",
   "execution_count": 38,
   "metadata": {},
   "outputs": [
    {
     "data": {
      "text/html": [
       "\n",
       "            <div>\n",
       "                <p><b>SparkSession - in-memory</b></p>\n",
       "                \n",
       "        <div>\n",
       "            <p><b>SparkContext</b></p>\n",
       "\n",
       "            <p><a href=\"http://node1.hadoop.com:4041\">Spark UI</a></p>\n",
       "\n",
       "            <dl>\n",
       "              <dt>Version</dt>\n",
       "                <dd><code>v2.3.0</code></dd>\n",
       "              <dt>Master</dt>\n",
       "                <dd><code>local[*]</code></dd>\n",
       "              <dt>AppName</dt>\n",
       "                <dd><code>pyspark-shell</code></dd>\n",
       "            </dl>\n",
       "        </div>\n",
       "        \n",
       "            </div>\n",
       "        "
      ],
      "text/plain": [
       "<pyspark.sql.session.SparkSession at 0x7f4346ee1990>"
      ]
     },
     "execution_count": 38,
     "metadata": {},
     "output_type": "execute_result"
    }
   ],
   "source": [
    "spark"
   ]
  },
  {
   "cell_type": "code",
   "execution_count": 39,
   "metadata": {},
   "outputs": [
    {
     "data": {
      "text/plain": [
       "DataFrame[_c0: int, _c1: string, _c2: int, _c3: double, _c4: int, _c5: double, _c6: string, _c7: string, _c8: string, _c9: string, _c10: int, _c11: double]"
      ]
     },
     "execution_count": 39,
     "metadata": {},
     "output_type": "execute_result"
    }
   ],
   "source": [
    "logdf = spark.read.csv(logpath, inferSchema=True)\n",
    "logdf"
   ]
  },
  {
   "cell_type": "code",
   "execution_count": 40,
   "metadata": {},
   "outputs": [
    {
     "data": {
      "text/plain": [
       "8399"
      ]
     },
     "execution_count": 40,
     "metadata": {},
     "output_type": "execute_result"
    }
   ],
   "source": [
    "logdf.count()"
   ]
  },
  {
   "cell_type": "code",
   "execution_count": 41,
   "metadata": {},
   "outputs": [
    {
     "name": "stdout",
     "output_type": "stream",
     "text": [
      "+-----+--------+---+----+---+-------+------------------+-----------+-------+--------------------+----+----+\n",
      "|  _c0|     _c1|_c2| _c3|_c4|    _c5|               _c6|        _c7|    _c8|                 _c9|_c10|_c11|\n",
      "+-----+--------+---+----+---+-------+------------------+-----------+-------+--------------------+----+----+\n",
      "|44935|11/17/10| 37|0.06|200| 7011.4|     Arthur Nelson| New Mexico|   West| Development - Scala|   1|0.65|\n",
      "|44935|11/17/10| 37|0.01|140|5169.04|     Arthur Nelson|    Florida|  South|Development - Dat...|   1|0.64|\n",
      "| 2563|11/18/10| 12|0.04|200|2322.41| Brenda Hildebrand|Mississippi|  South| Development - Scala|   1|0.74|\n",
      "| 2563|11/18/10| 33|0.01|120|3951.72| Brenda Hildebrand|Mississippi|  South|Development - Bus...|   1|0.44|\n",
      "| 2752|11/18/10| 30|0.03|150|4399.87|     Todd Cacioppo|  Wisconsin|Central|Consulting - Busi...|   1|0.53|\n",
      "| 2752|11/18/10| 41|0.02|140|5670.14|     Todd Cacioppo|  Wisconsin|Central|Development - Dat...|   1|0.56|\n",
      "| 2752|11/18/10| 10|0.03|200| 1955.5|     Todd Cacioppo|  Wisconsin|Central|Development - Big...|   1|0.69|\n",
      "| 2752|11/18/10| 10|0.04|150| 1451.5|     Todd Cacioppo|  Wisconsin|Central|Consulting - Mark...|   1| 0.7|\n",
      "|13607|11/18/10| 12|0.07|150|1687.37|     Matthew Lucas| New Mexico|   West|Consulting - Busi...|   1|0.59|\n",
      "|13607|11/18/10| 37|0.09|200| 6787.8|     Matthew Lucas| New Mexico|   West| Development - Scala|   1|0.74|\n",
      "|13607|11/18/10| 13| 0.0|200|2620.77|     Matthew Lucas| New Mexico|   West|Development - Big...|   1|0.72|\n",
      "|22887|11/18/10| 34|0.07|125|3984.08|     Eugene Liston|   Kentucky|  South|Training - Develo...|   1|0.54|\n",
      "|34658|11/18/10| 33|0.05|125|3950.06|         Alan Daly|      Texas|Central|  Training - Tableau|   1|0.58|\n",
      "| 8001|11/19/10| 15| 0.1|110| 1496.9|    Charles Sunley| California|   West|Development - Python|   1|0.38|\n",
      "| 8001|11/19/10| 47|0.01|200|9380.58|    Charles Sunley| California|   West|Development - Big...|   1|0.74|\n",
      "|23366|11/19/10| 12|0.06|125| 1421.3|      Tim Swindell| California|   West|      Training - SQL|   1|0.43|\n",
      "|23366|11/19/10|  5|0.04|200| 967.69|      Tim Swindell| California|   West|Development - Big...|   1|0.67|\n",
      "|45190|11/19/10| 13| 0.0|125|1638.02|     George Barnes|      Texas|Central|Training - Develo...|   1|0.58|\n",
      "| 8582|11/20/10| 15|0.04|125|1814.47|     David Glassco| California|   West|      Training - SQL|   1| 0.5|\n",
      "|13895|11/20/10| 44|0.02|200|8693.33|Michelle Collister|  Wisconsin|Central|Development - Big...|   1|0.65|\n",
      "+-----+--------+---+----+---+-------+------------------+-----------+-------+--------------------+----+----+\n",
      "only showing top 20 rows\n",
      "\n"
     ]
    }
   ],
   "source": [
    "logdf.show()"
   ]
  },
  {
   "cell_type": "markdown",
   "metadata": {},
   "source": [
    "___"
   ]
  },
  {
   "cell_type": "code",
   "execution_count": 42,
   "metadata": {},
   "outputs": [
    {
     "data": {
      "text/plain": [
       "DataFrame[Name: string, Symbol: string, LastSale: string, MarketCapLabel: string, MarketCapAmount: string, IPOyear: string, Sector: string, industry: string, Summary Quote: string]"
      ]
     },
     "execution_count": 42,
     "metadata": {},
     "output_type": "execute_result"
    }
   ],
   "source": [
    "df = spark.read.csv('./cogsley_clients.csv', inferSchema=True, header=True)\n",
    "df"
   ]
  },
  {
   "cell_type": "code",
   "execution_count": 44,
   "metadata": {},
   "outputs": [
    {
     "name": "stdout",
     "output_type": "stream",
     "text": [
      "+------------------+------+--------+--------------+---------------+-------+-------+-----------------+--------------------+\n",
      "|              Name|Symbol|LastSale|MarketCapLabel|MarketCapAmount|IPOyear| Sector|         industry|       Summary Quote|\n",
      "+------------------+------+--------+--------------+---------------+-------+-------+-----------------+--------------------+\n",
      "|1347 Capital Corp.|  TFSC|    9.43|       $56.09M|       56090000|   2014|Finance|Business Services|http://www.nasdaq...|\n",
      "|1347 Capital Corp.| TFSCR|    0.37|           n/a|              0|   2014|Finance|Business Services|http://www.nasdaq...|\n",
      "|1347 Capital Corp.| TFSCU|    9.97|       $41.67M|       41670000|   2014|    n/a|              n/a|http://www.nasdaq...|\n",
      "+------------------+------+--------+--------------+---------------+-------+-------+-----------------+--------------------+\n",
      "only showing top 3 rows\n",
      "\n"
     ]
    }
   ],
   "source": [
    "df.show(3)"
   ]
  },
  {
   "cell_type": "code",
   "execution_count": 47,
   "metadata": {},
   "outputs": [
    {
     "data": {
      "text/html": [
       "<div>\n",
       "<style scoped>\n",
       "    .dataframe tbody tr th:only-of-type {\n",
       "        vertical-align: middle;\n",
       "    }\n",
       "\n",
       "    .dataframe tbody tr th {\n",
       "        vertical-align: top;\n",
       "    }\n",
       "\n",
       "    .dataframe thead th {\n",
       "        text-align: right;\n",
       "    }\n",
       "</style>\n",
       "<table border=\"1\" class=\"dataframe\">\n",
       "  <thead>\n",
       "    <tr style=\"text-align: right;\">\n",
       "      <th></th>\n",
       "      <th>Name</th>\n",
       "      <th>Symbol</th>\n",
       "      <th>LastSale</th>\n",
       "      <th>MarketCapLabel</th>\n",
       "      <th>MarketCapAmount</th>\n",
       "      <th>IPOyear</th>\n",
       "      <th>Sector</th>\n",
       "      <th>industry</th>\n",
       "      <th>Summary Quote</th>\n",
       "    </tr>\n",
       "  </thead>\n",
       "  <tbody>\n",
       "    <tr>\n",
       "      <th>0</th>\n",
       "      <td>1347 Capital Corp.</td>\n",
       "      <td>TFSC</td>\n",
       "      <td>9.43</td>\n",
       "      <td>$56.09M</td>\n",
       "      <td>56090000</td>\n",
       "      <td>2014</td>\n",
       "      <td>Finance</td>\n",
       "      <td>Business Services</td>\n",
       "      <td>http://www.nasdaq.com/symbol/tfsc</td>\n",
       "    </tr>\n",
       "    <tr>\n",
       "      <th>1</th>\n",
       "      <td>1347 Capital Corp.</td>\n",
       "      <td>TFSCR</td>\n",
       "      <td>0.37</td>\n",
       "      <td>n/a</td>\n",
       "      <td>0</td>\n",
       "      <td>2014</td>\n",
       "      <td>Finance</td>\n",
       "      <td>Business Services</td>\n",
       "      <td>http://www.nasdaq.com/symbol/tfscr</td>\n",
       "    </tr>\n",
       "    <tr>\n",
       "      <th>2</th>\n",
       "      <td>1347 Capital Corp.</td>\n",
       "      <td>TFSCU</td>\n",
       "      <td>9.97</td>\n",
       "      <td>$41.67M</td>\n",
       "      <td>41670000</td>\n",
       "      <td>2014</td>\n",
       "      <td>n/a</td>\n",
       "      <td>n/a</td>\n",
       "      <td>http://www.nasdaq.com/symbol/tfscu</td>\n",
       "    </tr>\n",
       "    <tr>\n",
       "      <th>3</th>\n",
       "      <td>1347 Capital Corp.</td>\n",
       "      <td>TFSCW</td>\n",
       "      <td>0.2</td>\n",
       "      <td>n/a</td>\n",
       "      <td>0</td>\n",
       "      <td>2014</td>\n",
       "      <td>Finance</td>\n",
       "      <td>Business Services</td>\n",
       "      <td>http://www.nasdaq.com/symbol/tfscw</td>\n",
       "    </tr>\n",
       "    <tr>\n",
       "      <th>4</th>\n",
       "      <td>1347 Property Insurance Holdings, Inc.</td>\n",
       "      <td>PIH</td>\n",
       "      <td>7.66</td>\n",
       "      <td>$48.7M</td>\n",
       "      <td>48700000</td>\n",
       "      <td>2014</td>\n",
       "      <td>Finance</td>\n",
       "      <td>Property-Casualty Insurers</td>\n",
       "      <td>http://www.nasdaq.com/symbol/pih</td>\n",
       "    </tr>\n",
       "  </tbody>\n",
       "</table>\n",
       "</div>"
      ],
      "text/plain": [
       "                                     Name Symbol LastSale MarketCapLabel  \\\n",
       "0                      1347 Capital Corp.   TFSC     9.43        $56.09M   \n",
       "1                      1347 Capital Corp.  TFSCR     0.37            n/a   \n",
       "2                      1347 Capital Corp.  TFSCU     9.97        $41.67M   \n",
       "3                      1347 Capital Corp.  TFSCW      0.2            n/a   \n",
       "4  1347 Property Insurance Holdings, Inc.    PIH     7.66         $48.7M   \n",
       "\n",
       "  MarketCapAmount IPOyear   Sector                    industry  \\\n",
       "0        56090000    2014  Finance           Business Services   \n",
       "1               0    2014  Finance           Business Services   \n",
       "2        41670000    2014      n/a                         n/a   \n",
       "3               0    2014  Finance           Business Services   \n",
       "4        48700000    2014  Finance  Property-Casualty Insurers   \n",
       "\n",
       "                        Summary Quote  \n",
       "0   http://www.nasdaq.com/symbol/tfsc  \n",
       "1  http://www.nasdaq.com/symbol/tfscr  \n",
       "2  http://www.nasdaq.com/symbol/tfscu  \n",
       "3  http://www.nasdaq.com/symbol/tfscw  \n",
       "4    http://www.nasdaq.com/symbol/pih  "
      ]
     },
     "execution_count": 47,
     "metadata": {},
     "output_type": "execute_result"
    }
   ],
   "source": [
    "df.toPandas().head(5)"
   ]
  },
  {
   "cell_type": "code",
   "execution_count": 49,
   "metadata": {
    "collapsed": true
   },
   "outputs": [],
   "source": [
    "df.createTempView?"
   ]
  },
  {
   "cell_type": "code",
   "execution_count": 50,
   "metadata": {
    "collapsed": true
   },
   "outputs": [],
   "source": [
    "df.registerTempTable?"
   ]
  },
  {
   "cell_type": "code",
   "execution_count": 51,
   "metadata": {
    "collapsed": true
   },
   "outputs": [],
   "source": [
    "df.write.saveAsTable?"
   ]
  },
  {
   "cell_type": "code",
   "execution_count": 63,
   "metadata": {
    "collapsed": true
   },
   "outputs": [],
   "source": [
    "df.createTempView('clients')"
   ]
  },
  {
   "cell_type": "code",
   "execution_count": 64,
   "metadata": {},
   "outputs": [
    {
     "name": "stdout",
     "output_type": "stream",
     "text": [
      "+--------------------+--------+\n",
      "|                name|lastsale|\n",
      "+--------------------+--------+\n",
      "|  1347 Capital Corp.|    9.43|\n",
      "|  1347 Capital Corp.|    0.37|\n",
      "|  1347 Capital Corp.|    9.97|\n",
      "|  1347 Capital Corp.|     0.2|\n",
      "|1347 Property Ins...|    7.66|\n",
      "|1-800 FLOWERS.COM...|   10.32|\n",
      "|1st Century Bancs...|   6.774|\n",
      "|1st Constitution ...|   11.18|\n",
      "|1st Source Corpor...|   31.31|\n",
      "|21Vianet Group, Inc.|   18.33|\n",
      "|            2U, Inc.|   17.62|\n",
      "|3X Inverse Gold E...|   72.22|\n",
      "|         51job, Inc.|   33.77|\n",
      "|6D Global Technol...|    8.52|\n",
      "|             8x8 Inc|    7.62|\n",
      "|     A V Homes, Inc.|   15.13|\n",
      "|   A. Schulman, Inc.|    40.3|\n",
      "|          AAON, Inc.|   23.74|\n",
      "|        ABAXIS, Inc.|   60.17|\n",
      "|   Abengoa Yield plc|   34.73|\n",
      "+--------------------+--------+\n",
      "only showing top 20 rows\n",
      "\n"
     ]
    }
   ],
   "source": [
    "spark.sql('select name, lastsale from clients').show()"
   ]
  },
  {
   "cell_type": "markdown",
   "metadata": {
    "collapsed": true
   },
   "source": [
    "### create table using SQL"
   ]
  },
  {
   "cell_type": "code",
   "execution_count": 56,
   "metadata": {},
   "outputs": [
    {
     "data": {
      "text/plain": [
       "DataFrame[]"
      ]
     },
     "execution_count": 56,
     "metadata": {},
     "output_type": "execute_result"
    }
   ],
   "source": [
    "spark.sql('''\n",
    "CREATE TABLE IF NOT EXISTS sales\n",
    "USING CSV\n",
    "OPTIONS (path \"/home/soyoung/newSparkJune2018/exerciseData/cogsley_sales.csv\", header \"true\", inferSchema \"true\")\n",
    "''')"
   ]
  },
  {
   "cell_type": "code",
   "execution_count": 65,
   "metadata": {},
   "outputs": [
    {
     "name": "stdout",
     "output_type": "stream",
     "text": [
      "+--------+---------+-----------+\n",
      "|database|tableName|isTemporary|\n",
      "+--------+---------+-----------+\n",
      "| default|    sales|      false|\n",
      "|        |  clients|       true|\n",
      "|        |  tmpview|       true|\n",
      "+--------+---------+-----------+\n",
      "\n"
     ]
    }
   ],
   "source": [
    "spark.sql('show tables').show()"
   ]
  },
  {
   "cell_type": "code",
   "execution_count": 69,
   "metadata": {},
   "outputs": [],
   "source": [
    "import pandas as pd\n",
    "pd.options.display.max_columns=100"
   ]
  },
  {
   "cell_type": "code",
   "execution_count": 70,
   "metadata": {},
   "outputs": [
    {
     "data": {
      "text/html": [
       "<div>\n",
       "<style scoped>\n",
       "    .dataframe tbody tr th:only-of-type {\n",
       "        vertical-align: middle;\n",
       "    }\n",
       "\n",
       "    .dataframe tbody tr th {\n",
       "        vertical-align: top;\n",
       "    }\n",
       "\n",
       "    .dataframe thead th {\n",
       "        text-align: right;\n",
       "    }\n",
       "</style>\n",
       "<table border=\"1\" class=\"dataframe\">\n",
       "  <thead>\n",
       "    <tr style=\"text-align: right;\">\n",
       "      <th></th>\n",
       "      <th>RowID</th>\n",
       "      <th>OrderID</th>\n",
       "      <th>OrderDate</th>\n",
       "      <th>OrderMonthYear</th>\n",
       "      <th>Quantity</th>\n",
       "      <th>Quote</th>\n",
       "      <th>DiscountPct</th>\n",
       "      <th>Rate</th>\n",
       "      <th>SaleAmount</th>\n",
       "      <th>CustomerName</th>\n",
       "      <th>CompanyName</th>\n",
       "      <th>Sector</th>\n",
       "      <th>Industry</th>\n",
       "      <th>City</th>\n",
       "      <th>ZipCode</th>\n",
       "      <th>State</th>\n",
       "      <th>Region</th>\n",
       "      <th>ProjectCompleteDate</th>\n",
       "      <th>DaystoComplete</th>\n",
       "      <th>ProductKey</th>\n",
       "      <th>ProductCategory</th>\n",
       "      <th>ProductSubCategory</th>\n",
       "      <th>Consultant</th>\n",
       "      <th>Manager</th>\n",
       "      <th>HourlyWage</th>\n",
       "      <th>RowCount</th>\n",
       "      <th>WageMargin</th>\n",
       "    </tr>\n",
       "  </thead>\n",
       "  <tbody>\n",
       "    <tr>\n",
       "      <th>0</th>\n",
       "      <td>1</td>\n",
       "      <td>3</td>\n",
       "      <td>2010-10-13</td>\n",
       "      <td>2010-10-01</td>\n",
       "      <td>6</td>\n",
       "      <td>1200</td>\n",
       "      <td>0.04</td>\n",
       "      <td>200</td>\n",
       "      <td>1152.0</td>\n",
       "      <td>Muhammed MacIntyre</td>\n",
       "      <td>CA Inc.</td>\n",
       "      <td>Technology</td>\n",
       "      <td>Computer Software: Prepackaged Software</td>\n",
       "      <td>Highland Park</td>\n",
       "      <td>60035</td>\n",
       "      <td>Illinois</td>\n",
       "      <td>Central</td>\n",
       "      <td>2010-10-20</td>\n",
       "      <td>7</td>\n",
       "      <td>Development - Big Data</td>\n",
       "      <td>Development</td>\n",
       "      <td>Big Data</td>\n",
       "      <td>Ethan Bird</td>\n",
       "      <td>Josh Martinez</td>\n",
       "      <td>60</td>\n",
       "      <td>1</td>\n",
       "      <td>0.70</td>\n",
       "    </tr>\n",
       "    <tr>\n",
       "      <th>1</th>\n",
       "      <td>2</td>\n",
       "      <td>6</td>\n",
       "      <td>2012-02-20</td>\n",
       "      <td>2012-02-01</td>\n",
       "      <td>2</td>\n",
       "      <td>280</td>\n",
       "      <td>0.01</td>\n",
       "      <td>140</td>\n",
       "      <td>277.2</td>\n",
       "      <td>Ruben Staebel</td>\n",
       "      <td>Celgene Corporation</td>\n",
       "      <td>Health Care</td>\n",
       "      <td>Major Pharmaceuticals</td>\n",
       "      <td>Edmonds</td>\n",
       "      <td>98026</td>\n",
       "      <td>Washington</td>\n",
       "      <td>West</td>\n",
       "      <td>2012-02-21</td>\n",
       "      <td>1</td>\n",
       "      <td>Development - Front End Web</td>\n",
       "      <td>Development</td>\n",
       "      <td>Front End Web</td>\n",
       "      <td>Isabella Douglas</td>\n",
       "      <td>Bob Turner</td>\n",
       "      <td>75</td>\n",
       "      <td>1</td>\n",
       "      <td>0.46</td>\n",
       "    </tr>\n",
       "    <tr>\n",
       "      <th>2</th>\n",
       "      <td>3</td>\n",
       "      <td>32</td>\n",
       "      <td>2011-07-15</td>\n",
       "      <td>2011-07-01</td>\n",
       "      <td>26</td>\n",
       "      <td>3250</td>\n",
       "      <td>0.07</td>\n",
       "      <td>125</td>\n",
       "      <td>3022.5</td>\n",
       "      <td>Liz Greer</td>\n",
       "      <td>Twenty-First Century Fox, Inc.</td>\n",
       "      <td>Consumer Services</td>\n",
       "      <td>Television Services</td>\n",
       "      <td>Elk Plain</td>\n",
       "      <td>98387</td>\n",
       "      <td>Washington</td>\n",
       "      <td>West</td>\n",
       "      <td>2011-07-17</td>\n",
       "      <td>2</td>\n",
       "      <td>Training - SQL</td>\n",
       "      <td>Training</td>\n",
       "      <td>SQL</td>\n",
       "      <td>Isabella Douglas</td>\n",
       "      <td>Bob Turner</td>\n",
       "      <td>75</td>\n",
       "      <td>1</td>\n",
       "      <td>0.40</td>\n",
       "    </tr>\n",
       "    <tr>\n",
       "      <th>3</th>\n",
       "      <td>4</td>\n",
       "      <td>32</td>\n",
       "      <td>2011-07-15</td>\n",
       "      <td>2011-07-01</td>\n",
       "      <td>24</td>\n",
       "      <td>3000</td>\n",
       "      <td>0.09</td>\n",
       "      <td>125</td>\n",
       "      <td>2730.0</td>\n",
       "      <td>Liz Greer</td>\n",
       "      <td>Twenty-First Century Fox, Inc.</td>\n",
       "      <td>Consumer Services</td>\n",
       "      <td>Television Services</td>\n",
       "      <td>Elk Plain</td>\n",
       "      <td>98387</td>\n",
       "      <td>Washington</td>\n",
       "      <td>West</td>\n",
       "      <td>2011-07-16</td>\n",
       "      <td>1</td>\n",
       "      <td>Training - Javascript</td>\n",
       "      <td>Training</td>\n",
       "      <td>Javascript</td>\n",
       "      <td>Olivia Sullivan</td>\n",
       "      <td>Bob Turner</td>\n",
       "      <td>53</td>\n",
       "      <td>1</td>\n",
       "      <td>0.58</td>\n",
       "    </tr>\n",
       "    <tr>\n",
       "      <th>4</th>\n",
       "      <td>5</td>\n",
       "      <td>32</td>\n",
       "      <td>2011-07-15</td>\n",
       "      <td>2011-07-01</td>\n",
       "      <td>23</td>\n",
       "      <td>3450</td>\n",
       "      <td>0.04</td>\n",
       "      <td>150</td>\n",
       "      <td>3312.0</td>\n",
       "      <td>Liz Greer</td>\n",
       "      <td>Twenty-First Century Fox, Inc.</td>\n",
       "      <td>Consumer Services</td>\n",
       "      <td>Television Services</td>\n",
       "      <td>Elk Plain</td>\n",
       "      <td>98387</td>\n",
       "      <td>Washington</td>\n",
       "      <td>West</td>\n",
       "      <td>2011-07-17</td>\n",
       "      <td>2</td>\n",
       "      <td>Consulting - Market Research</td>\n",
       "      <td>Consulting</td>\n",
       "      <td>Market Research</td>\n",
       "      <td>Abigail Young</td>\n",
       "      <td>Bob Turner</td>\n",
       "      <td>50</td>\n",
       "      <td>1</td>\n",
       "      <td>0.67</td>\n",
       "    </tr>\n",
       "  </tbody>\n",
       "</table>\n",
       "</div>"
      ],
      "text/plain": [
       "   RowID  OrderID  OrderDate OrderMonthYear  Quantity  Quote  DiscountPct  \\\n",
       "0      1        3 2010-10-13     2010-10-01         6   1200         0.04   \n",
       "1      2        6 2012-02-20     2012-02-01         2    280         0.01   \n",
       "2      3       32 2011-07-15     2011-07-01        26   3250         0.07   \n",
       "3      4       32 2011-07-15     2011-07-01        24   3000         0.09   \n",
       "4      5       32 2011-07-15     2011-07-01        23   3450         0.04   \n",
       "\n",
       "   Rate  SaleAmount        CustomerName                     CompanyName  \\\n",
       "0   200      1152.0  Muhammed MacIntyre                         CA Inc.   \n",
       "1   140       277.2       Ruben Staebel             Celgene Corporation   \n",
       "2   125      3022.5           Liz Greer  Twenty-First Century Fox, Inc.   \n",
       "3   125      2730.0           Liz Greer  Twenty-First Century Fox, Inc.   \n",
       "4   150      3312.0           Liz Greer  Twenty-First Century Fox, Inc.   \n",
       "\n",
       "              Sector                                 Industry           City  \\\n",
       "0         Technology  Computer Software: Prepackaged Software  Highland Park   \n",
       "1        Health Care                    Major Pharmaceuticals        Edmonds   \n",
       "2  Consumer Services                      Television Services      Elk Plain   \n",
       "3  Consumer Services                      Television Services      Elk Plain   \n",
       "4  Consumer Services                      Television Services      Elk Plain   \n",
       "\n",
       "   ZipCode       State   Region ProjectCompleteDate  DaystoComplete  \\\n",
       "0    60035    Illinois  Central          2010-10-20               7   \n",
       "1    98026  Washington     West          2012-02-21               1   \n",
       "2    98387  Washington     West          2011-07-17               2   \n",
       "3    98387  Washington     West          2011-07-16               1   \n",
       "4    98387  Washington     West          2011-07-17               2   \n",
       "\n",
       "                     ProductKey ProductCategory ProductSubCategory  \\\n",
       "0        Development - Big Data     Development           Big Data   \n",
       "1   Development - Front End Web     Development      Front End Web   \n",
       "2                Training - SQL        Training                SQL   \n",
       "3         Training - Javascript        Training         Javascript   \n",
       "4  Consulting - Market Research      Consulting    Market Research   \n",
       "\n",
       "         Consultant        Manager  HourlyWage  RowCount  WageMargin  \n",
       "0        Ethan Bird  Josh Martinez          60         1        0.70  \n",
       "1  Isabella Douglas     Bob Turner          75         1        0.46  \n",
       "2  Isabella Douglas     Bob Turner          75         1        0.40  \n",
       "3   Olivia Sullivan     Bob Turner          53         1        0.58  \n",
       "4     Abigail Young     Bob Turner          50         1        0.67  "
      ]
     },
     "execution_count": 70,
     "metadata": {},
     "output_type": "execute_result"
    }
   ],
   "source": [
    "spark.sql('select * from sales limit 5').toPandas()"
   ]
  },
  {
   "cell_type": "code",
   "execution_count": 66,
   "metadata": {},
   "outputs": [
    {
     "data": {
      "text/html": [
       "<div>\n",
       "<style scoped>\n",
       "    .dataframe tbody tr th:only-of-type {\n",
       "        vertical-align: middle;\n",
       "    }\n",
       "\n",
       "    .dataframe tbody tr th {\n",
       "        vertical-align: top;\n",
       "    }\n",
       "\n",
       "    .dataframe thead th {\n",
       "        text-align: right;\n",
       "    }\n",
       "</style>\n",
       "<table border=\"1\" class=\"dataframe\">\n",
       "  <thead>\n",
       "    <tr style=\"text-align: right;\">\n",
       "      <th></th>\n",
       "      <th>Name</th>\n",
       "      <th>Symbol</th>\n",
       "      <th>LastSale</th>\n",
       "      <th>MarketCapLabel</th>\n",
       "      <th>MarketCapAmount</th>\n",
       "      <th>IPOyear</th>\n",
       "      <th>Sector</th>\n",
       "      <th>industry</th>\n",
       "      <th>Summary Quote</th>\n",
       "    </tr>\n",
       "  </thead>\n",
       "  <tbody>\n",
       "    <tr>\n",
       "      <th>0</th>\n",
       "      <td>1347 Capital Corp.</td>\n",
       "      <td>TFSC</td>\n",
       "      <td>9.43</td>\n",
       "      <td>$56.09M</td>\n",
       "      <td>56090000</td>\n",
       "      <td>2014</td>\n",
       "      <td>Finance</td>\n",
       "      <td>Business Services</td>\n",
       "      <td>http://www.nasdaq.com/symbol/tfsc</td>\n",
       "    </tr>\n",
       "    <tr>\n",
       "      <th>1</th>\n",
       "      <td>1347 Capital Corp.</td>\n",
       "      <td>TFSCR</td>\n",
       "      <td>0.37</td>\n",
       "      <td>n/a</td>\n",
       "      <td>0</td>\n",
       "      <td>2014</td>\n",
       "      <td>Finance</td>\n",
       "      <td>Business Services</td>\n",
       "      <td>http://www.nasdaq.com/symbol/tfscr</td>\n",
       "    </tr>\n",
       "    <tr>\n",
       "      <th>2</th>\n",
       "      <td>1347 Capital Corp.</td>\n",
       "      <td>TFSCU</td>\n",
       "      <td>9.97</td>\n",
       "      <td>$41.67M</td>\n",
       "      <td>41670000</td>\n",
       "      <td>2014</td>\n",
       "      <td>n/a</td>\n",
       "      <td>n/a</td>\n",
       "      <td>http://www.nasdaq.com/symbol/tfscu</td>\n",
       "    </tr>\n",
       "    <tr>\n",
       "      <th>3</th>\n",
       "      <td>1347 Capital Corp.</td>\n",
       "      <td>TFSCW</td>\n",
       "      <td>0.2</td>\n",
       "      <td>n/a</td>\n",
       "      <td>0</td>\n",
       "      <td>2014</td>\n",
       "      <td>Finance</td>\n",
       "      <td>Business Services</td>\n",
       "      <td>http://www.nasdaq.com/symbol/tfscw</td>\n",
       "    </tr>\n",
       "    <tr>\n",
       "      <th>4</th>\n",
       "      <td>1347 Property Insurance Holdings, Inc.</td>\n",
       "      <td>PIH</td>\n",
       "      <td>7.66</td>\n",
       "      <td>$48.7M</td>\n",
       "      <td>48700000</td>\n",
       "      <td>2014</td>\n",
       "      <td>Finance</td>\n",
       "      <td>Property-Casualty Insurers</td>\n",
       "      <td>http://www.nasdaq.com/symbol/pih</td>\n",
       "    </tr>\n",
       "  </tbody>\n",
       "</table>\n",
       "</div>"
      ],
      "text/plain": [
       "                                     Name Symbol LastSale MarketCapLabel  \\\n",
       "0                      1347 Capital Corp.   TFSC     9.43        $56.09M   \n",
       "1                      1347 Capital Corp.  TFSCR     0.37            n/a   \n",
       "2                      1347 Capital Corp.  TFSCU     9.97        $41.67M   \n",
       "3                      1347 Capital Corp.  TFSCW      0.2            n/a   \n",
       "4  1347 Property Insurance Holdings, Inc.    PIH     7.66         $48.7M   \n",
       "\n",
       "  MarketCapAmount IPOyear   Sector                    industry  \\\n",
       "0        56090000    2014  Finance           Business Services   \n",
       "1               0    2014  Finance           Business Services   \n",
       "2        41670000    2014      n/a                         n/a   \n",
       "3               0    2014  Finance           Business Services   \n",
       "4        48700000    2014  Finance  Property-Casualty Insurers   \n",
       "\n",
       "                        Summary Quote  \n",
       "0   http://www.nasdaq.com/symbol/tfsc  \n",
       "1  http://www.nasdaq.com/symbol/tfscr  \n",
       "2  http://www.nasdaq.com/symbol/tfscu  \n",
       "3  http://www.nasdaq.com/symbol/tfscw  \n",
       "4    http://www.nasdaq.com/symbol/pih  "
      ]
     },
     "execution_count": 66,
     "metadata": {},
     "output_type": "execute_result"
    }
   ],
   "source": [
    "spark.sql('select * from clients limit 5').toPandas()"
   ]
  },
  {
   "cell_type": "code",
   "execution_count": 72,
   "metadata": {},
   "outputs": [
    {
     "data": {
      "text/plain": [
       "DataFrame[CompanyName: string, IPOYear: string, Symbol: string, Sales: double]"
      ]
     },
     "execution_count": 72,
     "metadata": {},
     "output_type": "execute_result"
    }
   ],
   "source": [
    "joinedQuery = spark.sql('''select CompanyName, IPOYear, Symbol, round(sum(SaleAmount)) as Sales\n",
    "                        from sales s join clients c on s.CompanyName = c.Name\n",
    "                        group by CompanyName, IPOYear, Symbol\n",
    "                        order by 1''')\n",
    "joinedQuery"
   ]
  },
  {
   "cell_type": "code",
   "execution_count": 74,
   "metadata": {},
   "outputs": [
    {
     "data": {
      "text/html": [
       "<div>\n",
       "<style scoped>\n",
       "    .dataframe tbody tr th:only-of-type {\n",
       "        vertical-align: middle;\n",
       "    }\n",
       "\n",
       "    .dataframe tbody tr th {\n",
       "        vertical-align: top;\n",
       "    }\n",
       "\n",
       "    .dataframe thead th {\n",
       "        text-align: right;\n",
       "    }\n",
       "</style>\n",
       "<table border=\"1\" class=\"dataframe\">\n",
       "  <thead>\n",
       "    <tr style=\"text-align: right;\">\n",
       "      <th></th>\n",
       "      <th>CompanyName</th>\n",
       "      <th>IPOYear</th>\n",
       "      <th>Symbol</th>\n",
       "      <th>Sales</th>\n",
       "    </tr>\n",
       "  </thead>\n",
       "  <tbody>\n",
       "    <tr>\n",
       "      <th>109</th>\n",
       "      <td>Whole Foods Market, Inc.</td>\n",
       "      <td>n/a</td>\n",
       "      <td>WFM</td>\n",
       "      <td>298207.0</td>\n",
       "    </tr>\n",
       "    <tr>\n",
       "      <th>110</th>\n",
       "      <td>Wynn Resorts, Limited</td>\n",
       "      <td>2002</td>\n",
       "      <td>WYNN</td>\n",
       "      <td>198158.0</td>\n",
       "    </tr>\n",
       "    <tr>\n",
       "      <th>111</th>\n",
       "      <td>Xilinx, Inc.</td>\n",
       "      <td>1990</td>\n",
       "      <td>XLNX</td>\n",
       "      <td>217586.0</td>\n",
       "    </tr>\n",
       "    <tr>\n",
       "      <th>112</th>\n",
       "      <td>Yahoo! Inc.</td>\n",
       "      <td>1996</td>\n",
       "      <td>YHOO</td>\n",
       "      <td>265540.0</td>\n",
       "    </tr>\n",
       "    <tr>\n",
       "      <th>113</th>\n",
       "      <td>eBay Inc.</td>\n",
       "      <td>1998</td>\n",
       "      <td>EBAY</td>\n",
       "      <td>285432.0</td>\n",
       "    </tr>\n",
       "  </tbody>\n",
       "</table>\n",
       "</div>"
      ],
      "text/plain": [
       "                  CompanyName IPOYear Symbol     Sales\n",
       "109  Whole Foods Market, Inc.     n/a    WFM  298207.0\n",
       "110     Wynn Resorts, Limited    2002   WYNN  198158.0\n",
       "111              Xilinx, Inc.    1990   XLNX  217586.0\n",
       "112               Yahoo! Inc.    1996   YHOO  265540.0\n",
       "113                 eBay Inc.    1998   EBAY  285432.0"
      ]
     },
     "execution_count": 74,
     "metadata": {},
     "output_type": "execute_result"
    }
   ],
   "source": [
    "joineddf = joinedQuery.toPandas()\n",
    "joineddf.tail()"
   ]
  },
  {
   "cell_type": "markdown",
   "metadata": {},
   "source": [
    "___\n",
    "* add state data"
   ]
  },
  {
   "cell_type": "code",
   "execution_count": 75,
   "metadata": {},
   "outputs": [
    {
     "data": {
      "text/plain": [
       "DataFrame[State: string, StateCode: string, Capital: string, LargestCity: string, PopulationEst2015: int, HouseSeats: int, StateHood: timestamp]"
      ]
     },
     "execution_count": 75,
     "metadata": {},
     "output_type": "execute_result"
    }
   ],
   "source": [
    "state = spark.read.csv('./state_info.csv', inferSchema=True, header=True)\n",
    "state"
   ]
  },
  {
   "cell_type": "code",
   "execution_count": 78,
   "metadata": {},
   "outputs": [
    {
     "data": {
      "text/plain": [
       "50"
      ]
     },
     "execution_count": 78,
     "metadata": {},
     "output_type": "execute_result"
    }
   ],
   "source": [
    "state.count()"
   ]
  },
  {
   "cell_type": "code",
   "execution_count": 77,
   "metadata": {},
   "outputs": [
    {
     "name": "stdout",
     "output_type": "stream",
     "text": [
      "+-------+---------+----------+-----------+-----------------+----------+-------------------+\n",
      "|  State|StateCode|   Capital|LargestCity|PopulationEst2015|HouseSeats|          StateHood|\n",
      "+-------+---------+----------+-----------+-----------------+----------+-------------------+\n",
      "|Alabama|       AL|Montgomery| Birmingham|          4858979|         7|1819-12-14 00:00:00|\n",
      "| Alaska|       AK|    Juneau|  Anchorage|           738432|         1|1959-01-03 00:00:00|\n",
      "|Arizona|       AZ|   Phoenix|    Phoenix|          6828065|         9|1912-02-14 00:00:00|\n",
      "+-------+---------+----------+-----------+-----------------+----------+-------------------+\n",
      "only showing top 3 rows\n",
      "\n"
     ]
    }
   ],
   "source": [
    "state.show(3)"
   ]
  },
  {
   "cell_type": "code",
   "execution_count": 79,
   "metadata": {},
   "outputs": [
    {
     "name": "stdout",
     "output_type": "stream",
     "text": [
      "root\n",
      " |-- State: string (nullable = true)\n",
      " |-- StateCode: string (nullable = true)\n",
      " |-- Capital: string (nullable = true)\n",
      " |-- LargestCity: string (nullable = true)\n",
      " |-- PopulationEst2015: integer (nullable = true)\n",
      " |-- HouseSeats: integer (nullable = true)\n",
      " |-- StateHood: timestamp (nullable = true)\n",
      "\n"
     ]
    }
   ],
   "source": [
    "state.printSchema()"
   ]
  },
  {
   "cell_type": "code",
   "execution_count": 80,
   "metadata": {
    "collapsed": true
   },
   "outputs": [],
   "source": [
    "state.write.saveAsTable('state')"
   ]
  },
  {
   "cell_type": "code",
   "execution_count": 81,
   "metadata": {},
   "outputs": [
    {
     "name": "stdout",
     "output_type": "stream",
     "text": [
      "+--------+---------+-----------+\n",
      "|database|tableName|isTemporary|\n",
      "+--------+---------+-----------+\n",
      "| default|    sales|      false|\n",
      "| default|    state|      false|\n",
      "|        |  clients|       true|\n",
      "|        |  tmpview|       true|\n",
      "+--------+---------+-----------+\n",
      "\n"
     ]
    }
   ],
   "source": [
    "spark.sql('show tables').show()"
   ]
  },
  {
   "cell_type": "code",
   "execution_count": 82,
   "metadata": {},
   "outputs": [
    {
     "data": {
      "text/html": [
       "<div>\n",
       "<style scoped>\n",
       "    .dataframe tbody tr th:only-of-type {\n",
       "        vertical-align: middle;\n",
       "    }\n",
       "\n",
       "    .dataframe tbody tr th {\n",
       "        vertical-align: top;\n",
       "    }\n",
       "\n",
       "    .dataframe thead th {\n",
       "        text-align: right;\n",
       "    }\n",
       "</style>\n",
       "<table border=\"1\" class=\"dataframe\">\n",
       "  <thead>\n",
       "    <tr style=\"text-align: right;\">\n",
       "      <th></th>\n",
       "      <th>State</th>\n",
       "      <th>StateCode</th>\n",
       "      <th>Capital</th>\n",
       "      <th>LargestCity</th>\n",
       "      <th>PopulationEst2015</th>\n",
       "      <th>HouseSeats</th>\n",
       "      <th>StateHood</th>\n",
       "    </tr>\n",
       "  </thead>\n",
       "  <tbody>\n",
       "    <tr>\n",
       "      <th>0</th>\n",
       "      <td>Alabama</td>\n",
       "      <td>AL</td>\n",
       "      <td>Montgomery</td>\n",
       "      <td>Birmingham</td>\n",
       "      <td>4858979</td>\n",
       "      <td>7</td>\n",
       "      <td>1819-12-14 00:07:58</td>\n",
       "    </tr>\n",
       "    <tr>\n",
       "      <th>1</th>\n",
       "      <td>Alaska</td>\n",
       "      <td>AK</td>\n",
       "      <td>Juneau</td>\n",
       "      <td>Anchorage</td>\n",
       "      <td>738432</td>\n",
       "      <td>1</td>\n",
       "      <td>1959-01-03 00:00:00</td>\n",
       "    </tr>\n",
       "    <tr>\n",
       "      <th>2</th>\n",
       "      <td>Arizona</td>\n",
       "      <td>AZ</td>\n",
       "      <td>Phoenix</td>\n",
       "      <td>Phoenix</td>\n",
       "      <td>6828065</td>\n",
       "      <td>9</td>\n",
       "      <td>1912-02-14 00:00:00</td>\n",
       "    </tr>\n",
       "    <tr>\n",
       "      <th>3</th>\n",
       "      <td>Arkansas</td>\n",
       "      <td>AR</td>\n",
       "      <td>Little Rock</td>\n",
       "      <td>Little Rock</td>\n",
       "      <td>2978204</td>\n",
       "      <td>4</td>\n",
       "      <td>1836-06-15 00:07:58</td>\n",
       "    </tr>\n",
       "    <tr>\n",
       "      <th>4</th>\n",
       "      <td>California</td>\n",
       "      <td>CA</td>\n",
       "      <td>Sacramento</td>\n",
       "      <td>Los Angeles</td>\n",
       "      <td>39144818</td>\n",
       "      <td>53</td>\n",
       "      <td>1850-09-09 00:07:58</td>\n",
       "    </tr>\n",
       "  </tbody>\n",
       "</table>\n",
       "</div>"
      ],
      "text/plain": [
       "        State StateCode      Capital  LargestCity  PopulationEst2015  \\\n",
       "0     Alabama        AL   Montgomery   Birmingham            4858979   \n",
       "1      Alaska        AK       Juneau    Anchorage             738432   \n",
       "2     Arizona        AZ      Phoenix      Phoenix            6828065   \n",
       "3    Arkansas        AR  Little Rock  Little Rock            2978204   \n",
       "4  California        CA   Sacramento  Los Angeles           39144818   \n",
       "\n",
       "   HouseSeats           StateHood  \n",
       "0           7 1819-12-14 00:07:58  \n",
       "1           1 1959-01-03 00:00:00  \n",
       "2           9 1912-02-14 00:00:00  \n",
       "3           4 1836-06-15 00:07:58  \n",
       "4          53 1850-09-09 00:07:58  "
      ]
     },
     "execution_count": 82,
     "metadata": {},
     "output_type": "execute_result"
    }
   ],
   "source": [
    "spark.sql('select * from state limit 5').toPandas()"
   ]
  },
  {
   "cell_type": "code",
   "execution_count": 84,
   "metadata": {},
   "outputs": [],
   "source": [
    "statequery=spark.sql('''select i.StateCode, round(sum(s.SaleAmount)) as sales\n",
    "                        from sales s join state i on s.State = i.State\n",
    "                        group by i.StateCode''')"
   ]
  },
  {
   "cell_type": "code",
   "execution_count": 86,
   "metadata": {},
   "outputs": [
    {
     "data": {
      "text/html": [
       "<div>\n",
       "<style scoped>\n",
       "    .dataframe tbody tr th:only-of-type {\n",
       "        vertical-align: middle;\n",
       "    }\n",
       "\n",
       "    .dataframe tbody tr th {\n",
       "        vertical-align: top;\n",
       "    }\n",
       "\n",
       "    .dataframe thead th {\n",
       "        text-align: right;\n",
       "    }\n",
       "</style>\n",
       "<table border=\"1\" class=\"dataframe\">\n",
       "  <thead>\n",
       "    <tr style=\"text-align: right;\">\n",
       "      <th></th>\n",
       "      <th>StateCode</th>\n",
       "      <th>sales</th>\n",
       "    </tr>\n",
       "  </thead>\n",
       "  <tbody>\n",
       "    <tr>\n",
       "      <th>41</th>\n",
       "      <td>FL</td>\n",
       "      <td>1653074.0</td>\n",
       "    </tr>\n",
       "    <tr>\n",
       "      <th>42</th>\n",
       "      <td>CO</td>\n",
       "      <td>614704.0</td>\n",
       "    </tr>\n",
       "    <tr>\n",
       "      <th>43</th>\n",
       "      <td>AR</td>\n",
       "      <td>439497.0</td>\n",
       "    </tr>\n",
       "    <tr>\n",
       "      <th>44</th>\n",
       "      <td>OK</td>\n",
       "      <td>329649.0</td>\n",
       "    </tr>\n",
       "    <tr>\n",
       "      <th>45</th>\n",
       "      <td>UT</td>\n",
       "      <td>496737.0</td>\n",
       "    </tr>\n",
       "  </tbody>\n",
       "</table>\n",
       "</div>"
      ],
      "text/plain": [
       "   StateCode      sales\n",
       "41        FL  1653074.0\n",
       "42        CO   614704.0\n",
       "43        AR   439497.0\n",
       "44        OK   329649.0\n",
       "45        UT   496737.0"
      ]
     },
     "execution_count": 86,
     "metadata": {},
     "output_type": "execute_result"
    }
   ],
   "source": [
    "statequery.toPandas().tail()"
   ]
  },
  {
   "cell_type": "markdown",
   "metadata": {},
   "source": [
    "___\n",
    "### Machine Learning\n",
    "* #### Data Preprocessing"
   ]
  },
  {
   "cell_type": "code",
   "execution_count": 87,
   "metadata": {
    "collapsed": true
   },
   "outputs": [],
   "source": [
    "import os"
   ]
  },
  {
   "cell_type": "code",
   "execution_count": 91,
   "metadata": {},
   "outputs": [
    {
     "data": {
      "text/html": [
       "\n",
       "            <div>\n",
       "                <p><b>SparkSession - in-memory</b></p>\n",
       "                \n",
       "        <div>\n",
       "            <p><b>SparkContext</b></p>\n",
       "\n",
       "            <p><a href=\"http://node1.hadoop.com:4041\">Spark UI</a></p>\n",
       "\n",
       "            <dl>\n",
       "              <dt>Version</dt>\n",
       "                <dd><code>v2.3.0</code></dd>\n",
       "              <dt>Master</dt>\n",
       "                <dd><code>local[*]</code></dd>\n",
       "              <dt>AppName</dt>\n",
       "                <dd><code>pyspark-shell</code></dd>\n",
       "            </dl>\n",
       "        </div>\n",
       "        \n",
       "            </div>\n",
       "        "
      ],
      "text/plain": [
       "<pyspark.sql.session.SparkSession at 0x7f4346ee1990>"
      ]
     },
     "execution_count": 91,
     "metadata": {},
     "output_type": "execute_result"
    }
   ],
   "source": [
    "spark"
   ]
  },
  {
   "cell_type": "code",
   "execution_count": 92,
   "metadata": {
    "collapsed": true
   },
   "outputs": [],
   "source": [
    "from pyspark import SparkConf"
   ]
  },
  {
   "cell_type": "code",
   "execution_count": 101,
   "metadata": {},
   "outputs": [
    {
     "data": {
      "text/plain": [
       "[Table(name=u'sales', database=u'default', description=None, tableType=u'EXTERNAL', isTemporary=False),\n",
       " Table(name=u'state', database=u'default', description=None, tableType=u'MANAGED', isTemporary=False),\n",
       " Table(name=u'clients', database=None, description=None, tableType=u'TEMPORARY', isTemporary=True),\n",
       " Table(name=u'tmpview', database=None, description=None, tableType=u'TEMPORARY', isTemporary=True)]"
      ]
     },
     "execution_count": 101,
     "metadata": {},
     "output_type": "execute_result"
    }
   ],
   "source": [
    "spark.catalog.listTables()"
   ]
  },
  {
   "cell_type": "code",
   "execution_count": 100,
   "metadata": {},
   "outputs": [
    {
     "data": {
      "text/plain": [
       "[Database(name=u'default', description=u'default database', locationUri=u'file:/home/soyoung/newSparkJune2018/exerciseData/spark-warehouse')]"
      ]
     },
     "execution_count": 100,
     "metadata": {},
     "output_type": "execute_result"
    }
   ],
   "source": [
    "spark.catalog.listDatabases()"
   ]
  },
  {
   "cell_type": "markdown",
   "metadata": {},
   "source": [
    "___"
   ]
  },
  {
   "cell_type": "code",
   "execution_count": 103,
   "metadata": {},
   "outputs": [
    {
     "name": "stdout",
     "output_type": "stream",
     "text": [
      "/home/soyoung/newSparkJune2018/exerciseData\r\n"
     ]
    }
   ],
   "source": [
    "!pwd"
   ]
  },
  {
   "cell_type": "code",
   "execution_count": 104,
   "metadata": {},
   "outputs": [
    {
     "data": {
      "text/plain": [
       "8399"
      ]
     },
     "execution_count": 104,
     "metadata": {},
     "output_type": "execute_result"
    }
   ],
   "source": [
    "df3 = spark.read.csv('./cogsley_sales.csv', inferSchema=True, header=True)\n",
    "df3.count()"
   ]
  },
  {
   "cell_type": "code",
   "execution_count": 106,
   "metadata": {},
   "outputs": [
    {
     "data": {
      "text/plain": [
       "8399"
      ]
     },
     "execution_count": 106,
     "metadata": {},
     "output_type": "execute_result"
    }
   ],
   "source": [
    "df3.cache()\n",
    "df3=df3.dropna()\n",
    "df3.count()"
   ]
  },
  {
   "cell_type": "code",
   "execution_count": 118,
   "metadata": {},
   "outputs": [
    {
     "data": {
      "text/html": [
       "<div>\n",
       "<style scoped>\n",
       "    .dataframe tbody tr th:only-of-type {\n",
       "        vertical-align: middle;\n",
       "    }\n",
       "\n",
       "    .dataframe tbody tr th {\n",
       "        vertical-align: top;\n",
       "    }\n",
       "\n",
       "    .dataframe thead th {\n",
       "        text-align: right;\n",
       "    }\n",
       "</style>\n",
       "<table border=\"1\" class=\"dataframe\">\n",
       "  <thead>\n",
       "    <tr style=\"text-align: right;\">\n",
       "      <th></th>\n",
       "      <th>RowID</th>\n",
       "      <th>OrderID</th>\n",
       "      <th>OrderDate</th>\n",
       "      <th>OrderMonthYear</th>\n",
       "      <th>Quantity</th>\n",
       "      <th>Quote</th>\n",
       "      <th>DiscountPct</th>\n",
       "      <th>Rate</th>\n",
       "      <th>SaleAmount</th>\n",
       "      <th>CustomerName</th>\n",
       "      <th>CompanyName</th>\n",
       "      <th>Sector</th>\n",
       "      <th>Industry</th>\n",
       "      <th>City</th>\n",
       "      <th>ZipCode</th>\n",
       "      <th>State</th>\n",
       "      <th>Region</th>\n",
       "      <th>ProjectCompleteDate</th>\n",
       "      <th>DaystoComplete</th>\n",
       "      <th>ProductKey</th>\n",
       "      <th>ProductCategory</th>\n",
       "      <th>ProductSubCategory</th>\n",
       "      <th>Consultant</th>\n",
       "      <th>Manager</th>\n",
       "      <th>HourlyWage</th>\n",
       "      <th>RowCount</th>\n",
       "      <th>WageMargin</th>\n",
       "    </tr>\n",
       "  </thead>\n",
       "  <tbody>\n",
       "    <tr>\n",
       "      <th>0</th>\n",
       "      <td>1</td>\n",
       "      <td>3</td>\n",
       "      <td>2010-10-13</td>\n",
       "      <td>2010-10-01</td>\n",
       "      <td>6</td>\n",
       "      <td>1200</td>\n",
       "      <td>0.04</td>\n",
       "      <td>200</td>\n",
       "      <td>1152.0</td>\n",
       "      <td>Muhammed MacIntyre</td>\n",
       "      <td>CA Inc.</td>\n",
       "      <td>Technology</td>\n",
       "      <td>Computer Software: Prepackaged Software</td>\n",
       "      <td>Highland Park</td>\n",
       "      <td>60035</td>\n",
       "      <td>Illinois</td>\n",
       "      <td>Central</td>\n",
       "      <td>2010-10-20</td>\n",
       "      <td>7</td>\n",
       "      <td>Development - Big Data</td>\n",
       "      <td>Development</td>\n",
       "      <td>Big Data</td>\n",
       "      <td>Ethan Bird</td>\n",
       "      <td>Josh Martinez</td>\n",
       "      <td>60</td>\n",
       "      <td>1</td>\n",
       "      <td>0.70</td>\n",
       "    </tr>\n",
       "    <tr>\n",
       "      <th>1</th>\n",
       "      <td>2</td>\n",
       "      <td>6</td>\n",
       "      <td>2012-02-20</td>\n",
       "      <td>2012-02-01</td>\n",
       "      <td>2</td>\n",
       "      <td>280</td>\n",
       "      <td>0.01</td>\n",
       "      <td>140</td>\n",
       "      <td>277.2</td>\n",
       "      <td>Ruben Staebel</td>\n",
       "      <td>Celgene Corporation</td>\n",
       "      <td>Health Care</td>\n",
       "      <td>Major Pharmaceuticals</td>\n",
       "      <td>Edmonds</td>\n",
       "      <td>98026</td>\n",
       "      <td>Washington</td>\n",
       "      <td>West</td>\n",
       "      <td>2012-02-21</td>\n",
       "      <td>1</td>\n",
       "      <td>Development - Front End Web</td>\n",
       "      <td>Development</td>\n",
       "      <td>Front End Web</td>\n",
       "      <td>Isabella Douglas</td>\n",
       "      <td>Bob Turner</td>\n",
       "      <td>75</td>\n",
       "      <td>1</td>\n",
       "      <td>0.46</td>\n",
       "    </tr>\n",
       "    <tr>\n",
       "      <th>2</th>\n",
       "      <td>3</td>\n",
       "      <td>32</td>\n",
       "      <td>2011-07-15</td>\n",
       "      <td>2011-07-01</td>\n",
       "      <td>26</td>\n",
       "      <td>3250</td>\n",
       "      <td>0.07</td>\n",
       "      <td>125</td>\n",
       "      <td>3022.5</td>\n",
       "      <td>Liz Greer</td>\n",
       "      <td>Twenty-First Century Fox, Inc.</td>\n",
       "      <td>Consumer Services</td>\n",
       "      <td>Television Services</td>\n",
       "      <td>Elk Plain</td>\n",
       "      <td>98387</td>\n",
       "      <td>Washington</td>\n",
       "      <td>West</td>\n",
       "      <td>2011-07-17</td>\n",
       "      <td>2</td>\n",
       "      <td>Training - SQL</td>\n",
       "      <td>Training</td>\n",
       "      <td>SQL</td>\n",
       "      <td>Isabella Douglas</td>\n",
       "      <td>Bob Turner</td>\n",
       "      <td>75</td>\n",
       "      <td>1</td>\n",
       "      <td>0.40</td>\n",
       "    </tr>\n",
       "  </tbody>\n",
       "</table>\n",
       "</div>"
      ],
      "text/plain": [
       "   RowID  OrderID  OrderDate OrderMonthYear  Quantity  Quote  DiscountPct  \\\n",
       "0      1        3 2010-10-13     2010-10-01         6   1200         0.04   \n",
       "1      2        6 2012-02-20     2012-02-01         2    280         0.01   \n",
       "2      3       32 2011-07-15     2011-07-01        26   3250         0.07   \n",
       "\n",
       "   Rate  SaleAmount        CustomerName                     CompanyName  \\\n",
       "0   200      1152.0  Muhammed MacIntyre                         CA Inc.   \n",
       "1   140       277.2       Ruben Staebel             Celgene Corporation   \n",
       "2   125      3022.5           Liz Greer  Twenty-First Century Fox, Inc.   \n",
       "\n",
       "              Sector                                 Industry           City  \\\n",
       "0         Technology  Computer Software: Prepackaged Software  Highland Park   \n",
       "1        Health Care                    Major Pharmaceuticals        Edmonds   \n",
       "2  Consumer Services                      Television Services      Elk Plain   \n",
       "\n",
       "   ZipCode       State   Region ProjectCompleteDate  DaystoComplete  \\\n",
       "0    60035    Illinois  Central          2010-10-20               7   \n",
       "1    98026  Washington     West          2012-02-21               1   \n",
       "2    98387  Washington     West          2011-07-17               2   \n",
       "\n",
       "                    ProductKey ProductCategory ProductSubCategory  \\\n",
       "0       Development - Big Data     Development           Big Data   \n",
       "1  Development - Front End Web     Development      Front End Web   \n",
       "2               Training - SQL        Training                SQL   \n",
       "\n",
       "         Consultant        Manager  HourlyWage  RowCount  WageMargin  \n",
       "0        Ethan Bird  Josh Martinez          60         1        0.70  \n",
       "1  Isabella Douglas     Bob Turner          75         1        0.46  \n",
       "2  Isabella Douglas     Bob Turner          75         1        0.40  "
      ]
     },
     "execution_count": 118,
     "metadata": {},
     "output_type": "execute_result"
    }
   ],
   "source": [
    "df3.limit(3).toPandas()"
   ]
  },
  {
   "cell_type": "markdown",
   "metadata": {},
   "source": [
    "___"
   ]
  },
  {
   "cell_type": "code",
   "execution_count": 130,
   "metadata": {},
   "outputs": [
    {
     "data": {
      "text/plain": [
       "DataFrame[OrderMonthYear: timestamp, SaleAmount: double]"
      ]
     },
     "execution_count": 130,
     "metadata": {},
     "output_type": "execute_result"
    }
   ],
   "source": [
    "summary = df3.select([\"OrderMonthYear\", 'SaleAmount'])\\\n",
    ".groupBy('OrderMonthYear').sum().orderBy(\"OrderMonthYear\").toDF('OrderMonthYear','SaleAmount')\n",
    "summary"
   ]
  },
  {
   "cell_type": "code",
   "execution_count": 135,
   "metadata": {},
   "outputs": [
    {
     "name": "stdout",
     "output_type": "stream",
     "text": [
      "+-------------------+-----------------+\n",
      "|     OrderMonthYear|       SaleAmount|\n",
      "+-------------------+-----------------+\n",
      "|2009-01-01 00:00:00|741024.2000000001|\n",
      "|2009-02-01 00:00:00|544241.1499999998|\n",
      "|2009-03-01 00:00:00|        563502.15|\n",
      "+-------------------+-----------------+\n",
      "\n"
     ]
    }
   ],
   "source": [
    "summary.limit(3).show()"
   ]
  },
  {
   "cell_type": "code",
   "execution_count": 140,
   "metadata": {},
   "outputs": [],
   "source": [
    "from pyspark.sql import SQLContext"
   ]
  },
  {
   "cell_type": "code",
   "execution_count": 157,
   "metadata": {
    "collapsed": true
   },
   "outputs": [],
   "source": [
    "udf=lambda r: str(r).replace('-','')"
   ]
  },
  {
   "cell_type": "code",
   "execution_count": 170,
   "metadata": {},
   "outputs": [
    {
     "data": {
      "text/plain": [
       "Row(OrderMonthYear=datetime.datetime(2009, 1, 1, 0, 0), SaleAmount=741024.2000000001)"
      ]
     },
     "execution_count": 170,
     "metadata": {},
     "output_type": "execute_result"
    }
   ],
   "source": [
    "summary.rdd.first()"
   ]
  },
  {
   "cell_type": "markdown",
   "metadata": {},
   "source": [
    "#### change data type"
   ]
  },
  {
   "cell_type": "code",
   "execution_count": 189,
   "metadata": {},
   "outputs": [
    {
     "name": "stdout",
     "output_type": "stream",
     "text": [
      "+--------------+-----------------+\n",
      "|OrderMonthYear|       SaleAmount|\n",
      "+--------------+-----------------+\n",
      "|    1230786000|741024.2000000001|\n",
      "|    1233464400|544241.1499999998|\n",
      "|    1235883600|        563502.15|\n",
      "+--------------+-----------------+\n",
      "only showing top 3 rows\n",
      "\n"
     ]
    }
   ],
   "source": [
    "summary.withColumn('OrderMonthYear', summary.OrderMonthYear.cast('int')).show(3)"
   ]
  },
  {
   "cell_type": "markdown",
   "metadata": {},
   "source": [
    "####  rdd map func"
   ]
  },
  {
   "cell_type": "code",
   "execution_count": 190,
   "metadata": {},
   "outputs": [
    {
     "data": {
      "text/plain": [
       "('20090101', 741024.2000000001)"
      ]
     },
     "execution_count": 190,
     "metadata": {},
     "output_type": "execute_result"
    }
   ],
   "source": [
    "summary.rdd.map(lambda r: (str(r.OrderMonthYear).split()[0].replace('-',''), r.SaleAmount)).first()"
   ]
  },
  {
   "cell_type": "code",
   "execution_count": 194,
   "metadata": {},
   "outputs": [
    {
     "data": {
      "text/plain": [
       "('20090101', 741024.2)"
      ]
     },
     "execution_count": 194,
     "metadata": {},
     "output_type": "execute_result"
    }
   ],
   "source": [
    "summary.rdd.map(lambda r: (str(r.OrderMonthYear).split()[0].replace('-',''), round(r.SaleAmount,2))).first()"
   ]
  },
  {
   "cell_type": "code",
   "execution_count": 196,
   "metadata": {},
   "outputs": [
    {
     "data": {
      "text/plain": [
       "DataFrame[date: string, sales: double]"
      ]
     },
     "execution_count": 196,
     "metadata": {},
     "output_type": "execute_result"
    }
   ],
   "source": [
    "summary.rdd.map(lambda r: (str(r.OrderMonthYear).split()[0].replace('-',''), round(r.SaleAmount,2))).toDF(['date','sales'])"
   ]
  },
  {
   "cell_type": "code",
   "execution_count": 217,
   "metadata": {},
   "outputs": [
    {
     "data": {
      "text/plain": [
       "DataFrame[date: string, sales: double]"
      ]
     },
     "execution_count": 217,
     "metadata": {},
     "output_type": "execute_result"
    }
   ],
   "source": [
    "result1 = summary.rdd\\\n",
    "    .map(lambda r: (str(r.OrderMonthYear).split()[0].replace('-',''), round(r.SaleAmount,2)))\\\n",
    "    .toDF(['date','sales'])\n",
    "result1"
   ]
  },
  {
   "cell_type": "code",
   "execution_count": 223,
   "metadata": {},
   "outputs": [
    {
     "data": {
      "text/html": [
       "<div>\n",
       "<style scoped>\n",
       "    .dataframe tbody tr th:only-of-type {\n",
       "        vertical-align: middle;\n",
       "    }\n",
       "\n",
       "    .dataframe tbody tr th {\n",
       "        vertical-align: top;\n",
       "    }\n",
       "\n",
       "    .dataframe thead th {\n",
       "        text-align: right;\n",
       "    }\n",
       "</style>\n",
       "<table border=\"1\" class=\"dataframe\">\n",
       "  <thead>\n",
       "    <tr style=\"text-align: right;\">\n",
       "      <th></th>\n",
       "      <th>date</th>\n",
       "      <th>sales</th>\n",
       "    </tr>\n",
       "  </thead>\n",
       "  <tbody>\n",
       "    <tr>\n",
       "      <th>0</th>\n",
       "      <td>20090101</td>\n",
       "      <td>741024.20</td>\n",
       "    </tr>\n",
       "    <tr>\n",
       "      <th>1</th>\n",
       "      <td>20090201</td>\n",
       "      <td>544241.15</td>\n",
       "    </tr>\n",
       "    <tr>\n",
       "      <th>2</th>\n",
       "      <td>20090301</td>\n",
       "      <td>563502.15</td>\n",
       "    </tr>\n",
       "  </tbody>\n",
       "</table>\n",
       "</div>"
      ],
      "text/plain": [
       "       date      sales\n",
       "0  20090101  741024.20\n",
       "1  20090201  544241.15\n",
       "2  20090301  563502.15"
      ]
     },
     "execution_count": 223,
     "metadata": {},
     "output_type": "execute_result"
    }
   ],
   "source": [
    "result1.limit(3).toPandas()"
   ]
  },
  {
   "cell_type": "markdown",
   "metadata": {},
   "source": [
    "___\n",
    "### spark2 \n",
    "   * ### udf\n",
    "     * can serve as map func "
   ]
  },
  {
   "cell_type": "code",
   "execution_count": 204,
   "metadata": {
    "collapsed": true
   },
   "outputs": [],
   "source": [
    "from pyspark.sql.functions import udf"
   ]
  },
  {
   "cell_type": "code",
   "execution_count": 209,
   "metadata": {
    "collapsed": true
   },
   "outputs": [],
   "source": [
    "myudf = udf(lambda x: int(str(x).split()[0].replace('-','')))"
   ]
  },
  {
   "cell_type": "code",
   "execution_count": 212,
   "metadata": {},
   "outputs": [
    {
     "name": "stdout",
     "output_type": "stream",
     "text": [
      "+-------------------+-----------------+--------+\n",
      "|     OrderMonthYear|       SaleAmount|    date|\n",
      "+-------------------+-----------------+--------+\n",
      "|2009-01-01 00:00:00|741024.2000000001|20090101|\n",
      "|2009-02-01 00:00:00|544241.1499999998|20090201|\n",
      "|2009-03-01 00:00:00|        563502.15|20090301|\n",
      "|2009-04-01 00:00:00|619011.4000000001|20090401|\n",
      "|2009-05-01 00:00:00|641158.6999999998|20090501|\n",
      "+-------------------+-----------------+--------+\n",
      "only showing top 5 rows\n",
      "\n"
     ]
    }
   ],
   "source": [
    "summary.withColumn('date', myudf('OrderMonthYear')).show(5)"
   ]
  },
  {
   "cell_type": "code",
   "execution_count": 218,
   "metadata": {},
   "outputs": [
    {
     "name": "stdout",
     "output_type": "stream",
     "text": [
      "+--------+\n",
      "|    date|\n",
      "+--------+\n",
      "|20090101|\n",
      "|20090201|\n",
      "|20090301|\n",
      "|20090401|\n",
      "|20090501|\n",
      "+--------+\n",
      "only showing top 5 rows\n",
      "\n"
     ]
    }
   ],
   "source": [
    "summary.select(myudf('OrderMonthYear').alias('date')).show(5)"
   ]
  },
  {
   "cell_type": "code",
   "execution_count": 222,
   "metadata": {},
   "outputs": [
    {
     "data": {
      "text/plain": [
       "DataFrame[date: string, sales: string]"
      ]
     },
     "execution_count": 222,
     "metadata": {},
     "output_type": "execute_result"
    }
   ],
   "source": [
    "result2 = summary.select(myudf('OrderMonthYear').alias('date'), \\\n",
    "                         udf(lambda r: round(r,2))('SaleAmount').alias('sales'))\n",
    "result2"
   ]
  },
  {
   "cell_type": "code",
   "execution_count": 224,
   "metadata": {},
   "outputs": [
    {
     "data": {
      "text/html": [
       "<div>\n",
       "<style scoped>\n",
       "    .dataframe tbody tr th:only-of-type {\n",
       "        vertical-align: middle;\n",
       "    }\n",
       "\n",
       "    .dataframe tbody tr th {\n",
       "        vertical-align: top;\n",
       "    }\n",
       "\n",
       "    .dataframe thead th {\n",
       "        text-align: right;\n",
       "    }\n",
       "</style>\n",
       "<table border=\"1\" class=\"dataframe\">\n",
       "  <thead>\n",
       "    <tr style=\"text-align: right;\">\n",
       "      <th></th>\n",
       "      <th>date</th>\n",
       "      <th>sales</th>\n",
       "    </tr>\n",
       "  </thead>\n",
       "  <tbody>\n",
       "    <tr>\n",
       "      <th>0</th>\n",
       "      <td>20090101</td>\n",
       "      <td>741024.2</td>\n",
       "    </tr>\n",
       "    <tr>\n",
       "      <th>1</th>\n",
       "      <td>20090201</td>\n",
       "      <td>544241.15</td>\n",
       "    </tr>\n",
       "    <tr>\n",
       "      <th>2</th>\n",
       "      <td>20090301</td>\n",
       "      <td>563502.15</td>\n",
       "    </tr>\n",
       "  </tbody>\n",
       "</table>\n",
       "</div>"
      ],
      "text/plain": [
       "       date      sales\n",
       "0  20090101   741024.2\n",
       "1  20090201  544241.15\n",
       "2  20090301  563502.15"
      ]
     },
     "execution_count": 224,
     "metadata": {},
     "output_type": "execute_result"
    }
   ],
   "source": [
    "result2.limit(3).toPandas()"
   ]
  },
  {
   "cell_type": "markdown",
   "metadata": {},
   "source": [
    "___\n",
    "### Convert DataFrame to Features and Labels"
   ]
  },
  {
   "cell_type": "code",
   "execution_count": 225,
   "metadata": {
    "collapsed": true
   },
   "outputs": [],
   "source": [
    "from pyspark.mllib.regression import LabeledPoint"
   ]
  },
  {
   "cell_type": "markdown",
   "metadata": {},
   "source": [
    "___\n",
    "* ### manually create data"
   ]
  },
  {
   "cell_type": "code",
   "execution_count": 230,
   "metadata": {
    "collapsed": true
   },
   "outputs": [],
   "source": [
    "from pyspark.ml.linalg import Vector\n",
    "from pyspark.ml.feature import VectorAssembler\n",
    "from pyspark.ml.feature import StringIndexer"
   ]
  },
  {
   "cell_type": "code",
   "execution_count": 232,
   "metadata": {},
   "outputs": [
    {
     "data": {
      "text/html": [
       "<div>\n",
       "<style scoped>\n",
       "    .dataframe tbody tr th:only-of-type {\n",
       "        vertical-align: middle;\n",
       "    }\n",
       "\n",
       "    .dataframe tbody tr th {\n",
       "        vertical-align: top;\n",
       "    }\n",
       "\n",
       "    .dataframe thead th {\n",
       "        text-align: right;\n",
       "    }\n",
       "</style>\n",
       "<table border=\"1\" class=\"dataframe\">\n",
       "  <thead>\n",
       "    <tr style=\"text-align: right;\">\n",
       "      <th></th>\n",
       "      <th>RowID</th>\n",
       "      <th>OrderID</th>\n",
       "      <th>OrderDate</th>\n",
       "      <th>OrderMonthYear</th>\n",
       "      <th>Quantity</th>\n",
       "      <th>Quote</th>\n",
       "      <th>DiscountPct</th>\n",
       "      <th>Rate</th>\n",
       "      <th>SaleAmount</th>\n",
       "      <th>CustomerName</th>\n",
       "      <th>CompanyName</th>\n",
       "      <th>Sector</th>\n",
       "      <th>Industry</th>\n",
       "      <th>City</th>\n",
       "      <th>ZipCode</th>\n",
       "      <th>State</th>\n",
       "      <th>Region</th>\n",
       "      <th>ProjectCompleteDate</th>\n",
       "      <th>DaystoComplete</th>\n",
       "      <th>ProductKey</th>\n",
       "      <th>ProductCategory</th>\n",
       "      <th>ProductSubCategory</th>\n",
       "      <th>Consultant</th>\n",
       "      <th>Manager</th>\n",
       "      <th>HourlyWage</th>\n",
       "      <th>RowCount</th>\n",
       "      <th>WageMargin</th>\n",
       "    </tr>\n",
       "  </thead>\n",
       "  <tbody>\n",
       "    <tr>\n",
       "      <th>0</th>\n",
       "      <td>1</td>\n",
       "      <td>3</td>\n",
       "      <td>2010-10-13</td>\n",
       "      <td>2010-10-01</td>\n",
       "      <td>6</td>\n",
       "      <td>1200</td>\n",
       "      <td>0.04</td>\n",
       "      <td>200</td>\n",
       "      <td>1152.0</td>\n",
       "      <td>Muhammed MacIntyre</td>\n",
       "      <td>CA Inc.</td>\n",
       "      <td>Technology</td>\n",
       "      <td>Computer Software: Prepackaged Software</td>\n",
       "      <td>Highland Park</td>\n",
       "      <td>60035</td>\n",
       "      <td>Illinois</td>\n",
       "      <td>Central</td>\n",
       "      <td>2010-10-20</td>\n",
       "      <td>7</td>\n",
       "      <td>Development - Big Data</td>\n",
       "      <td>Development</td>\n",
       "      <td>Big Data</td>\n",
       "      <td>Ethan Bird</td>\n",
       "      <td>Josh Martinez</td>\n",
       "      <td>60</td>\n",
       "      <td>1</td>\n",
       "      <td>0.70</td>\n",
       "    </tr>\n",
       "    <tr>\n",
       "      <th>1</th>\n",
       "      <td>2</td>\n",
       "      <td>6</td>\n",
       "      <td>2012-02-20</td>\n",
       "      <td>2012-02-01</td>\n",
       "      <td>2</td>\n",
       "      <td>280</td>\n",
       "      <td>0.01</td>\n",
       "      <td>140</td>\n",
       "      <td>277.2</td>\n",
       "      <td>Ruben Staebel</td>\n",
       "      <td>Celgene Corporation</td>\n",
       "      <td>Health Care</td>\n",
       "      <td>Major Pharmaceuticals</td>\n",
       "      <td>Edmonds</td>\n",
       "      <td>98026</td>\n",
       "      <td>Washington</td>\n",
       "      <td>West</td>\n",
       "      <td>2012-02-21</td>\n",
       "      <td>1</td>\n",
       "      <td>Development - Front End Web</td>\n",
       "      <td>Development</td>\n",
       "      <td>Front End Web</td>\n",
       "      <td>Isabella Douglas</td>\n",
       "      <td>Bob Turner</td>\n",
       "      <td>75</td>\n",
       "      <td>1</td>\n",
       "      <td>0.46</td>\n",
       "    </tr>\n",
       "    <tr>\n",
       "      <th>2</th>\n",
       "      <td>3</td>\n",
       "      <td>32</td>\n",
       "      <td>2011-07-15</td>\n",
       "      <td>2011-07-01</td>\n",
       "      <td>26</td>\n",
       "      <td>3250</td>\n",
       "      <td>0.07</td>\n",
       "      <td>125</td>\n",
       "      <td>3022.5</td>\n",
       "      <td>Liz Greer</td>\n",
       "      <td>Twenty-First Century Fox, Inc.</td>\n",
       "      <td>Consumer Services</td>\n",
       "      <td>Television Services</td>\n",
       "      <td>Elk Plain</td>\n",
       "      <td>98387</td>\n",
       "      <td>Washington</td>\n",
       "      <td>West</td>\n",
       "      <td>2011-07-17</td>\n",
       "      <td>2</td>\n",
       "      <td>Training - SQL</td>\n",
       "      <td>Training</td>\n",
       "      <td>SQL</td>\n",
       "      <td>Isabella Douglas</td>\n",
       "      <td>Bob Turner</td>\n",
       "      <td>75</td>\n",
       "      <td>1</td>\n",
       "      <td>0.40</td>\n",
       "    </tr>\n",
       "  </tbody>\n",
       "</table>\n",
       "</div>"
      ],
      "text/plain": [
       "   RowID  OrderID  OrderDate OrderMonthYear  Quantity  Quote  DiscountPct  \\\n",
       "0      1        3 2010-10-13     2010-10-01         6   1200         0.04   \n",
       "1      2        6 2012-02-20     2012-02-01         2    280         0.01   \n",
       "2      3       32 2011-07-15     2011-07-01        26   3250         0.07   \n",
       "\n",
       "   Rate  SaleAmount        CustomerName                     CompanyName  \\\n",
       "0   200      1152.0  Muhammed MacIntyre                         CA Inc.   \n",
       "1   140       277.2       Ruben Staebel             Celgene Corporation   \n",
       "2   125      3022.5           Liz Greer  Twenty-First Century Fox, Inc.   \n",
       "\n",
       "              Sector                                 Industry           City  \\\n",
       "0         Technology  Computer Software: Prepackaged Software  Highland Park   \n",
       "1        Health Care                    Major Pharmaceuticals        Edmonds   \n",
       "2  Consumer Services                      Television Services      Elk Plain   \n",
       "\n",
       "   ZipCode       State   Region ProjectCompleteDate  DaystoComplete  \\\n",
       "0    60035    Illinois  Central          2010-10-20               7   \n",
       "1    98026  Washington     West          2012-02-21               1   \n",
       "2    98387  Washington     West          2011-07-17               2   \n",
       "\n",
       "                    ProductKey ProductCategory ProductSubCategory  \\\n",
       "0       Development - Big Data     Development           Big Data   \n",
       "1  Development - Front End Web     Development      Front End Web   \n",
       "2               Training - SQL        Training                SQL   \n",
       "\n",
       "         Consultant        Manager  HourlyWage  RowCount  WageMargin  \n",
       "0        Ethan Bird  Josh Martinez          60         1        0.70  \n",
       "1  Isabella Douglas     Bob Turner          75         1        0.46  \n",
       "2  Isabella Douglas     Bob Turner          75         1        0.40  "
      ]
     },
     "execution_count": 232,
     "metadata": {},
     "output_type": "execute_result"
    }
   ],
   "source": [
    "df3.limit(3).toPandas()"
   ]
  },
  {
   "cell_type": "markdown",
   "metadata": {},
   "source": [
    "* ###  label encoding"
   ]
  },
  {
   "cell_type": "code",
   "execution_count": 234,
   "metadata": {},
   "outputs": [
    {
     "data": {
      "text/plain": [
       "DataFrame[RowID: int, OrderID: int, OrderDate: timestamp, OrderMonthYear: timestamp, Quantity: int, Quote: int, DiscountPct: double, Rate: int, SaleAmount: double, CustomerName: string, CompanyName: string, Sector: string, Industry: string, City: string, ZipCode: int, State: string, Region: string, ProjectCompleteDate: timestamp, DaystoComplete: int, ProductKey: string, ProductCategory: string, ProductSubCategory: string, Consultant: string, Manager: string, HourlyWage: int, RowCount: int, WageMargin: double, Sector_cat: double, ProductCategory_cat: double]"
      ]
     },
     "execution_count": 234,
     "metadata": {},
     "output_type": "execute_result"
    }
   ],
   "source": [
    "ind_sector = StringIndexer(inputCol='Sector', outputCol='Sector_cat')\n",
    "ind_prodcat = StringIndexer(inputCol='ProductCategory', outputCol='ProductCategory_cat')\n",
    "df4 = ind_sector.fit(df3).transform(df3)\n",
    "df4 = ind_prodcat.fit(df4).transform(df4)\n",
    "df4"
   ]
  },
  {
   "cell_type": "code",
   "execution_count": 235,
   "metadata": {},
   "outputs": [
    {
     "data": {
      "text/html": [
       "<div>\n",
       "<style scoped>\n",
       "    .dataframe tbody tr th:only-of-type {\n",
       "        vertical-align: middle;\n",
       "    }\n",
       "\n",
       "    .dataframe tbody tr th {\n",
       "        vertical-align: top;\n",
       "    }\n",
       "\n",
       "    .dataframe thead th {\n",
       "        text-align: right;\n",
       "    }\n",
       "</style>\n",
       "<table border=\"1\" class=\"dataframe\">\n",
       "  <thead>\n",
       "    <tr style=\"text-align: right;\">\n",
       "      <th></th>\n",
       "      <th>RowID</th>\n",
       "      <th>OrderID</th>\n",
       "      <th>OrderDate</th>\n",
       "      <th>OrderMonthYear</th>\n",
       "      <th>Quantity</th>\n",
       "      <th>Quote</th>\n",
       "      <th>DiscountPct</th>\n",
       "      <th>Rate</th>\n",
       "      <th>SaleAmount</th>\n",
       "      <th>CustomerName</th>\n",
       "      <th>CompanyName</th>\n",
       "      <th>Sector</th>\n",
       "      <th>Industry</th>\n",
       "      <th>City</th>\n",
       "      <th>ZipCode</th>\n",
       "      <th>State</th>\n",
       "      <th>Region</th>\n",
       "      <th>ProjectCompleteDate</th>\n",
       "      <th>DaystoComplete</th>\n",
       "      <th>ProductKey</th>\n",
       "      <th>ProductCategory</th>\n",
       "      <th>ProductSubCategory</th>\n",
       "      <th>Consultant</th>\n",
       "      <th>Manager</th>\n",
       "      <th>HourlyWage</th>\n",
       "      <th>RowCount</th>\n",
       "      <th>WageMargin</th>\n",
       "      <th>Sector_cat</th>\n",
       "      <th>ProductCategory_cat</th>\n",
       "    </tr>\n",
       "  </thead>\n",
       "  <tbody>\n",
       "    <tr>\n",
       "      <th>0</th>\n",
       "      <td>1</td>\n",
       "      <td>3</td>\n",
       "      <td>2010-10-13</td>\n",
       "      <td>2010-10-01</td>\n",
       "      <td>6</td>\n",
       "      <td>1200</td>\n",
       "      <td>0.04</td>\n",
       "      <td>200</td>\n",
       "      <td>1152.0</td>\n",
       "      <td>Muhammed MacIntyre</td>\n",
       "      <td>CA Inc.</td>\n",
       "      <td>Technology</td>\n",
       "      <td>Computer Software: Prepackaged Software</td>\n",
       "      <td>Highland Park</td>\n",
       "      <td>60035</td>\n",
       "      <td>Illinois</td>\n",
       "      <td>Central</td>\n",
       "      <td>2010-10-20</td>\n",
       "      <td>7</td>\n",
       "      <td>Development - Big Data</td>\n",
       "      <td>Development</td>\n",
       "      <td>Big Data</td>\n",
       "      <td>Ethan Bird</td>\n",
       "      <td>Josh Martinez</td>\n",
       "      <td>60</td>\n",
       "      <td>1</td>\n",
       "      <td>0.70</td>\n",
       "      <td>0.0</td>\n",
       "      <td>0.0</td>\n",
       "    </tr>\n",
       "    <tr>\n",
       "      <th>1</th>\n",
       "      <td>2</td>\n",
       "      <td>6</td>\n",
       "      <td>2012-02-20</td>\n",
       "      <td>2012-02-01</td>\n",
       "      <td>2</td>\n",
       "      <td>280</td>\n",
       "      <td>0.01</td>\n",
       "      <td>140</td>\n",
       "      <td>277.2</td>\n",
       "      <td>Ruben Staebel</td>\n",
       "      <td>Celgene Corporation</td>\n",
       "      <td>Health Care</td>\n",
       "      <td>Major Pharmaceuticals</td>\n",
       "      <td>Edmonds</td>\n",
       "      <td>98026</td>\n",
       "      <td>Washington</td>\n",
       "      <td>West</td>\n",
       "      <td>2012-02-21</td>\n",
       "      <td>1</td>\n",
       "      <td>Development - Front End Web</td>\n",
       "      <td>Development</td>\n",
       "      <td>Front End Web</td>\n",
       "      <td>Isabella Douglas</td>\n",
       "      <td>Bob Turner</td>\n",
       "      <td>75</td>\n",
       "      <td>1</td>\n",
       "      <td>0.46</td>\n",
       "      <td>2.0</td>\n",
       "      <td>0.0</td>\n",
       "    </tr>\n",
       "    <tr>\n",
       "      <th>2</th>\n",
       "      <td>3</td>\n",
       "      <td>32</td>\n",
       "      <td>2011-07-15</td>\n",
       "      <td>2011-07-01</td>\n",
       "      <td>26</td>\n",
       "      <td>3250</td>\n",
       "      <td>0.07</td>\n",
       "      <td>125</td>\n",
       "      <td>3022.5</td>\n",
       "      <td>Liz Greer</td>\n",
       "      <td>Twenty-First Century Fox, Inc.</td>\n",
       "      <td>Consumer Services</td>\n",
       "      <td>Television Services</td>\n",
       "      <td>Elk Plain</td>\n",
       "      <td>98387</td>\n",
       "      <td>Washington</td>\n",
       "      <td>West</td>\n",
       "      <td>2011-07-17</td>\n",
       "      <td>2</td>\n",
       "      <td>Training - SQL</td>\n",
       "      <td>Training</td>\n",
       "      <td>SQL</td>\n",
       "      <td>Isabella Douglas</td>\n",
       "      <td>Bob Turner</td>\n",
       "      <td>75</td>\n",
       "      <td>1</td>\n",
       "      <td>0.40</td>\n",
       "      <td>1.0</td>\n",
       "      <td>2.0</td>\n",
       "    </tr>\n",
       "  </tbody>\n",
       "</table>\n",
       "</div>"
      ],
      "text/plain": [
       "   RowID  OrderID  OrderDate OrderMonthYear  Quantity  Quote  DiscountPct  \\\n",
       "0      1        3 2010-10-13     2010-10-01         6   1200         0.04   \n",
       "1      2        6 2012-02-20     2012-02-01         2    280         0.01   \n",
       "2      3       32 2011-07-15     2011-07-01        26   3250         0.07   \n",
       "\n",
       "   Rate  SaleAmount        CustomerName                     CompanyName  \\\n",
       "0   200      1152.0  Muhammed MacIntyre                         CA Inc.   \n",
       "1   140       277.2       Ruben Staebel             Celgene Corporation   \n",
       "2   125      3022.5           Liz Greer  Twenty-First Century Fox, Inc.   \n",
       "\n",
       "              Sector                                 Industry           City  \\\n",
       "0         Technology  Computer Software: Prepackaged Software  Highland Park   \n",
       "1        Health Care                    Major Pharmaceuticals        Edmonds   \n",
       "2  Consumer Services                      Television Services      Elk Plain   \n",
       "\n",
       "   ZipCode       State   Region ProjectCompleteDate  DaystoComplete  \\\n",
       "0    60035    Illinois  Central          2010-10-20               7   \n",
       "1    98026  Washington     West          2012-02-21               1   \n",
       "2    98387  Washington     West          2011-07-17               2   \n",
       "\n",
       "                    ProductKey ProductCategory ProductSubCategory  \\\n",
       "0       Development - Big Data     Development           Big Data   \n",
       "1  Development - Front End Web     Development      Front End Web   \n",
       "2               Training - SQL        Training                SQL   \n",
       "\n",
       "         Consultant        Manager  HourlyWage  RowCount  WageMargin  \\\n",
       "0        Ethan Bird  Josh Martinez          60         1        0.70   \n",
       "1  Isabella Douglas     Bob Turner          75         1        0.46   \n",
       "2  Isabella Douglas     Bob Turner          75         1        0.40   \n",
       "\n",
       "   Sector_cat  ProductCategory_cat  \n",
       "0         0.0                  0.0  \n",
       "1         2.0                  0.0  \n",
       "2         1.0                  2.0  "
      ]
     },
     "execution_count": 235,
     "metadata": {},
     "output_type": "execute_result"
    }
   ],
   "source": [
    "df4.limit(3).toPandas()"
   ]
  },
  {
   "cell_type": "code",
   "execution_count": 237,
   "metadata": {},
   "outputs": [
    {
     "name": "stdout",
     "output_type": "stream",
     "text": [
      "['RowID', 'OrderID', 'OrderDate', 'OrderMonthYear', 'Quantity', 'Quote', 'DiscountPct', 'Rate', 'SaleAmount', 'CustomerName', 'CompanyName', 'Sector', 'Industry', 'City', 'ZipCode', 'State', 'Region', 'ProjectCompleteDate', 'DaystoComplete', 'ProductKey', 'ProductCategory', 'ProductSubCategory', 'Consultant', 'Manager', 'HourlyWage', 'RowCount', 'WageMargin', 'Sector_cat', 'ProductCategory_cat']\n"
     ]
    }
   ],
   "source": [
    "print df4.columns"
   ]
  },
  {
   "cell_type": "code",
   "execution_count": 239,
   "metadata": {},
   "outputs": [
    {
     "data": {
      "text/plain": [
       "(8399, 48)"
      ]
     },
     "execution_count": 239,
     "metadata": {},
     "output_type": "execute_result"
    }
   ],
   "source": [
    "df4.count(), result2.count()"
   ]
  },
  {
   "cell_type": "code",
   "execution_count": 255,
   "metadata": {},
   "outputs": [
    {
     "data": {
      "text/plain": [
       "DataFrame[RowID: int, OrderID: int, OrderDate: timestamp, OrderMonthYear: timestamp, Quantity: int, Quote: int, DiscountPct: double, Rate: int, SaleAmount: double, CustomerName: string, CompanyName: string, Sector: string, Industry: string, City: string, ZipCode: int, State: string, Region: string, ProjectCompleteDate: timestamp, DaystoComplete: int, ProductKey: string, ProductCategory: string, ProductSubCategory: string, Consultant: string, Manager: string, HourlyWage: int, RowCount: int, WageMargin: double, Sector_cat: double, ProductCategory_cat: double, Date: int]"
      ]
     },
     "execution_count": 255,
     "metadata": {},
     "output_type": "execute_result"
    }
   ],
   "source": [
    "df5 = df4.withColumn('Date', udf(lambda r: int(str(r).split()[0].replace('-','')))('OrderDate').cast('int'))\n",
    "df5"
   ]
  },
  {
   "cell_type": "code",
   "execution_count": 256,
   "metadata": {},
   "outputs": [
    {
     "data": {
      "text/html": [
       "<div>\n",
       "<style scoped>\n",
       "    .dataframe tbody tr th:only-of-type {\n",
       "        vertical-align: middle;\n",
       "    }\n",
       "\n",
       "    .dataframe tbody tr th {\n",
       "        vertical-align: top;\n",
       "    }\n",
       "\n",
       "    .dataframe thead th {\n",
       "        text-align: right;\n",
       "    }\n",
       "</style>\n",
       "<table border=\"1\" class=\"dataframe\">\n",
       "  <thead>\n",
       "    <tr style=\"text-align: right;\">\n",
       "      <th></th>\n",
       "      <th>RowID</th>\n",
       "      <th>OrderID</th>\n",
       "      <th>OrderDate</th>\n",
       "      <th>OrderMonthYear</th>\n",
       "      <th>Quantity</th>\n",
       "      <th>Quote</th>\n",
       "      <th>DiscountPct</th>\n",
       "      <th>Rate</th>\n",
       "      <th>SaleAmount</th>\n",
       "      <th>CustomerName</th>\n",
       "      <th>CompanyName</th>\n",
       "      <th>Sector</th>\n",
       "      <th>Industry</th>\n",
       "      <th>City</th>\n",
       "      <th>ZipCode</th>\n",
       "      <th>State</th>\n",
       "      <th>Region</th>\n",
       "      <th>ProjectCompleteDate</th>\n",
       "      <th>DaystoComplete</th>\n",
       "      <th>ProductKey</th>\n",
       "      <th>ProductCategory</th>\n",
       "      <th>ProductSubCategory</th>\n",
       "      <th>Consultant</th>\n",
       "      <th>Manager</th>\n",
       "      <th>HourlyWage</th>\n",
       "      <th>RowCount</th>\n",
       "      <th>WageMargin</th>\n",
       "      <th>Sector_cat</th>\n",
       "      <th>ProductCategory_cat</th>\n",
       "      <th>Date</th>\n",
       "    </tr>\n",
       "  </thead>\n",
       "  <tbody>\n",
       "    <tr>\n",
       "      <th>0</th>\n",
       "      <td>1</td>\n",
       "      <td>3</td>\n",
       "      <td>2010-10-13</td>\n",
       "      <td>2010-10-01</td>\n",
       "      <td>6</td>\n",
       "      <td>1200</td>\n",
       "      <td>0.04</td>\n",
       "      <td>200</td>\n",
       "      <td>1152.0</td>\n",
       "      <td>Muhammed MacIntyre</td>\n",
       "      <td>CA Inc.</td>\n",
       "      <td>Technology</td>\n",
       "      <td>Computer Software: Prepackaged Software</td>\n",
       "      <td>Highland Park</td>\n",
       "      <td>60035</td>\n",
       "      <td>Illinois</td>\n",
       "      <td>Central</td>\n",
       "      <td>2010-10-20</td>\n",
       "      <td>7</td>\n",
       "      <td>Development - Big Data</td>\n",
       "      <td>Development</td>\n",
       "      <td>Big Data</td>\n",
       "      <td>Ethan Bird</td>\n",
       "      <td>Josh Martinez</td>\n",
       "      <td>60</td>\n",
       "      <td>1</td>\n",
       "      <td>0.70</td>\n",
       "      <td>0.0</td>\n",
       "      <td>0.0</td>\n",
       "      <td>20101013</td>\n",
       "    </tr>\n",
       "    <tr>\n",
       "      <th>1</th>\n",
       "      <td>2</td>\n",
       "      <td>6</td>\n",
       "      <td>2012-02-20</td>\n",
       "      <td>2012-02-01</td>\n",
       "      <td>2</td>\n",
       "      <td>280</td>\n",
       "      <td>0.01</td>\n",
       "      <td>140</td>\n",
       "      <td>277.2</td>\n",
       "      <td>Ruben Staebel</td>\n",
       "      <td>Celgene Corporation</td>\n",
       "      <td>Health Care</td>\n",
       "      <td>Major Pharmaceuticals</td>\n",
       "      <td>Edmonds</td>\n",
       "      <td>98026</td>\n",
       "      <td>Washington</td>\n",
       "      <td>West</td>\n",
       "      <td>2012-02-21</td>\n",
       "      <td>1</td>\n",
       "      <td>Development - Front End Web</td>\n",
       "      <td>Development</td>\n",
       "      <td>Front End Web</td>\n",
       "      <td>Isabella Douglas</td>\n",
       "      <td>Bob Turner</td>\n",
       "      <td>75</td>\n",
       "      <td>1</td>\n",
       "      <td>0.46</td>\n",
       "      <td>2.0</td>\n",
       "      <td>0.0</td>\n",
       "      <td>20120220</td>\n",
       "    </tr>\n",
       "    <tr>\n",
       "      <th>2</th>\n",
       "      <td>3</td>\n",
       "      <td>32</td>\n",
       "      <td>2011-07-15</td>\n",
       "      <td>2011-07-01</td>\n",
       "      <td>26</td>\n",
       "      <td>3250</td>\n",
       "      <td>0.07</td>\n",
       "      <td>125</td>\n",
       "      <td>3022.5</td>\n",
       "      <td>Liz Greer</td>\n",
       "      <td>Twenty-First Century Fox, Inc.</td>\n",
       "      <td>Consumer Services</td>\n",
       "      <td>Television Services</td>\n",
       "      <td>Elk Plain</td>\n",
       "      <td>98387</td>\n",
       "      <td>Washington</td>\n",
       "      <td>West</td>\n",
       "      <td>2011-07-17</td>\n",
       "      <td>2</td>\n",
       "      <td>Training - SQL</td>\n",
       "      <td>Training</td>\n",
       "      <td>SQL</td>\n",
       "      <td>Isabella Douglas</td>\n",
       "      <td>Bob Turner</td>\n",
       "      <td>75</td>\n",
       "      <td>1</td>\n",
       "      <td>0.40</td>\n",
       "      <td>1.0</td>\n",
       "      <td>2.0</td>\n",
       "      <td>20110715</td>\n",
       "    </tr>\n",
       "  </tbody>\n",
       "</table>\n",
       "</div>"
      ],
      "text/plain": [
       "   RowID  OrderID  OrderDate OrderMonthYear  Quantity  Quote  DiscountPct  \\\n",
       "0      1        3 2010-10-13     2010-10-01         6   1200         0.04   \n",
       "1      2        6 2012-02-20     2012-02-01         2    280         0.01   \n",
       "2      3       32 2011-07-15     2011-07-01        26   3250         0.07   \n",
       "\n",
       "   Rate  SaleAmount        CustomerName                     CompanyName  \\\n",
       "0   200      1152.0  Muhammed MacIntyre                         CA Inc.   \n",
       "1   140       277.2       Ruben Staebel             Celgene Corporation   \n",
       "2   125      3022.5           Liz Greer  Twenty-First Century Fox, Inc.   \n",
       "\n",
       "              Sector                                 Industry           City  \\\n",
       "0         Technology  Computer Software: Prepackaged Software  Highland Park   \n",
       "1        Health Care                    Major Pharmaceuticals        Edmonds   \n",
       "2  Consumer Services                      Television Services      Elk Plain   \n",
       "\n",
       "   ZipCode       State   Region ProjectCompleteDate  DaystoComplete  \\\n",
       "0    60035    Illinois  Central          2010-10-20               7   \n",
       "1    98026  Washington     West          2012-02-21               1   \n",
       "2    98387  Washington     West          2011-07-17               2   \n",
       "\n",
       "                    ProductKey ProductCategory ProductSubCategory  \\\n",
       "0       Development - Big Data     Development           Big Data   \n",
       "1  Development - Front End Web     Development      Front End Web   \n",
       "2               Training - SQL        Training                SQL   \n",
       "\n",
       "         Consultant        Manager  HourlyWage  RowCount  WageMargin  \\\n",
       "0        Ethan Bird  Josh Martinez          60         1        0.70   \n",
       "1  Isabella Douglas     Bob Turner          75         1        0.46   \n",
       "2  Isabella Douglas     Bob Turner          75         1        0.40   \n",
       "\n",
       "   Sector_cat  ProductCategory_cat      Date  \n",
       "0         0.0                  0.0  20101013  \n",
       "1         2.0                  0.0  20120220  \n",
       "2         1.0                  2.0  20110715  "
      ]
     },
     "execution_count": 256,
     "metadata": {},
     "output_type": "execute_result"
    }
   ],
   "source": [
    "df5.limit(3).toPandas()"
   ]
  },
  {
   "cell_type": "code",
   "execution_count": 258,
   "metadata": {},
   "outputs": [
    {
     "data": {
      "text/plain": [
       "VectorAssembler_40c4812aad8581232349"
      ]
     },
     "execution_count": 258,
     "metadata": {},
     "output_type": "execute_result"
    }
   ],
   "source": [
    "ass = VectorAssembler(inputCols=['Quantity','Quote','DiscountPct','Rate','HourlyWage','Sector_cat','ProductCategory_cat','Date']\n",
    "                     , outputCol='features')\n",
    "ass"
   ]
  },
  {
   "cell_type": "code",
   "execution_count": 259,
   "metadata": {},
   "outputs": [
    {
     "data": {
      "text/plain": [
       "DataFrame[RowID: int, OrderID: int, OrderDate: timestamp, OrderMonthYear: timestamp, Quantity: int, Quote: int, DiscountPct: double, Rate: int, SaleAmount: double, CustomerName: string, CompanyName: string, Sector: string, Industry: string, City: string, ZipCode: int, State: string, Region: string, ProjectCompleteDate: timestamp, DaystoComplete: int, ProductKey: string, ProductCategory: string, ProductSubCategory: string, Consultant: string, Manager: string, HourlyWage: int, RowCount: int, WageMargin: double, Sector_cat: double, ProductCategory_cat: double, Date: int, features: vector]"
      ]
     },
     "execution_count": 259,
     "metadata": {},
     "output_type": "execute_result"
    }
   ],
   "source": [
    "output=ass.transform(df5)\n",
    "output"
   ]
  },
  {
   "cell_type": "code",
   "execution_count": 263,
   "metadata": {},
   "outputs": [
    {
     "data": {
      "text/html": [
       "<div>\n",
       "<style scoped>\n",
       "    .dataframe tbody tr th:only-of-type {\n",
       "        vertical-align: middle;\n",
       "    }\n",
       "\n",
       "    .dataframe tbody tr th {\n",
       "        vertical-align: top;\n",
       "    }\n",
       "\n",
       "    .dataframe thead th {\n",
       "        text-align: right;\n",
       "    }\n",
       "</style>\n",
       "<table border=\"1\" class=\"dataframe\">\n",
       "  <thead>\n",
       "    <tr style=\"text-align: right;\">\n",
       "      <th></th>\n",
       "      <th>features</th>\n",
       "      <th>SaleAmount</th>\n",
       "    </tr>\n",
       "  </thead>\n",
       "  <tbody>\n",
       "    <tr>\n",
       "      <th>0</th>\n",
       "      <td>[6.0, 1200.0, 0.04, 200.0, 60.0, 0.0, 0.0, 201...</td>\n",
       "      <td>1152.0</td>\n",
       "    </tr>\n",
       "    <tr>\n",
       "      <th>1</th>\n",
       "      <td>[2.0, 280.0, 0.01, 140.0, 75.0, 2.0, 0.0, 2012...</td>\n",
       "      <td>277.2</td>\n",
       "    </tr>\n",
       "    <tr>\n",
       "      <th>2</th>\n",
       "      <td>[26.0, 3250.0, 0.07, 125.0, 75.0, 1.0, 2.0, 20...</td>\n",
       "      <td>3022.5</td>\n",
       "    </tr>\n",
       "  </tbody>\n",
       "</table>\n",
       "</div>"
      ],
      "text/plain": [
       "                                            features  SaleAmount\n",
       "0  [6.0, 1200.0, 0.04, 200.0, 60.0, 0.0, 0.0, 201...      1152.0\n",
       "1  [2.0, 280.0, 0.01, 140.0, 75.0, 2.0, 0.0, 2012...       277.2\n",
       "2  [26.0, 3250.0, 0.07, 125.0, 75.0, 1.0, 2.0, 20...      3022.5"
      ]
     },
     "execution_count": 263,
     "metadata": {},
     "output_type": "execute_result"
    }
   ],
   "source": [
    "output.limit(3).select('features','SaleAmount').toPandas()"
   ]
  },
  {
   "cell_type": "markdown",
   "metadata": {},
   "source": [
    "* change column name"
   ]
  },
  {
   "cell_type": "code",
   "execution_count": 266,
   "metadata": {
    "collapsed": true
   },
   "outputs": [],
   "source": [
    "from pyspark.sql.functions import col"
   ]
  },
  {
   "cell_type": "code",
   "execution_count": 267,
   "metadata": {},
   "outputs": [
    {
     "data": {
      "text/html": [
       "<div>\n",
       "<style scoped>\n",
       "    .dataframe tbody tr th:only-of-type {\n",
       "        vertical-align: middle;\n",
       "    }\n",
       "\n",
       "    .dataframe tbody tr th {\n",
       "        vertical-align: top;\n",
       "    }\n",
       "\n",
       "    .dataframe thead th {\n",
       "        text-align: right;\n",
       "    }\n",
       "</style>\n",
       "<table border=\"1\" class=\"dataframe\">\n",
       "  <thead>\n",
       "    <tr style=\"text-align: right;\">\n",
       "      <th></th>\n",
       "      <th>features</th>\n",
       "      <th>sales</th>\n",
       "    </tr>\n",
       "  </thead>\n",
       "  <tbody>\n",
       "    <tr>\n",
       "      <th>0</th>\n",
       "      <td>[6.0, 1200.0, 0.04, 200.0, 60.0, 0.0, 0.0, 201...</td>\n",
       "      <td>1152.0</td>\n",
       "    </tr>\n",
       "    <tr>\n",
       "      <th>1</th>\n",
       "      <td>[2.0, 280.0, 0.01, 140.0, 75.0, 2.0, 0.0, 2012...</td>\n",
       "      <td>277.2</td>\n",
       "    </tr>\n",
       "    <tr>\n",
       "      <th>2</th>\n",
       "      <td>[26.0, 3250.0, 0.07, 125.0, 75.0, 1.0, 2.0, 20...</td>\n",
       "      <td>3022.5</td>\n",
       "    </tr>\n",
       "  </tbody>\n",
       "</table>\n",
       "</div>"
      ],
      "text/plain": [
       "                                            features   sales\n",
       "0  [6.0, 1200.0, 0.04, 200.0, 60.0, 0.0, 0.0, 201...  1152.0\n",
       "1  [2.0, 280.0, 0.01, 140.0, 75.0, 2.0, 0.0, 2012...   277.2\n",
       "2  [26.0, 3250.0, 0.07, 125.0, 75.0, 1.0, 2.0, 20...  3022.5"
      ]
     },
     "execution_count": 267,
     "metadata": {},
     "output_type": "execute_result"
    }
   ],
   "source": [
    "output.limit(3).select('features', col('SaleAmount').alias('sales')).toPandas()"
   ]
  },
  {
   "cell_type": "markdown",
   "metadata": {},
   "source": [
    "___"
   ]
  },
  {
   "cell_type": "code",
   "execution_count": 269,
   "metadata": {},
   "outputs": [
    {
     "data": {
      "text/plain": [
       "(5848, 2551)"
      ]
     },
     "execution_count": 269,
     "metadata": {},
     "output_type": "execute_result"
    }
   ],
   "source": [
    "train, test = output.select(['features',col('SaleAmount').alias('sales')]).randomSplit([0.7, 0.3])\n",
    "train.count(), test.count()"
   ]
  },
  {
   "cell_type": "code",
   "execution_count": 271,
   "metadata": {},
   "outputs": [
    {
     "name": "stdout",
     "output_type": "stream",
     "text": [
      "+-------+-----------------+\n",
      "|summary|            sales|\n",
      "+-------+-----------------+\n",
      "|  count|             5848|\n",
      "|   mean|3463.255001709985|\n",
      "| stddev|2074.125404385261|\n",
      "|    min|             99.0|\n",
      "|    max|           9900.0|\n",
      "+-------+-----------------+\n",
      "\n"
     ]
    }
   ],
   "source": [
    "train.describe().show()"
   ]
  },
  {
   "cell_type": "markdown",
   "metadata": {},
   "source": [
    "### Linear Regression"
   ]
  },
  {
   "cell_type": "code",
   "execution_count": 272,
   "metadata": {
    "collapsed": true
   },
   "outputs": [],
   "source": [
    "from pyspark.ml.regression import LinearRegression"
   ]
  },
  {
   "cell_type": "code",
   "execution_count": 330,
   "metadata": {},
   "outputs": [
    {
     "data": {
      "text/plain": [
       "LinearRegression_4840b223e53f737fddeb"
      ]
     },
     "execution_count": 330,
     "metadata": {},
     "output_type": "execute_result"
    }
   ],
   "source": [
    "lr = LinearRegression(labelCol='sales', regParam=0, elasticNetParam=0.5)\n",
    "lr"
   ]
  },
  {
   "cell_type": "code",
   "execution_count": 331,
   "metadata": {},
   "outputs": [
    {
     "name": "stdout",
     "output_type": "stream",
     "text": [
      "CPU times: user 24 ms, sys: 8 ms, total: 32 ms\n",
      "Wall time: 1.44 s\n"
     ]
    }
   ],
   "source": [
    "%%time\n",
    "train_model = lr.fit(train, {lr.regParam:1})"
   ]
  },
  {
   "cell_type": "code",
   "execution_count": 332,
   "metadata": {},
   "outputs": [
    {
     "data": {
      "text/plain": [
       "<pyspark.ml.regression.LinearRegressionSummary at 0x7f4309b77d50>"
      ]
     },
     "execution_count": 332,
     "metadata": {},
     "output_type": "execute_result"
    }
   ],
   "source": [
    "model_results = train_model.evaluate(test)\n",
    "model_results"
   ]
  },
  {
   "cell_type": "code",
   "execution_count": 333,
   "metadata": {},
   "outputs": [
    {
     "data": {
      "text/plain": [
       "(0.9988844543410129, 70.5595129084564)"
      ]
     },
     "execution_count": 333,
     "metadata": {},
     "output_type": "execute_result"
    }
   ],
   "source": [
    "model_results.r2, model_results.rootMeanSquaredError"
   ]
  },
  {
   "cell_type": "code",
   "execution_count": 283,
   "metadata": {},
   "outputs": [
    {
     "name": "stdout",
     "output_type": "stream",
     "text": [
      "+-------+-----------------+------------------+\n",
      "|summary|            sales|        prediction|\n",
      "+-------+-----------------+------------------+\n",
      "|  count|             5848|              5848|\n",
      "|   mean|3463.255001709985|3463.2550017099793|\n",
      "| stddev|2074.125404385261|2072.9412274685274|\n",
      "|    min|             99.0|-314.7971127491278|\n",
      "|    max|           9900.0| 9651.274433369581|\n",
      "+-------+-----------------+------------------+\n",
      "\n"
     ]
    }
   ],
   "source": [
    "train_model.summary.predictions.describe().show()"
   ]
  },
  {
   "cell_type": "markdown",
   "metadata": {},
   "source": [
    "___"
   ]
  },
  {
   "cell_type": "markdown",
   "metadata": {},
   "source": [
    "### Streaming"
   ]
  },
  {
   "cell_type": "code",
   "execution_count": 334,
   "metadata": {
    "collapsed": true
   },
   "outputs": [],
   "source": [
    "from pyspark.sql.functions import explode, split"
   ]
  },
  {
   "cell_type": "code",
   "execution_count": 339,
   "metadata": {
    "collapsed": true
   },
   "outputs": [],
   "source": [
    "from pyspark.sql import Row"
   ]
  },
  {
   "cell_type": "code",
   "execution_count": 349,
   "metadata": {},
   "outputs": [
    {
     "name": "stdout",
     "output_type": "stream",
     "text": [
      "+---+---+------+\n",
      "|  a|  B|     c|\n",
      "+---+---+------+\n",
      "|  1|  2|   3 6|\n",
      "| 99| 66|77 666|\n",
      "+---+---+------+\n",
      "\n"
     ]
    }
   ],
   "source": [
    "mock = spark.createDataFrame([(1,2,'3 6'),(99,66,'77 666')], ['a','B','c'])\n",
    "mock.show()"
   ]
  },
  {
   "cell_type": "markdown",
   "metadata": {},
   "source": [
    "* ### split"
   ]
  },
  {
   "cell_type": "code",
   "execution_count": 361,
   "metadata": {},
   "outputs": [
    {
     "name": "stdout",
     "output_type": "stream",
     "text": [
      "+---------+\n",
      "|  splited|\n",
      "+---------+\n",
      "|   [3, 6]|\n",
      "|[77, 666]|\n",
      "+---------+\n",
      "\n"
     ]
    }
   ],
   "source": [
    "mock.select(split(mock.c, ' ').alias('splited')).show()"
   ]
  },
  {
   "cell_type": "markdown",
   "metadata": {},
   "source": [
    "* ### explode"
   ]
  },
  {
   "cell_type": "code",
   "execution_count": 364,
   "metadata": {},
   "outputs": [
    {
     "name": "stdout",
     "output_type": "stream",
     "text": [
      "+---+\n",
      "|col|\n",
      "+---+\n",
      "|  3|\n",
      "|  6|\n",
      "| 77|\n",
      "|666|\n",
      "+---+\n",
      "\n"
     ]
    }
   ],
   "source": [
    "mock.select(explode(split(mock.c, ' '))).show()"
   ]
  },
  {
   "cell_type": "code",
   "execution_count": null,
   "metadata": {
    "collapsed": true
   },
   "outputs": [],
   "source": []
  }
 ],
 "metadata": {
  "kernelspec": {
   "display_name": "Python 2",
   "language": "python",
   "name": "python2"
  },
  "language_info": {
   "codemirror_mode": {
    "name": "ipython",
    "version": 2
   },
   "file_extension": ".py",
   "mimetype": "text/x-python",
   "name": "python",
   "nbconvert_exporter": "python",
   "pygments_lexer": "ipython2",
   "version": "2.7.13"
  }
 },
 "nbformat": 4,
 "nbformat_minor": 2
}
